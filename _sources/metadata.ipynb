{
 "cells": [
  {
   "cell_type": "markdown",
   "id": "5072b3bc",
   "metadata": {},
   "source": [
    "```{currentmodule} tskit\n",
    "```\n",
    "\n",
    "\n",
    "(sec_tutorial_metadata)=\n",
    "\n",
    "# Working with Metadata\n",
    "\n",
    "Metadata is information associated with entities that {program}`tskit` doesn't use or\n",
    "interpret, but which is useful to pass on to downstream analysis such as sample ids,\n",
    "dates etc. (see {ref}`sec_metadata` for a full discussion). Each\n",
    "{ref}`table<sec_tables_api_tables>` has a {class}`MetadataSchema` which details the\n",
    "contents and encoding of the metadata for each row. A metadata schema is a JSON document\n",
    "that conforms to [JSON Schema](https://json-schema.org/understanding-json-schema/)\n",
    "(The full schema for tskit is at {ref}`sec_metadata_schema_schema`). Here we use an\n",
    "existing tree sequence which contains some demonstration metadata:"
   ]
  },
  {
   "cell_type": "code",
   "execution_count": 1,
   "id": "5bd48c7c",
   "metadata": {
    "tags": [
     "remove-cell"
    ]
   },
   "outputs": [],
   "source": [
    "import msprime\n",
    "import tskit\n",
    "\n",
    "def metadata():\n",
    "    tables = msprime.sim_ancestry(4).dump_tables()\n",
    "    tables.individuals.metadata_schema = tskit.MetadataSchema(\n",
    "    {'additionalProperties': False,\n",
    "     'codec': 'json',\n",
    "     'properties': {'accession': {'description': 'ENA accession number',\n",
    "                                  'type': 'string'},\n",
    "                    'pcr': {'description': 'Was PCR used on this sample',\n",
    "                            'name': 'PCR Used',\n",
    "                            'type': 'boolean'}},\n",
    "     'required': ['accession', 'pcr'],\n",
    "     'type': 'object'}\n",
    "    )\n",
    "    md = [\n",
    "        {'accession': 'ERS0001', 'pcr': True},\n",
    "        {'accession': 'ERS0002', 'pcr': True},\n",
    "        {'accession': 'ERS0003', 'pcr': True},\n",
    "        {'accession': 'ERS0004', 'pcr': False},\n",
    "    ]\n",
    "    table = tables.individuals\n",
    "    copy = table.copy()\n",
    "    table.clear()\n",
    "    for m, row in zip(md, copy):\n",
    "        table.append(row.replace(metadata=m))\n",
    "    ts = tables.tree_sequence()\n",
    "    ts.dump(\"data/metadata.trees\")\n",
    "\n",
    "def create_notebook_data():\n",
    "    metadata()\n",
    "\n",
    "# create_notebook_data()  # uncomment to recreate the tree seqs used in this notebook"
   ]
  },
  {
   "cell_type": "code",
   "execution_count": 2,
   "id": "15b76cae",
   "metadata": {},
   "outputs": [],
   "source": [
    "import tskit\n",
    "import json\n",
    "\n",
    "ts = tskit.load(\"data/metadata.trees\")"
   ]
  },
  {
   "cell_type": "markdown",
   "id": "9b5ca489",
   "metadata": {},
   "source": [
    "## Reading metadata and schemas\n",
    "\n",
    "Metadata is automatically decoded using the schema when accessed via a\n",
    "{class}`TreeSequence` or {class}`TableCollection` Python API. For example:"
   ]
  },
  {
   "cell_type": "code",
   "execution_count": 3,
   "id": "26592c87",
   "metadata": {},
   "outputs": [
    {
     "name": "stdout",
     "output_type": "stream",
     "text": [
      "Metadata for individual 0: {'accession': 'ERS0001', 'pcr': True}\n",
      "Metadata for individual 0: {'accession': 'ERS0001', 'pcr': True}\n"
     ]
    }
   ],
   "source": [
    "print(\"Metadata for individual 0:\", ts.individual(0).metadata)  # Tree sequence access\n",
    "print(\"Metadata for individual 0:\", ts.tables.individuals[0].metadata)  # Table access"
   ]
  },
  {
   "cell_type": "markdown",
   "id": "f64c0f50",
   "metadata": {},
   "source": [
    "Viewing the {class}`MetadataSchema` for a table can help with understanding\n",
    "its metadata, as it can contain descriptions and constraints:"
   ]
  },
  {
   "cell_type": "code",
   "execution_count": 4,
   "id": "5543c0a4",
   "metadata": {},
   "outputs": [
    {
     "data": {
      "text/plain": [
       "{\"additionalProperties\":false,\"codec\":\"json\",\"properties\":{\"accession\":{\"description\":\"ENA accession number\",\"type\":\"string\"},\"pcr\":{\"description\":\"Was PCR used on this sample\",\"name\":\"PCR Used\",\"type\":\"boolean\"}},\"required\":[\"accession\",\"pcr\"],\"type\":\"object\"}"
      ]
     },
     "execution_count": 4,
     "metadata": {},
     "output_type": "execute_result"
    }
   ],
   "source": [
    "ts.table_metadata_schemas.individual"
   ]
  },
  {
   "cell_type": "markdown",
   "id": "7e942e17",
   "metadata": {},
   "source": [
    "The same schema can be accessed via a {attr}`~IndividualTable.metadata_schema` attribute\n",
    "on each table (printed prettily here using ``json.dumps``)"
   ]
  },
  {
   "cell_type": "code",
   "execution_count": 5,
   "id": "d0800e39",
   "metadata": {},
   "outputs": [
    {
     "name": "stdout",
     "output_type": "stream",
     "text": [
      "{\n",
      "    \"additionalProperties\": false,\n",
      "    \"codec\": \"json\",\n",
      "    \"properties\": {\n",
      "        \"accession\": {\n",
      "            \"description\": \"ENA accession number\",\n",
      "            \"type\": \"string\"\n",
      "        },\n",
      "        \"pcr\": {\n",
      "            \"description\": \"Was PCR used on this sample\",\n",
      "            \"name\": \"PCR Used\",\n",
      "            \"type\": \"boolean\"\n",
      "        }\n",
      "    },\n",
      "    \"required\": [\n",
      "        \"accession\",\n",
      "        \"pcr\"\n",
      "    ],\n",
      "    \"type\": \"object\"\n",
      "}\n"
     ]
    }
   ],
   "source": [
    "schema = ts.tables.individuals.metadata_schema\n",
    "print(json.dumps(schema.asdict(), indent=4))  # Print with indentations"
   ]
  },
  {
   "cell_type": "markdown",
   "id": "da48f2c9",
   "metadata": {},
   "source": [
    "The top-level metadata and schemas for the entire tree sequence are similarly\n",
    "accessed with {meth}`TreeSequence.metadata` and {meth}`TreeSequence.metadata_schema`.\n",
    "\n",
    ":::{note}\n",
    "If there is no schema (i.e. it is equal to ``MetadataSchema(None)``) for a table\n",
    "or top-level metadata, then no decoding is performed and ``bytes`` will be returned.\n",
    ":::\n",
    "\n",
    "## Modifying metadata and schemas\n",
    "\n",
    "If you are creating or modifying a tree sequence by changing the underlying tables,\n",
    "you may want to record or add to the\n",
    "metadata. When doing so the schema must be modified first, as it is then used to\n",
    "validate and encode the metadata. \n",
    "\n",
    ":::{todo}\n",
    "link to a tutorial section on editing the tree sequence via the tables interface\n",
    ":::\n",
    "\n",
    "Schemas in tskit are held in a {class}`MetadataSchema`.\n",
    "A Python dict representation of the schema is passed to its constructor, which\n",
    "will validate the schema. Here are a few examples: the first one allows arbitrary fields\n",
    "to be added, the second one (which will construct the schema we printed above) does not:"
   ]
  },
  {
   "cell_type": "code",
   "execution_count": 6,
   "id": "020f3f62",
   "metadata": {},
   "outputs": [],
   "source": [
    "basic_schema = tskit.MetadataSchema({'codec': 'json'})\n",
    "\n",
    "complex_schema = tskit.MetadataSchema({\n",
    "    'codec': 'json',\n",
    "    'additionalProperties': False,\n",
    "    'properties': {'accession': {'description': 'ENA accession number',\n",
    "                                 'type': 'string'},\n",
    "                   'pcr': {'description': 'Was PCR used on this sample',\n",
    "                           'name': 'PCR Used',\n",
    "                           'type': 'boolean'}},\n",
    "    'required': ['accession', 'pcr'],\n",
    "    'type': 'object',\n",
    "})"
   ]
  },
  {
   "cell_type": "markdown",
   "id": "507c6c3d",
   "metadata": {},
   "source": [
    "This {class}`MetadataSchema` can then be assigned to a table or the top-level\n",
    "tree sequence e.g. {attr}`~IndividualTable.metadata_schema`:"
   ]
  },
  {
   "cell_type": "code",
   "execution_count": 7,
   "id": "9055db72",
   "metadata": {},
   "outputs": [],
   "source": [
    "tables = tskit.TableCollection(sequence_length=1)  # make a new, empty set of tables\n",
    "tables.individuals.metadata_schema = complex_schema"
   ]
  },
  {
   "cell_type": "markdown",
   "id": "ed8ca4be",
   "metadata": {},
   "source": [
    "This will overwrite any existing schema. Note that this will not validate any existing\n",
    "metadata against the new schema. Now that the table has a schema, calls to\n",
    "{meth}`~IndividualTable.add_row` will validate and encode the metadata:"
   ]
  },
  {
   "cell_type": "code",
   "execution_count": 8,
   "id": "e45f8d8e",
   "metadata": {},
   "outputs": [
    {
     "name": "stdout",
     "output_type": "stream",
     "text": [
      "Row 0 added to the individuals table\n"
     ]
    }
   ],
   "source": [
    "row_id = tables.individuals.add_row(0, metadata={\"accession\": \"Bob1234\", \"pcr\": True})\n",
    "print(f\"Row {row_id} added to the individuals table\")"
   ]
  },
  {
   "cell_type": "markdown",
   "id": "85bfd7b2",
   "metadata": {},
   "source": [
    "If we try to add metadata that doesn't fit the schema, such as accidentally using a\n",
    "string instead of a proper Python boolean, we'll get an error:"
   ]
  },
  {
   "cell_type": "code",
   "execution_count": 9,
   "id": "407512b0",
   "metadata": {
    "tags": [
     "raises-exception",
     "output_scroll"
    ]
   },
   "outputs": [
    {
     "ename": "MetadataValidationError",
     "evalue": "'false' is not of type 'boolean'\n\nFailed validating 'type' in schema['properties']['pcr']:\n    OrderedDict([('description', 'Was PCR used on this sample'),\n                 ('name', 'PCR Used'),\n                 ('type', 'boolean')])\n\nOn instance['pcr']:\n    'false'",
     "output_type": "error",
     "traceback": [
      "\u001b[0;31m---------------------------------------------------------------------------\u001b[0m",
      "\u001b[0;31mValidationError\u001b[0m                           Traceback (most recent call last)",
      "\u001b[0;32m/opt/hostedtoolcache/Python/3.8.10/x64/lib/python3.8/site-packages/tskit/metadata.py\u001b[0m in \u001b[0;36mvalidate_and_encode_row\u001b[0;34m(self, row)\u001b[0m\n\u001b[1;32m    656\u001b[0m         \u001b[0;32mtry\u001b[0m\u001b[0;34m:\u001b[0m\u001b[0;34m\u001b[0m\u001b[0;34m\u001b[0m\u001b[0m\n\u001b[0;32m--> 657\u001b[0;31m             \u001b[0mself\u001b[0m\u001b[0;34m.\u001b[0m\u001b[0m_validate_row\u001b[0m\u001b[0;34m(\u001b[0m\u001b[0mrow\u001b[0m\u001b[0;34m)\u001b[0m\u001b[0;34m\u001b[0m\u001b[0;34m\u001b[0m\u001b[0m\n\u001b[0m\u001b[1;32m    658\u001b[0m         \u001b[0;32mexcept\u001b[0m \u001b[0mjsonschema\u001b[0m\u001b[0;34m.\u001b[0m\u001b[0mexceptions\u001b[0m\u001b[0;34m.\u001b[0m\u001b[0mValidationError\u001b[0m \u001b[0;32mas\u001b[0m \u001b[0mve\u001b[0m\u001b[0;34m:\u001b[0m\u001b[0;34m\u001b[0m\u001b[0;34m\u001b[0m\u001b[0m\n",
      "\u001b[0;32m/opt/hostedtoolcache/Python/3.8.10/x64/lib/python3.8/site-packages/jsonschema/validators.py\u001b[0m in \u001b[0;36mvalidate\u001b[0;34m(self, *args, **kwargs)\u001b[0m\n\u001b[1;32m    352\u001b[0m             \u001b[0;32mfor\u001b[0m \u001b[0merror\u001b[0m \u001b[0;32min\u001b[0m \u001b[0mself\u001b[0m\u001b[0;34m.\u001b[0m\u001b[0miter_errors\u001b[0m\u001b[0;34m(\u001b[0m\u001b[0;34m*\u001b[0m\u001b[0margs\u001b[0m\u001b[0;34m,\u001b[0m \u001b[0;34m**\u001b[0m\u001b[0mkwargs\u001b[0m\u001b[0;34m)\u001b[0m\u001b[0;34m:\u001b[0m\u001b[0;34m\u001b[0m\u001b[0;34m\u001b[0m\u001b[0m\n\u001b[0;32m--> 353\u001b[0;31m                 \u001b[0;32mraise\u001b[0m \u001b[0merror\u001b[0m\u001b[0;34m\u001b[0m\u001b[0;34m\u001b[0m\u001b[0m\n\u001b[0m\u001b[1;32m    354\u001b[0m \u001b[0;34m\u001b[0m\u001b[0m\n",
      "\u001b[0;31mValidationError\u001b[0m: 'false' is not of type 'boolean'\n\nFailed validating 'type' in schema['properties']['pcr']:\n    OrderedDict([('description', 'Was PCR used on this sample'),\n                 ('name', 'PCR Used'),\n                 ('type', 'boolean')])\n\nOn instance['pcr']:\n    'false'",
      "\nThe above exception was the direct cause of the following exception:\n",
      "\u001b[0;31mMetadataValidationError\u001b[0m                   Traceback (most recent call last)",
      "\u001b[0;32m/tmp/ipykernel_4727/4092786825.py\u001b[0m in \u001b[0;36m<module>\u001b[0;34m\u001b[0m\n\u001b[0;32m----> 1\u001b[0;31m \u001b[0mtables\u001b[0m\u001b[0;34m.\u001b[0m\u001b[0mindividuals\u001b[0m\u001b[0;34m.\u001b[0m\u001b[0madd_row\u001b[0m\u001b[0;34m(\u001b[0m\u001b[0;36m0\u001b[0m\u001b[0;34m,\u001b[0m \u001b[0mmetadata\u001b[0m\u001b[0;34m=\u001b[0m\u001b[0;34m{\u001b[0m\u001b[0;34m\"accession\"\u001b[0m\u001b[0;34m:\u001b[0m \u001b[0;34m\"Bob1234\"\u001b[0m\u001b[0;34m,\u001b[0m \u001b[0;34m\"pcr\"\u001b[0m\u001b[0;34m:\u001b[0m \u001b[0;34m\"false\"\u001b[0m\u001b[0;34m}\u001b[0m\u001b[0;34m)\u001b[0m\u001b[0;34m\u001b[0m\u001b[0;34m\u001b[0m\u001b[0m\n\u001b[0m",
      "\u001b[0;32m/opt/hostedtoolcache/Python/3.8.10/x64/lib/python3.8/site-packages/tskit/tables.py\u001b[0m in \u001b[0;36madd_row\u001b[0;34m(self, flags, location, parents, metadata)\u001b[0m\n\u001b[1;32m    651\u001b[0m         \u001b[0;32mif\u001b[0m \u001b[0mmetadata\u001b[0m \u001b[0;32mis\u001b[0m \u001b[0;32mNone\u001b[0m\u001b[0;34m:\u001b[0m\u001b[0;34m\u001b[0m\u001b[0;34m\u001b[0m\u001b[0m\n\u001b[1;32m    652\u001b[0m             \u001b[0mmetadata\u001b[0m \u001b[0;34m=\u001b[0m \u001b[0mself\u001b[0m\u001b[0;34m.\u001b[0m\u001b[0mmetadata_schema\u001b[0m\u001b[0;34m.\u001b[0m\u001b[0mempty_value\u001b[0m\u001b[0;34m\u001b[0m\u001b[0;34m\u001b[0m\u001b[0m\n\u001b[0;32m--> 653\u001b[0;31m         \u001b[0mmetadata\u001b[0m \u001b[0;34m=\u001b[0m \u001b[0mself\u001b[0m\u001b[0;34m.\u001b[0m\u001b[0mmetadata_schema\u001b[0m\u001b[0;34m.\u001b[0m\u001b[0mvalidate_and_encode_row\u001b[0m\u001b[0;34m(\u001b[0m\u001b[0mmetadata\u001b[0m\u001b[0;34m)\u001b[0m\u001b[0;34m\u001b[0m\u001b[0;34m\u001b[0m\u001b[0m\n\u001b[0m\u001b[1;32m    654\u001b[0m         return self.ll_table.add_row(\n\u001b[1;32m    655\u001b[0m             \u001b[0mflags\u001b[0m\u001b[0;34m=\u001b[0m\u001b[0mflags\u001b[0m\u001b[0;34m,\u001b[0m \u001b[0mlocation\u001b[0m\u001b[0;34m=\u001b[0m\u001b[0mlocation\u001b[0m\u001b[0;34m,\u001b[0m \u001b[0mparents\u001b[0m\u001b[0;34m=\u001b[0m\u001b[0mparents\u001b[0m\u001b[0;34m,\u001b[0m \u001b[0mmetadata\u001b[0m\u001b[0;34m=\u001b[0m\u001b[0mmetadata\u001b[0m\u001b[0;34m\u001b[0m\u001b[0;34m\u001b[0m\u001b[0m\n",
      "\u001b[0;32m/opt/hostedtoolcache/Python/3.8.10/x64/lib/python3.8/site-packages/tskit/metadata.py\u001b[0m in \u001b[0;36mvalidate_and_encode_row\u001b[0;34m(self, row)\u001b[0m\n\u001b[1;32m    657\u001b[0m             \u001b[0mself\u001b[0m\u001b[0;34m.\u001b[0m\u001b[0m_validate_row\u001b[0m\u001b[0;34m(\u001b[0m\u001b[0mrow\u001b[0m\u001b[0;34m)\u001b[0m\u001b[0;34m\u001b[0m\u001b[0;34m\u001b[0m\u001b[0m\n\u001b[1;32m    658\u001b[0m         \u001b[0;32mexcept\u001b[0m \u001b[0mjsonschema\u001b[0m\u001b[0;34m.\u001b[0m\u001b[0mexceptions\u001b[0m\u001b[0;34m.\u001b[0m\u001b[0mValidationError\u001b[0m \u001b[0;32mas\u001b[0m \u001b[0mve\u001b[0m\u001b[0;34m:\u001b[0m\u001b[0;34m\u001b[0m\u001b[0;34m\u001b[0m\u001b[0m\n\u001b[0;32m--> 659\u001b[0;31m             \u001b[0;32mraise\u001b[0m \u001b[0mexceptions\u001b[0m\u001b[0;34m.\u001b[0m\u001b[0mMetadataValidationError\u001b[0m\u001b[0;34m(\u001b[0m\u001b[0mstr\u001b[0m\u001b[0;34m(\u001b[0m\u001b[0mve\u001b[0m\u001b[0;34m)\u001b[0m\u001b[0;34m)\u001b[0m \u001b[0;32mfrom\u001b[0m \u001b[0mve\u001b[0m\u001b[0;34m\u001b[0m\u001b[0;34m\u001b[0m\u001b[0m\n\u001b[0m\u001b[1;32m    660\u001b[0m         \u001b[0;32mreturn\u001b[0m \u001b[0mself\u001b[0m\u001b[0;34m.\u001b[0m\u001b[0mencode_row\u001b[0m\u001b[0;34m(\u001b[0m\u001b[0mrow\u001b[0m\u001b[0;34m)\u001b[0m\u001b[0;34m\u001b[0m\u001b[0;34m\u001b[0m\u001b[0m\n\u001b[1;32m    661\u001b[0m \u001b[0;34m\u001b[0m\u001b[0m\n",
      "\u001b[0;31mMetadataValidationError\u001b[0m: 'false' is not of type 'boolean'\n\nFailed validating 'type' in schema['properties']['pcr']:\n    OrderedDict([('description', 'Was PCR used on this sample'),\n                 ('name', 'PCR Used'),\n                 ('type', 'boolean')])\n\nOn instance['pcr']:\n    'false'"
     ]
    }
   ],
   "source": [
    "tables.individuals.add_row(0, metadata={\"accession\": \"Bob1234\", \"pcr\": \"false\"})"
   ]
  },
  {
   "cell_type": "markdown",
   "id": "a242fd64",
   "metadata": {},
   "source": [
    "and because we set ``additionalProperties`` to ``False`` in the schema, an error is\n",
    "also raised if we attempt to add new fields:"
   ]
  },
  {
   "cell_type": "code",
   "execution_count": 10,
   "id": "671c0471",
   "metadata": {
    "tags": [
     "raises-exception",
     "output_scroll"
    ]
   },
   "outputs": [
    {
     "ename": "MetadataValidationError",
     "evalue": "Additional properties are not allowed ('newKey' was unexpected)\n\nFailed validating 'additionalProperties' in schema:\n    OrderedDict([('additionalProperties', False),\n                 ('codec', 'json'),\n                 ('properties',\n                  OrderedDict([('accession',\n                                OrderedDict([('description',\n                                              'ENA accession number'),\n                                             ('type', 'string')])),\n                               ('pcr',\n                                OrderedDict([('description',\n                                              'Was PCR used on this '\n                                              'sample'),\n                                             ('name', 'PCR Used'),\n                                             ('type', 'boolean')]))])),\n                 ('required', ['accession', 'pcr']),\n                 ('type', 'object')])\n\nOn instance:\n    {'accession': 'Bob1234', 'newKey': 25, 'pcr': True}",
     "output_type": "error",
     "traceback": [
      "\u001b[0;31m---------------------------------------------------------------------------\u001b[0m",
      "\u001b[0;31mValidationError\u001b[0m                           Traceback (most recent call last)",
      "\u001b[0;32m/opt/hostedtoolcache/Python/3.8.10/x64/lib/python3.8/site-packages/tskit/metadata.py\u001b[0m in \u001b[0;36mvalidate_and_encode_row\u001b[0;34m(self, row)\u001b[0m\n\u001b[1;32m    656\u001b[0m         \u001b[0;32mtry\u001b[0m\u001b[0;34m:\u001b[0m\u001b[0;34m\u001b[0m\u001b[0;34m\u001b[0m\u001b[0m\n\u001b[0;32m--> 657\u001b[0;31m             \u001b[0mself\u001b[0m\u001b[0;34m.\u001b[0m\u001b[0m_validate_row\u001b[0m\u001b[0;34m(\u001b[0m\u001b[0mrow\u001b[0m\u001b[0;34m)\u001b[0m\u001b[0;34m\u001b[0m\u001b[0;34m\u001b[0m\u001b[0m\n\u001b[0m\u001b[1;32m    658\u001b[0m         \u001b[0;32mexcept\u001b[0m \u001b[0mjsonschema\u001b[0m\u001b[0;34m.\u001b[0m\u001b[0mexceptions\u001b[0m\u001b[0;34m.\u001b[0m\u001b[0mValidationError\u001b[0m \u001b[0;32mas\u001b[0m \u001b[0mve\u001b[0m\u001b[0;34m:\u001b[0m\u001b[0;34m\u001b[0m\u001b[0;34m\u001b[0m\u001b[0m\n",
      "\u001b[0;32m/opt/hostedtoolcache/Python/3.8.10/x64/lib/python3.8/site-packages/jsonschema/validators.py\u001b[0m in \u001b[0;36mvalidate\u001b[0;34m(self, *args, **kwargs)\u001b[0m\n\u001b[1;32m    352\u001b[0m             \u001b[0;32mfor\u001b[0m \u001b[0merror\u001b[0m \u001b[0;32min\u001b[0m \u001b[0mself\u001b[0m\u001b[0;34m.\u001b[0m\u001b[0miter_errors\u001b[0m\u001b[0;34m(\u001b[0m\u001b[0;34m*\u001b[0m\u001b[0margs\u001b[0m\u001b[0;34m,\u001b[0m \u001b[0;34m**\u001b[0m\u001b[0mkwargs\u001b[0m\u001b[0;34m)\u001b[0m\u001b[0;34m:\u001b[0m\u001b[0;34m\u001b[0m\u001b[0;34m\u001b[0m\u001b[0m\n\u001b[0;32m--> 353\u001b[0;31m                 \u001b[0;32mraise\u001b[0m \u001b[0merror\u001b[0m\u001b[0;34m\u001b[0m\u001b[0;34m\u001b[0m\u001b[0m\n\u001b[0m\u001b[1;32m    354\u001b[0m \u001b[0;34m\u001b[0m\u001b[0m\n",
      "\u001b[0;31mValidationError\u001b[0m: Additional properties are not allowed ('newKey' was unexpected)\n\nFailed validating 'additionalProperties' in schema:\n    OrderedDict([('additionalProperties', False),\n                 ('codec', 'json'),\n                 ('properties',\n                  OrderedDict([('accession',\n                                OrderedDict([('description',\n                                              'ENA accession number'),\n                                             ('type', 'string')])),\n                               ('pcr',\n                                OrderedDict([('description',\n                                              'Was PCR used on this '\n                                              'sample'),\n                                             ('name', 'PCR Used'),\n                                             ('type', 'boolean')]))])),\n                 ('required', ['accession', 'pcr']),\n                 ('type', 'object')])\n\nOn instance:\n    {'accession': 'Bob1234', 'newKey': 25, 'pcr': True}",
      "\nThe above exception was the direct cause of the following exception:\n",
      "\u001b[0;31mMetadataValidationError\u001b[0m                   Traceback (most recent call last)",
      "\u001b[0;32m/tmp/ipykernel_4727/2608489950.py\u001b[0m in \u001b[0;36m<module>\u001b[0;34m\u001b[0m\n\u001b[0;32m----> 1\u001b[0;31m \u001b[0mtables\u001b[0m\u001b[0;34m.\u001b[0m\u001b[0mindividuals\u001b[0m\u001b[0;34m.\u001b[0m\u001b[0madd_row\u001b[0m\u001b[0;34m(\u001b[0m\u001b[0;36m0\u001b[0m\u001b[0;34m,\u001b[0m \u001b[0mmetadata\u001b[0m\u001b[0;34m=\u001b[0m\u001b[0;34m{\u001b[0m\u001b[0;34m\"accession\"\u001b[0m\u001b[0;34m:\u001b[0m \u001b[0;34m\"Bob1234\"\u001b[0m\u001b[0;34m,\u001b[0m \u001b[0;34m\"pcr\"\u001b[0m\u001b[0;34m:\u001b[0m \u001b[0;32mTrue\u001b[0m\u001b[0;34m,\u001b[0m \u001b[0;34m\"newKey\"\u001b[0m\u001b[0;34m:\u001b[0m \u001b[0;36m25\u001b[0m\u001b[0;34m}\u001b[0m\u001b[0;34m)\u001b[0m\u001b[0;34m\u001b[0m\u001b[0;34m\u001b[0m\u001b[0m\n\u001b[0m",
      "\u001b[0;32m/opt/hostedtoolcache/Python/3.8.10/x64/lib/python3.8/site-packages/tskit/tables.py\u001b[0m in \u001b[0;36madd_row\u001b[0;34m(self, flags, location, parents, metadata)\u001b[0m\n\u001b[1;32m    651\u001b[0m         \u001b[0;32mif\u001b[0m \u001b[0mmetadata\u001b[0m \u001b[0;32mis\u001b[0m \u001b[0;32mNone\u001b[0m\u001b[0;34m:\u001b[0m\u001b[0;34m\u001b[0m\u001b[0;34m\u001b[0m\u001b[0m\n\u001b[1;32m    652\u001b[0m             \u001b[0mmetadata\u001b[0m \u001b[0;34m=\u001b[0m \u001b[0mself\u001b[0m\u001b[0;34m.\u001b[0m\u001b[0mmetadata_schema\u001b[0m\u001b[0;34m.\u001b[0m\u001b[0mempty_value\u001b[0m\u001b[0;34m\u001b[0m\u001b[0;34m\u001b[0m\u001b[0m\n\u001b[0;32m--> 653\u001b[0;31m         \u001b[0mmetadata\u001b[0m \u001b[0;34m=\u001b[0m \u001b[0mself\u001b[0m\u001b[0;34m.\u001b[0m\u001b[0mmetadata_schema\u001b[0m\u001b[0;34m.\u001b[0m\u001b[0mvalidate_and_encode_row\u001b[0m\u001b[0;34m(\u001b[0m\u001b[0mmetadata\u001b[0m\u001b[0;34m)\u001b[0m\u001b[0;34m\u001b[0m\u001b[0;34m\u001b[0m\u001b[0m\n\u001b[0m\u001b[1;32m    654\u001b[0m         return self.ll_table.add_row(\n\u001b[1;32m    655\u001b[0m             \u001b[0mflags\u001b[0m\u001b[0;34m=\u001b[0m\u001b[0mflags\u001b[0m\u001b[0;34m,\u001b[0m \u001b[0mlocation\u001b[0m\u001b[0;34m=\u001b[0m\u001b[0mlocation\u001b[0m\u001b[0;34m,\u001b[0m \u001b[0mparents\u001b[0m\u001b[0;34m=\u001b[0m\u001b[0mparents\u001b[0m\u001b[0;34m,\u001b[0m \u001b[0mmetadata\u001b[0m\u001b[0;34m=\u001b[0m\u001b[0mmetadata\u001b[0m\u001b[0;34m\u001b[0m\u001b[0;34m\u001b[0m\u001b[0m\n",
      "\u001b[0;32m/opt/hostedtoolcache/Python/3.8.10/x64/lib/python3.8/site-packages/tskit/metadata.py\u001b[0m in \u001b[0;36mvalidate_and_encode_row\u001b[0;34m(self, row)\u001b[0m\n\u001b[1;32m    657\u001b[0m             \u001b[0mself\u001b[0m\u001b[0;34m.\u001b[0m\u001b[0m_validate_row\u001b[0m\u001b[0;34m(\u001b[0m\u001b[0mrow\u001b[0m\u001b[0;34m)\u001b[0m\u001b[0;34m\u001b[0m\u001b[0;34m\u001b[0m\u001b[0m\n\u001b[1;32m    658\u001b[0m         \u001b[0;32mexcept\u001b[0m \u001b[0mjsonschema\u001b[0m\u001b[0;34m.\u001b[0m\u001b[0mexceptions\u001b[0m\u001b[0;34m.\u001b[0m\u001b[0mValidationError\u001b[0m \u001b[0;32mas\u001b[0m \u001b[0mve\u001b[0m\u001b[0;34m:\u001b[0m\u001b[0;34m\u001b[0m\u001b[0;34m\u001b[0m\u001b[0m\n\u001b[0;32m--> 659\u001b[0;31m             \u001b[0;32mraise\u001b[0m \u001b[0mexceptions\u001b[0m\u001b[0;34m.\u001b[0m\u001b[0mMetadataValidationError\u001b[0m\u001b[0;34m(\u001b[0m\u001b[0mstr\u001b[0m\u001b[0;34m(\u001b[0m\u001b[0mve\u001b[0m\u001b[0;34m)\u001b[0m\u001b[0;34m)\u001b[0m \u001b[0;32mfrom\u001b[0m \u001b[0mve\u001b[0m\u001b[0;34m\u001b[0m\u001b[0;34m\u001b[0m\u001b[0m\n\u001b[0m\u001b[1;32m    660\u001b[0m         \u001b[0;32mreturn\u001b[0m \u001b[0mself\u001b[0m\u001b[0;34m.\u001b[0m\u001b[0mencode_row\u001b[0m\u001b[0;34m(\u001b[0m\u001b[0mrow\u001b[0m\u001b[0;34m)\u001b[0m\u001b[0;34m\u001b[0m\u001b[0;34m\u001b[0m\u001b[0m\n\u001b[1;32m    661\u001b[0m \u001b[0;34m\u001b[0m\u001b[0m\n",
      "\u001b[0;31mMetadataValidationError\u001b[0m: Additional properties are not allowed ('newKey' was unexpected)\n\nFailed validating 'additionalProperties' in schema:\n    OrderedDict([('additionalProperties', False),\n                 ('codec', 'json'),\n                 ('properties',\n                  OrderedDict([('accession',\n                                OrderedDict([('description',\n                                              'ENA accession number'),\n                                             ('type', 'string')])),\n                               ('pcr',\n                                OrderedDict([('description',\n                                              'Was PCR used on this '\n                                              'sample'),\n                                             ('name', 'PCR Used'),\n                                             ('type', 'boolean')]))])),\n                 ('required', ['accession', 'pcr']),\n                 ('type', 'object')])\n\nOn instance:\n    {'accession': 'Bob1234', 'newKey': 25, 'pcr': True}"
     ]
    }
   ],
   "source": [
    "tables.individuals.add_row(0, metadata={\"accession\": \"Bob1234\", \"pcr\": True, \"newKey\": 25})"
   ]
  },
  {
   "cell_type": "markdown",
   "id": "b6d2768f",
   "metadata": {},
   "source": [
    "To set the top-level metadata, just assign it. Validation and encoding happen as\n",
    "specified by the top-level metadata schema"
   ]
  },
  {
   "cell_type": "code",
   "execution_count": 11,
   "id": "177e26c7",
   "metadata": {},
   "outputs": [
    {
     "name": "stdout",
     "output_type": "stream",
     "text": [
      "{'mean_coverage': 200.5}\n"
     ]
    }
   ],
   "source": [
    "tables.metadata_schema = basic_schema  # Allows new fields to be added that are not validated\n",
    "tables.metadata = {\"mean_coverage\": 200.5}\n",
    "print(tables.metadata)"
   ]
  },
  {
   "cell_type": "markdown",
   "id": "b844720e",
   "metadata": {},
   "source": [
    ":::{note}\n",
    "*Provenance* information, detailing the origin of the data, modification timestamps,\n",
    "and (ideally) how the tree sequence can be reconstructed, should go in\n",
    "{ref}`sec_provenance`, not metadata.\n",
    ":::\n",
    "\n",
    "To modify a schema --- for example to add a key --- first get the dict representation,\n",
    "modify, then write back:"
   ]
  },
  {
   "cell_type": "code",
   "execution_count": 12,
   "id": "0d164204",
   "metadata": {},
   "outputs": [
    {
     "name": "stdout",
     "output_type": "stream",
     "text": [
      "{'accession': 'abc123', 'newKey': 25, 'pcr': False}\n"
     ]
    }
   ],
   "source": [
    "schema_dict = tables.individuals.metadata_schema.schema\n",
    "schema_dict[\"properties\"][\"newKey\"] = {\"type\": \"integer\"}\n",
    "tables.individuals.metadata_schema = tskit.MetadataSchema(schema_dict)\n",
    "# Now this will work:\n",
    "new_id = tables.individuals.add_row(metadata={'accession': 'abc123', 'pcr': False, 'newKey': 25})\n",
    "print(tables.individuals[new_id].metadata)"
   ]
  },
  {
   "cell_type": "markdown",
   "id": "b3033826",
   "metadata": {},
   "source": [
    "To modify the metadata of rows in tables use the {ref}`sec_tutorial_metadata_bulk`.\n",
    "\n",
    "## Viewing raw metadata\n",
    "\n",
    "If you need to see the raw (i.e. bytes) metadata, you just need to remove the\n",
    "schema, for instance:"
   ]
  },
  {
   "cell_type": "code",
   "execution_count": 13,
   "id": "56b9cf82",
   "metadata": {},
   "outputs": [
    {
     "name": "stdout",
     "output_type": "stream",
     "text": [
      "Metadata:\n",
      " {'accession': 'Bob1234', 'pcr': True}\n",
      "\n",
      "Raw metadata:\n",
      " b'{\"accession\":\"Bob1234\",\"pcr\":true}'\n"
     ]
    }
   ],
   "source": [
    "individual_table = tables.individuals.copy()  # don't change the original tables.individual\n",
    "\n",
    "print(\"Metadata:\\n\", individual_table[0].metadata)\n",
    "\n",
    "individual_table.metadata_schema = tskit.MetadataSchema(None)\n",
    "print(\"\\nRaw metadata:\\n\", individual_table[0].metadata)"
   ]
  },
  {
   "cell_type": "markdown",
   "id": "c349b6ea",
   "metadata": {},
   "source": [
    "(sec_tutorial_metadata_bulk)=\n",
    "\n",
    "## Metadata for bulk table methods\n",
    "\n",
    "In the interests of efficiency each table's {meth}`~NodeTable.packset_metadata` method,\n",
    "as well as the more general {meth}`~NodeTable.set_columns` and\n",
    "{meth}`~NodeTable.append_columns` methods, do not attempt to validate or encode metadata.\n",
    "You can call {meth}`MetadataSchema.validate_and_encode_row` directly to prepare metadata\n",
    "for these methods:"
   ]
  },
  {
   "cell_type": "code",
   "execution_count": 14,
   "id": "b1c821c1",
   "metadata": {},
   "outputs": [
    {
     "data": {
      "text/html": [
       "\n",
       "            <div>\n",
       "                <style scoped=\"\">\n",
       "                    .tskit-table tbody tr th:only-of-type {vertical-align: middle;}\n",
       "                    .tskit-table tbody tr th {vertical-align: top;}\n",
       "                    .tskit-table tbody td {text-align: right;padding: 0.5em 0.5em;}\n",
       "                    .tskit-table tbody th {padding: 0.5em 0.5em;}\n",
       "                </style>\n",
       "                <table border=\"1\" class=\"tskit-table\">\n",
       "                    <thead>\n",
       "                        <tr>\n",
       "                            <th>id</th><th>flags</th><th>location</th><th>parents</th><th>metadata</th>\n",
       "                        </tr>\n",
       "                    </thead>\n",
       "                    <tbody>\n",
       "                        <tr><td>0</td><td>0</td><td></td><td></td><td>{'accession': 'etho1234', 'pcr': True}</td></tr>\n",
       "<tr><td>1</td><td>0</td><td></td><td></td><td>{'accession': 'richard1235', 'pcr': F...</td></tr>\n",
       "<tr><td>2</td><td>0</td><td></td><td></td><td>{'accession': 'albert1236', 'pcr': True}</td></tr>\n",
       "\n",
       "                    </tbody>\n",
       "                </table>\n",
       "            </div>\n"
      ],
      "text/plain": [
       "<tskit.tables.IndividualTable at 0x7f7a8ca7af40>"
      ]
     },
     "execution_count": 14,
     "metadata": {},
     "output_type": "execute_result"
    }
   ],
   "source": [
    "metadata_column = [\n",
    "    {\"accession\": \"etho1234\", \"pcr\": True},\n",
    "    {\"accession\": \"richard1235\", \"pcr\": False},\n",
    "    {\"accession\": \"albert1236\", \"pcr\": True},\n",
    "]\n",
    "encoded_metadata_column = [\n",
    "    tables.individuals.metadata_schema.validate_and_encode_row(r) for r in metadata_column\n",
    "]\n",
    "md, md_offset = tskit.pack_bytes(encoded_metadata_column)\n",
    "tables.individuals.set_columns(flags=[0, 0, 0], metadata=md, metadata_offset=md_offset)\n",
    "tables.individuals"
   ]
  },
  {
   "cell_type": "markdown",
   "id": "5dee80c9",
   "metadata": {},
   "source": [
    "Or if all columns do not need to be set:"
   ]
  },
  {
   "cell_type": "code",
   "execution_count": 15,
   "id": "1b3b810e",
   "metadata": {},
   "outputs": [],
   "source": [
    "tables.individuals.packset_metadata(\n",
    "    [tables.individuals.metadata_schema.validate_and_encode_row(r) for r in metadata_column]\n",
    ")"
   ]
  },
  {
   "cell_type": "markdown",
   "id": "16842522",
   "metadata": {},
   "source": [
    "(sec_tutorial_metadata_binary)=\n",
    "\n",
    "## Binary metadata\n",
    "\n",
    "To disable the validation and encoding of metadata and store raw bytes pass ``None`` to\n",
    "{class}`MetadataSchema`"
   ]
  },
  {
   "cell_type": "code",
   "execution_count": 16,
   "id": "0e72221d",
   "metadata": {},
   "outputs": [
    {
     "name": "stdout",
     "output_type": "stream",
     "text": [
      "b'SOME CUSTOM BYTES #!@'\n"
     ]
    }
   ],
   "source": [
    "tables.populations.metadata_schema = tskit.MetadataSchema(None)\n",
    "tables.populations.add_row(metadata=b\"SOME CUSTOM BYTES #!@\")\n",
    "print(tables.populations[0].metadata)"
   ]
  }
 ],
 "metadata": {
  "jupytext": {
   "text_representation": {
    "extension": ".md",
    "format_name": "myst",
    "format_version": 0.12,
    "jupytext_version": "1.9.1"
   }
  },
  "kernelspec": {
   "display_name": "Python 3",
   "language": "python",
   "name": "python3"
  },
  "language_info": {
   "codemirror_mode": {
    "name": "ipython",
    "version": 3
   },
   "file_extension": ".py",
   "mimetype": "text/x-python",
   "name": "python",
   "nbconvert_exporter": "python",
   "pygments_lexer": "ipython3",
   "version": "3.8.10"
  },
  "source_map": [
   12,
   30,
   69,
   74,
   81,
   84,
   89,
   91,
   96,
   99,
   125,
   139,
   144,
   147,
   153,
   156,
   161,
   164,
   169,
   172,
   178,
   182,
   193,
   200,
   209,
   216,
   228,
   240,
   244,
   248,
   257
  ]
 },
 "nbformat": 4,
 "nbformat_minor": 5
}