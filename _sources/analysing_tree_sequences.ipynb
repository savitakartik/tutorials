{
 "cells": [
  {
   "cell_type": "markdown",
   "id": "e8e318f7",
   "metadata": {},
   "source": [
    "```{currentmodule} tskit\n",
    "```\n",
    "\n",
    "(sec_analysing_tree_sequences)=\n",
    "\n",
    "# _Analysing tree sequences_\n",
    "% remove underscores in title when tutorial is complete or near-complete\n",
    "\n",
    ":::{todo}\n",
    "Add all stats material from https://tskit.dev/tskit/docs/stable/tutorial.html\n",
    "\n",
    "Should we rename this \"calculating statistics\", or something else with the word \"statistics\" in the name?\n",
    ":::"
   ]
  }
 ],
 "metadata": {
  "jupytext": {
   "text_representation": {
    "extension": ".md",
    "format_name": "myst",
    "format_version": 0.12,
    "jupytext_version": "1.9.1"
   }
  },
  "kernelspec": {
   "display_name": "Python 3",
   "language": "python",
   "name": "python3"
  },
  "language_info": {
   "codemirror_mode": {
    "name": "ipython",
    "version": 3
   },
   "file_extension": ".py",
   "mimetype": "text/x-python",
   "name": "python",
   "nbconvert_exporter": "python",
   "pygments_lexer": "ipython3",
   "version": "3.8.11"
  },
  "source_map": [
   12
  ]
 },
 "nbformat": 4,
 "nbformat_minor": 5
}