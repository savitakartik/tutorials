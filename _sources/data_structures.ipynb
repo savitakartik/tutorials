{
 "cells": [
  {
   "cell_type": "markdown",
   "id": "23b757e9",
   "metadata": {},
   "source": [
    "```{currentmodule} tskit\n",
    "```"
   ]
  },
  {
   "cell_type": "code",
   "execution_count": 1,
   "id": "33fb16ad",
   "metadata": {
    "tags": [
     "remove-cell"
    ]
   },
   "outputs": [],
   "source": [
    "import io\n",
    "import pickle\n",
    "\n",
    "import msprime\n",
    "import tskit\n",
    "\n",
    "def tables_examples():\n",
    "    nodes = \"\"\"\\\n",
    "    id      is_sample   time\n",
    "    0       1           0\n",
    "    1       1           0\n",
    "    2       1           0\n",
    "    3       0           0.15\n",
    "    4       0           0.6\n",
    "    5       0           0.8\n",
    "    6       0           1.0\n",
    "    \"\"\"\n",
    "    edges = \"\"\"\\\n",
    "    left    right   parent  child\n",
    "    20      80      3       0\n",
    "    20      80      3       2\n",
    "    0       100     4       1\n",
    "    0       20      4       2\n",
    "    80      100     4       2\n",
    "    20      80      4       3\n",
    "    80      100     5       0\n",
    "    80      100     5       4\n",
    "    0       20      6       0\n",
    "    0       20      6       4\n",
    "    \"\"\"\n",
    "    sites = \"\"\"\\\n",
    "    id    position    ancestral_state\n",
    "    0     15          A\n",
    "    1     42          G\n",
    "    2     60          T\n",
    "    \"\"\"\n",
    "    mutations = \"\"\"\\\n",
    "    site    node    derived_state    parent    time\n",
    "    0       4       G                -1        0.9\n",
    "    1       1       A                -1        0.4\n",
    "    2       3       C                -1        0.55\n",
    "    2       0       T                2         0.1\n",
    "    \"\"\"\n",
    "    ts = tskit.load_text(\n",
    "        nodes=io.StringIO(nodes),\n",
    "        edges=io.StringIO(edges),\n",
    "        strict=False,\n",
    "    )\n",
    "    ts.dump(\"data/tables_example.trees\")\n",
    "    ts = tskit.load_text(\n",
    "        nodes=io.StringIO(nodes),\n",
    "        edges=io.StringIO(edges),\n",
    "        sites=io.StringIO(sites),\n",
    "        mutations=io.StringIO(mutations),\n",
    "        strict=False,\n",
    "    )\n",
    "    ts.dump(\"data/tables_example_muts.trees\")\n",
    "\n",
    "def construction_example():\n",
    "    nodes = \"\"\"\\\n",
    "    id      is_sample   time\n",
    "    0       1           0\n",
    "    1       1           0\n",
    "    2       0           10\n",
    "    3       1           0\n",
    "    4       0           20\n",
    "    \"\"\"\n",
    "    edges = \"\"\"\\\n",
    "    left    right   parent  child\n",
    "    0       1000    2       0\n",
    "    0       1000    2       1\n",
    "    0       1000    4       2\n",
    "    0       1000    4       3\n",
    "    \"\"\"\n",
    "    sites = \"\"\"\\\n",
    "    id    position    ancestral_state\n",
    "    0     500          A\n",
    "    \"\"\"\n",
    "    mutations = \"\"\"\\\n",
    "    site    node    derived_state    parent\n",
    "    0       3       G                -1\n",
    "    \"\"\"\n",
    "    ts = tskit.load_text(\n",
    "        nodes=io.StringIO(nodes),\n",
    "        edges=io.StringIO(edges),\n",
    "        sites=io.StringIO(sites),\n",
    "        mutations=io.StringIO(mutations),\n",
    "        strict=False,\n",
    "    )\n",
    "    ts.dump(\"data/construction_example.trees\")\n",
    "    \n",
    "\n",
    "def create_notebook_data():\n",
    "    tables_examples()\n",
    "    construction_example()\n",
    "\n",
    "# create_notebook_data()  # uncomment to recreate the tree seqs used in this notebook"
   ]
  },
  {
   "cell_type": "markdown",
   "id": "b4f00dea",
   "metadata": {},
   "source": [
    "(sec_data_structures)=\n",
    "\n",
    "# Data structures\n",
    "\n",
    "(sec_data_structures_tables)=\n",
    "\n",
    "## Tables\n",
    "\n",
    "Internally, a tree sequence can be thought of as a set of tables, and {program}`tskit`\n",
    "provides an interface for dealing with these tables directly. This is particularly\n",
    "relevant when you wish to {ref}`edit or otherwise modify<sec_data_structures_editing>`\n",
    "a tree sequence, although tables are also useful for bulk access to data contained in\n",
    "the tree sequence, such as the times of all nodes.\n",
    "\n",
    "There are eight tables that together define a tree sequence, although some may be empty,\n",
    "and together they form a {class}`TableCollection`.\n",
    "The tables are defined in the official {program}`tskit` documentation for\n",
    "{ref}`Table Definitions <tskit:sec_table_definitions>`, and the\n",
    "{ref}`Tables API <tskit:sec_tables_api>` section in the docs describes how to work with\n",
    "them. In this tutorial we give some pointers about what you can and cannot do with them.\n",
    "\n",
    "### Correspondance between tables and trees\n",
    "\n",
    "Consider the following sequence of trees:"
   ]
  },
  {
   "cell_type": "code",
   "execution_count": 2,
   "id": "55b8fe0c",
   "metadata": {},
   "outputs": [
    {
     "data": {
      "image/svg+xml": [
       "<svg xmlns=\"http://www.w3.org/2000/svg\" xmlns:ev=\"http://www.w3.org/2001/xml-events\" xmlns:xlink=\"http://www.w3.org/1999/xlink\" baseProfile=\"full\" height=\"200\" version=\"1.1\" width=\"600\"><defs><style type=\"text/css\"><![CDATA[.background path {fill: #808080; fill-opacity: 0}.background path:nth-child(odd) {fill-opacity: .1}.axes {font-size: 14px}.x-axis .tick .lab {font-weight: bold; dominant-baseline: hanging}.axes, .tree {font-size: 14px; text-anchor: middle}.axes line, .edge {stroke: black; fill: none}.y-axis .grid {stroke: #FAFAFA}.node > .sym {fill: black; stroke: none}.site > .sym {stroke: black}.mut text {fill: red; font-style: italic}.mut.extra text {fill: hotpink}.mut line {fill: none; stroke: none}.mut .sym {fill: none; stroke: red}.mut.extra .sym {stroke: hotpink}.node .mut .sym {stroke-width: 1.5px}.tree text, .tree-sequence text {dominant-baseline: central}.plotbox .lab.lft {text-anchor: end}.plotbox .lab.rgt {text-anchor: start}]]></style></defs><g class=\"tree-sequence\"><g class=\"background\"><path d=\"M56.8,0 l174.4,0 l0,138.2 l-69.76,25 l0,5 l-104.64,0 l0,-5 l0,-25 l0,-138.2z\"/><path d=\"M231.2,0 l174.4,0 l0,138.2 l69.76,25 l0,5 l-313.92,0 l0,-5 l69.76,-25 l0,-138.2z\"/><path d=\"M405.6,0 l174.4,0 l0,138.2 l0,25 l0,5 l-104.64,0 l0,-5 l-69.76,-25 l0,-138.2z\"/></g><g class=\"axes\"><g class=\"x-axis\"><g transform=\"translate(318.4,200)\"><text class=\"lab\" text-anchor=\"middle\" transform=\"translate(0 -11)\">Genome position</text></g><line x1=\"56.8\" x2=\"580\" y1=\"163.2\" y2=\"163.2\"/><g class=\"ticks\"><g class=\"tick\" transform=\"translate(56.8 163.2)\"><line x1=\"0\" x2=\"0\" y1=\"0\" y2=\"5\"/><g transform=\"translate(0,6)\"><text class=\"lab\">0</text></g></g><g class=\"tick\" transform=\"translate(161.44 163.2)\"><line x1=\"0\" x2=\"0\" y1=\"0\" y2=\"5\"/><g transform=\"translate(0,6)\"><text class=\"lab\">20</text></g></g><g class=\"tick\" transform=\"translate(475.36 163.2)\"><line x1=\"0\" x2=\"0\" y1=\"0\" y2=\"5\"/><g transform=\"translate(0,6)\"><text class=\"lab\">80</text></g></g><g class=\"tick\" transform=\"translate(580 163.2)\"><line x1=\"0\" x2=\"0\" y1=\"0\" y2=\"5\"/><g transform=\"translate(0,6)\"><text class=\"lab\">100</text></g></g></g></g><g class=\"y-axis\"><g transform=\"translate(0,65.7)\"><text class=\"lab\" text-anchor=\"middle\" transform=\"translate(11) rotate(-90)\">Time</text></g><line x1=\"56.8\" x2=\"56.8\" y1=\"121.4\" y2=\"10\"/><g class=\"ticks\"><g class=\"tick\" transform=\"translate(56.8 121.4)\"><line x1=\"0\" x2=\"-5\" y1=\"0\" y2=\"0\"/><g transform=\"translate(-6,0)\"><text class=\"lab\" text-anchor=\"end\">0.00</text></g></g><g class=\"tick\" transform=\"translate(56.8 107.21)\"><line x1=\"0\" x2=\"-5\" y1=\"0\" y2=\"0\"/><g transform=\"translate(-6,0)\"><text class=\"lab\" text-anchor=\"end\">0.15</text></g></g><g class=\"tick\" transform=\"translate(56.8 64.64)\"><line x1=\"0\" x2=\"-5\" y1=\"0\" y2=\"0\"/><g transform=\"translate(-6,0)\"><text class=\"lab\" text-anchor=\"end\">0.60</text></g></g><g class=\"tick\" transform=\"translate(56.8 45.72)\"><line x1=\"0\" x2=\"-5\" y1=\"0\" y2=\"0\"/><g transform=\"translate(-6,0)\"><text class=\"lab\" text-anchor=\"end\">0.80</text></g></g><g class=\"tick\" transform=\"translate(56.8 26.8)\"><line x1=\"0\" x2=\"-5\" y1=\"0\" y2=\"0\"/><g transform=\"translate(-6,0)\"><text class=\"lab\" text-anchor=\"end\">1.00</text></g></g></g></g></g><g class=\"plotbox trees\"><g class=\"tree t0\" transform=\"translate(56.8 0)\"><g class=\"plotbox\"><g class=\"c2 node n6 root\" transform=\"translate(76 26.8)\"><g class=\"a6 leaf node n0 sample\" transform=\"translate(-33.6 94.6)\"><path class=\"edge\" d=\"M 0 0 V -94.6 H 33.6\"/><rect class=\"sym\" height=\"6\" width=\"6\" x=\"-3\" y=\"-3\"/><text class=\"lab\" transform=\"translate(0 11)\">0</text></g><g class=\"a6 c2 node n4\" transform=\"translate(33.6 37.84)\"><g class=\"a4 leaf node n1 sample\" transform=\"translate(-22.4 56.76)\"><path class=\"edge\" d=\"M 0 0 V -56.76 H 22.4\"/><rect class=\"sym\" height=\"6\" width=\"6\" x=\"-3\" y=\"-3\"/><text class=\"lab\" transform=\"translate(0 11)\">1</text></g><g class=\"a4 leaf node n2 sample\" transform=\"translate(22.4 56.76)\"><path class=\"edge\" d=\"M 0 0 V -56.76 H -22.4\"/><rect class=\"sym\" height=\"6\" width=\"6\" x=\"-3\" y=\"-3\"/><text class=\"lab\" transform=\"translate(0 11)\">2</text></g><path class=\"edge\" d=\"M 0 0 V -37.84 H -33.6\"/><circle class=\"sym\" cx=\"0\" cy=\"0\" r=\"3\"/><text class=\"lab rgt\" transform=\"translate(3 -7.0)\">4</text></g><circle class=\"sym\" cx=\"0\" cy=\"0\" r=\"3\"/><text class=\"lab\" transform=\"translate(0 -11)\">6</text></g></g></g><g class=\"tree t1\" transform=\"translate(231.2 0)\"><g class=\"plotbox\"><g class=\"c2 node n4 root\" transform=\"translate(98.4 64.64)\"><g class=\"a4 leaf node n1 sample\" transform=\"translate(33.6 56.76)\"><path class=\"edge\" d=\"M 0 0 V -56.76 H -33.6\"/><rect class=\"sym\" height=\"6\" width=\"6\" x=\"-3\" y=\"-3\"/><text class=\"lab\" transform=\"translate(0 11)\">1</text></g><g class=\"a4 c2 node n3\" transform=\"translate(-33.6 42.57)\"><g class=\"a3 leaf node n0 sample\" transform=\"translate(-22.4 14.19)\"><path class=\"edge\" d=\"M 0 0 V -14.19 H 22.4\"/><rect class=\"sym\" height=\"6\" width=\"6\" x=\"-3\" y=\"-3\"/><text class=\"lab\" transform=\"translate(0 11)\">0</text></g><g class=\"a3 leaf node n2 sample\" transform=\"translate(22.4 14.19)\"><path class=\"edge\" d=\"M 0 0 V -14.19 H -22.4\"/><rect class=\"sym\" height=\"6\" width=\"6\" x=\"-3\" y=\"-3\"/><text class=\"lab\" transform=\"translate(0 11)\">2</text></g><path class=\"edge\" d=\"M 0 0 V -42.57 H 33.6\"/><circle class=\"sym\" cx=\"0\" cy=\"0\" r=\"3\"/><text class=\"lab lft\" transform=\"translate(-3 -7.0)\">3</text></g><circle class=\"sym\" cx=\"0\" cy=\"0\" r=\"3\"/><text class=\"lab\" transform=\"translate(0 -11)\">4</text></g></g></g><g class=\"tree t2\" transform=\"translate(405.6 0)\"><g class=\"plotbox\"><g class=\"c2 node n5 root\" transform=\"translate(76 45.72)\"><g class=\"a5 leaf node n0 sample\" transform=\"translate(-33.6 75.68)\"><path class=\"edge\" d=\"M 0 0 V -75.68 H 33.6\"/><rect class=\"sym\" height=\"6\" width=\"6\" x=\"-3\" y=\"-3\"/><text class=\"lab\" transform=\"translate(0 11)\">0</text></g><g class=\"a5 c2 node n4\" transform=\"translate(33.6 18.92)\"><g class=\"a4 leaf node n1 sample\" transform=\"translate(-22.4 56.76)\"><path class=\"edge\" d=\"M 0 0 V -56.76 H 22.4\"/><rect class=\"sym\" height=\"6\" width=\"6\" x=\"-3\" y=\"-3\"/><text class=\"lab\" transform=\"translate(0 11)\">1</text></g><g class=\"a4 leaf node n2 sample\" transform=\"translate(22.4 56.76)\"><path class=\"edge\" d=\"M 0 0 V -56.76 H -22.4\"/><rect class=\"sym\" height=\"6\" width=\"6\" x=\"-3\" y=\"-3\"/><text class=\"lab\" transform=\"translate(0 11)\">2</text></g><path class=\"edge\" d=\"M 0 0 V -18.92 H -33.6\"/><circle class=\"sym\" cx=\"0\" cy=\"0\" r=\"3\"/><text class=\"lab rgt\" transform=\"translate(3 -7.0)\">4</text></g><circle class=\"sym\" cx=\"0\" cy=\"0\" r=\"3\"/><text class=\"lab\" transform=\"translate(0 -11)\">5</text></g></g></g></g></g></svg>"
      ],
      "text/plain": [
       "<IPython.core.display.SVG object>"
      ]
     },
     "execution_count": 2,
     "metadata": {
      "filenames": {
       "image/svg+xml": "/home/runner/work/tutorials/tutorials/_build/jupyter_execute/data_structures_3_0.svg"
      }
     },
     "output_type": "execute_result"
    }
   ],
   "source": [
    "from IPython.display import SVG\n",
    "ts = tskit.load(\"data/tables_example.trees\")\n",
    "SVG(ts.draw_svg(y_axis=True))"
   ]
  },
  {
   "cell_type": "markdown",
   "id": "bb6bb1d2",
   "metadata": {},
   "source": [
    "Ancestral recombination events have produced three different trees\n",
    "that relate the three sampled genomes ``0``, ``1``, and ``2`` to each other\n",
    "along the chromosome of length 100.\n",
    "\n",
    "#### Node and edge tables\n",
    "\n",
    "Each node in each of the above trees represents a particular ancestral genome\n",
    "(a *haploid* genome; diploid individuals would be represented by two nodes).\n",
    "Details about each node, including the time it lived, are stored in a\n",
    "{class}`NodeTable` (details {ref}`here<tskit:sec_mutation_table_definition>`)"
   ]
  },
  {
   "cell_type": "code",
   "execution_count": 3,
   "id": "f74b4723",
   "metadata": {},
   "outputs": [
    {
     "data": {
      "text/html": [
       "\n",
       "            <div>\n",
       "                <style scoped=\"\">\n",
       "                    .tskit-table tbody tr th:only-of-type {vertical-align: middle;}\n",
       "                    .tskit-table tbody tr th {vertical-align: top;}\n",
       "                    .tskit-table tbody td {text-align: right;padding: 0.5em 0.5em;}\n",
       "                    .tskit-table tbody th {padding: 0.5em 0.5em;}\n",
       "                </style>\n",
       "                <table border=\"1\" class=\"tskit-table\">\n",
       "                    <thead>\n",
       "                        <tr>\n",
       "                            <th>id</th><th>flags</th><th>population</th><th>individual</th><th>time</th><th>metadata</th>\n",
       "                        </tr>\n",
       "                    </thead>\n",
       "                    <tbody>\n",
       "                        <tr><td>0</td><td>1</td><td>-1</td><td>-1</td><td>0.00000000</td><td>b''</td></tr>\n",
       "<tr><td>1</td><td>1</td><td>-1</td><td>-1</td><td>0.00000000</td><td>b''</td></tr>\n",
       "<tr><td>2</td><td>1</td><td>-1</td><td>-1</td><td>0.00000000</td><td>b''</td></tr>\n",
       "<tr><td>3</td><td>0</td><td>-1</td><td>-1</td><td>0.15000000</td><td>b''</td></tr>\n",
       "<tr><td>4</td><td>0</td><td>-1</td><td>-1</td><td>0.60000000</td><td>b''</td></tr>\n",
       "<tr><td>5</td><td>0</td><td>-1</td><td>-1</td><td>0.80000000</td><td>b''</td></tr>\n",
       "<tr><td>6</td><td>0</td><td>-1</td><td>-1</td><td>1.00000000</td><td>b''</td></tr>\n",
       "\n",
       "                    </tbody>\n",
       "                </table>\n",
       "            </div>\n"
      ],
      "text/plain": [
       "<tskit.tables.NodeTable at 0x7ff8e461ae80>"
      ]
     },
     "execution_count": 3,
     "metadata": {},
     "output_type": "execute_result"
    }
   ],
   "source": [
    "ts.tables.nodes"
   ]
  },
  {
   "cell_type": "markdown",
   "id": "a71beaf6",
   "metadata": {},
   "source": [
    "Importantly, the first column, ``id``, is not actually recorded, and is\n",
    "only shown when printing out node tables (as here) for convenience.\n",
    "The second column, ``flags`` records a ``1`` for the individuals that are *samples*,\n",
    "i.e., whose entire genealogical history is recorded by these trees.\n",
    "(Note that the trees above record that node 3 inherited from node 4\n",
    "on the middle portion of the genome, but not on the ends.)\n",
    "\n",
    "The way the nodes are related to each other (i.e. the tree topology) is stored\n",
    "in an {class}`EdgeTable` (details {ref}`here<tskit:sec_edge_table_definition>`).\n",
    "Since some edges are present in more than one tree (e.g., node 1 inherits from node 4\n",
    "across the entire sequence), each edge contains not only the IDs of a parent and a child\n",
    "node, but also the left and right positions which define the genomic region for which it\n",
    "appears in the trees:"
   ]
  },
  {
   "cell_type": "code",
   "execution_count": 4,
   "id": "057d8a32",
   "metadata": {},
   "outputs": [
    {
     "data": {
      "text/html": [
       "\n",
       "            <div>\n",
       "                <style scoped=\"\">\n",
       "                    .tskit-table tbody tr th:only-of-type {vertical-align: middle;}\n",
       "                    .tskit-table tbody tr th {vertical-align: top;}\n",
       "                    .tskit-table tbody td {text-align: right;padding: 0.5em 0.5em;}\n",
       "                    .tskit-table tbody th {padding: 0.5em 0.5em;}\n",
       "                </style>\n",
       "                <table border=\"1\" class=\"tskit-table\">\n",
       "                    <thead>\n",
       "                        <tr>\n",
       "                            <th>id</th><th>left</th><th>right</th><th>parent</th><th>child</th><th>metadata</th>\n",
       "                        </tr>\n",
       "                    </thead>\n",
       "                    <tbody>\n",
       "                        <tr><td>0</td><td>20.00000000</td><td>80.00000000</td><td>3</td><td>0</td><td>b''</td></tr>\n",
       "<tr><td>1</td><td>20.00000000</td><td>80.00000000</td><td>3</td><td>2</td><td>b''</td></tr>\n",
       "<tr><td>2</td><td>0.00000000</td><td>100.00000000</td><td>4</td><td>1</td><td>b''</td></tr>\n",
       "<tr><td>3</td><td>0.00000000</td><td>20.00000000</td><td>4</td><td>2</td><td>b''</td></tr>\n",
       "<tr><td>4</td><td>80.00000000</td><td>100.00000000</td><td>4</td><td>2</td><td>b''</td></tr>\n",
       "<tr><td>5</td><td>20.00000000</td><td>80.00000000</td><td>4</td><td>3</td><td>b''</td></tr>\n",
       "<tr><td>6</td><td>80.00000000</td><td>100.00000000</td><td>5</td><td>0</td><td>b''</td></tr>\n",
       "<tr><td>7</td><td>80.00000000</td><td>100.00000000</td><td>5</td><td>4</td><td>b''</td></tr>\n",
       "<tr><td>8</td><td>0.00000000</td><td>20.00000000</td><td>6</td><td>0</td><td>b''</td></tr>\n",
       "<tr><td>9</td><td>0.00000000</td><td>20.00000000</td><td>6</td><td>4</td><td>b''</td></tr>\n",
       "\n",
       "                    </tbody>\n",
       "                </table>\n",
       "            </div>\n"
      ],
      "text/plain": [
       "<tskit.tables.EdgeTable at 0x7ff8e461a820>"
      ]
     },
     "execution_count": 4,
     "metadata": {},
     "output_type": "execute_result"
    }
   ],
   "source": [
    "ts.tables.edges"
   ]
  },
  {
   "cell_type": "markdown",
   "id": "3d8fa303",
   "metadata": {},
   "source": [
    "Since node 3 is most recent, the edge that says that nodes 0 and 2 inherit\n",
    "from node 3 on the interval between 0.2 and 0.8 comes first.  Next are the\n",
    "edges from node 4: there are four of these, as the edge from node 4 to node\n",
    "1 is shared across the entire sequence, and for each of the three\n",
    "genomic intervals there is an additional child node. At this\n",
    "point, we know the full tree on the middle interval.  Finally, edges\n",
    "specifying the common ancestor of 0 and 4 on the remaining intervals (parents 6\n",
    "and 5 respectively) allow us to construct all trees across the entire interval.\n",
    "\n",
    "\n",
    "\n",
    "#### Sites and mutations tables\n",
    "\n",
    "Most tree sequences have DNA variation data associated with them,\n",
    "{ref}`stored as mutations overlaid on the trees<sec_what_is_dna_data>`:"
   ]
  },
  {
   "cell_type": "code",
   "execution_count": 5,
   "id": "d04bddf2",
   "metadata": {},
   "outputs": [
    {
     "data": {
      "image/svg+xml": [
       "<svg xmlns=\"http://www.w3.org/2000/svg\" xmlns:ev=\"http://www.w3.org/2001/xml-events\" xmlns:xlink=\"http://www.w3.org/1999/xlink\" baseProfile=\"full\" height=\"200\" version=\"1.1\" width=\"600\"><defs><style type=\"text/css\"><![CDATA[.background path {fill: #808080; fill-opacity: 0}.background path:nth-child(odd) {fill-opacity: .1}.axes {font-size: 14px}.x-axis .tick .lab {font-weight: bold; dominant-baseline: hanging}.axes, .tree {font-size: 14px; text-anchor: middle}.axes line, .edge {stroke: black; fill: none}.y-axis .grid {stroke: #FAFAFA}.node > .sym {fill: black; stroke: none}.site > .sym {stroke: black}.mut text {fill: red; font-style: italic}.mut.extra text {fill: hotpink}.mut line {fill: none; stroke: none}.mut .sym {fill: none; stroke: red}.mut.extra .sym {stroke: hotpink}.node .mut .sym {stroke-width: 1.5px}.tree text, .tree-sequence text {dominant-baseline: central}.plotbox .lab.lft {text-anchor: end}.plotbox .lab.rgt {text-anchor: start}]]></style></defs><g class=\"tree-sequence\"><g class=\"background\"><path d=\"M56.8,0 l174.4,0 l0,138.2 l-69.76,25 l0,5 l-104.64,0 l0,-5 l0,-25 l0,-138.2z\"/><path d=\"M231.2,0 l174.4,0 l0,138.2 l69.76,25 l0,5 l-313.92,0 l0,-5 l69.76,-25 l0,-138.2z\"/><path d=\"M405.6,0 l174.4,0 l0,138.2 l0,25 l0,5 l-104.64,0 l0,-5 l-69.76,-25 l0,-138.2z\"/></g><g class=\"axes\"><g class=\"x-axis\"><g transform=\"translate(318.4,200)\"><text class=\"lab\" text-anchor=\"middle\" transform=\"translate(0 -11)\">Genome position</text></g><line x1=\"56.8\" x2=\"580\" y1=\"163.2\" y2=\"163.2\"/><g class=\"ticks\"><g class=\"tick\" transform=\"translate(56.8 163.2)\"><line x1=\"0\" x2=\"0\" y1=\"0\" y2=\"5\"/><g transform=\"translate(0,6)\"><text class=\"lab\">0</text></g></g><g class=\"tick\" transform=\"translate(161.44 163.2)\"><line x1=\"0\" x2=\"0\" y1=\"0\" y2=\"5\"/><g transform=\"translate(0,6)\"><text class=\"lab\">20</text></g></g><g class=\"tick\" transform=\"translate(475.36 163.2)\"><line x1=\"0\" x2=\"0\" y1=\"0\" y2=\"5\"/><g transform=\"translate(0,6)\"><text class=\"lab\">80</text></g></g><g class=\"tick\" transform=\"translate(580 163.2)\"><line x1=\"0\" x2=\"0\" y1=\"0\" y2=\"5\"/><g transform=\"translate(0,6)\"><text class=\"lab\">100</text></g></g></g><g class=\"site s0\" transform=\"translate(135.28 163.2)\"><line class=\"sym\" x1=\"0\" x2=\"0\" y1=\"0\" y2=\"-10\"/><g class=\"mut m0\"><polyline class=\"sym\" points=\"2.5,-6.5 0,-1.5 -2.5,-6.5\"/></g></g><g class=\"site s1\" transform=\"translate(276.544 163.2)\"><line class=\"sym\" x1=\"0\" x2=\"0\" y1=\"0\" y2=\"-10\"/><g class=\"mut m1\"><polyline class=\"sym\" points=\"2.5,-6.5 0,-1.5 -2.5,-6.5\"/></g></g><g class=\"site s2\" transform=\"translate(370.72 163.2)\"><line class=\"sym\" x1=\"0\" x2=\"0\" y1=\"0\" y2=\"-10\"/><g class=\"mut m3\"><polyline class=\"sym\" points=\"2.5,-6.5 0,-1.5 -2.5,-6.5\"/></g><g class=\"mut m2\"><polyline class=\"sym\" points=\"2.5,-10.5 0,-5.5 -2.5,-10.5\"/></g></g></g><g class=\"y-axis\"><g transform=\"translate(0,65.7)\"><text class=\"lab\" text-anchor=\"middle\" transform=\"translate(11) rotate(-90)\">Time</text></g><line x1=\"56.8\" x2=\"56.8\" y1=\"121.4\" y2=\"10\"/><g class=\"ticks\"><g class=\"tick\" transform=\"translate(56.8 121.4)\"><line x1=\"0\" x2=\"-5\" y1=\"0\" y2=\"0\"/><g transform=\"translate(-6,0)\"><text class=\"lab\" text-anchor=\"end\">0.00</text></g></g><g class=\"tick\" transform=\"translate(56.8 107.21)\"><line x1=\"0\" x2=\"-5\" y1=\"0\" y2=\"0\"/><g transform=\"translate(-6,0)\"><text class=\"lab\" text-anchor=\"end\">0.15</text></g></g><g class=\"tick\" transform=\"translate(56.8 64.64)\"><line x1=\"0\" x2=\"-5\" y1=\"0\" y2=\"0\"/><g transform=\"translate(-6,0)\"><text class=\"lab\" text-anchor=\"end\">0.60</text></g></g><g class=\"tick\" transform=\"translate(56.8 45.72)\"><line x1=\"0\" x2=\"-5\" y1=\"0\" y2=\"0\"/><g transform=\"translate(-6,0)\"><text class=\"lab\" text-anchor=\"end\">0.80</text></g></g><g class=\"tick\" transform=\"translate(56.8 26.8)\"><line x1=\"0\" x2=\"-5\" y1=\"0\" y2=\"0\"/><g transform=\"translate(-6,0)\"><text class=\"lab\" text-anchor=\"end\">1.00</text></g></g></g></g></g><g class=\"plotbox trees\"><g class=\"tree t0\" transform=\"translate(56.8 0)\"><g class=\"plotbox\"><g class=\"c2 node n6 root\" transform=\"translate(76 26.8)\"><g class=\"a6 leaf node n0 sample\" transform=\"translate(-33.6 94.6)\"><path class=\"edge\" d=\"M 0 0 V -94.6 H 33.6\"/><rect class=\"sym\" height=\"6\" width=\"6\" x=\"-3\" y=\"-3\"/><text class=\"lab\" transform=\"translate(0 11)\">0</text></g><g class=\"a6 c2 m0 node n4 s0\" transform=\"translate(33.6 37.84)\"><g class=\"a4 leaf node n1 sample\" transform=\"translate(-22.4 56.76)\"><path class=\"edge\" d=\"M 0 0 V -56.76 H 22.4\"/><rect class=\"sym\" height=\"6\" width=\"6\" x=\"-3\" y=\"-3\"/><text class=\"lab\" transform=\"translate(0 11)\">1</text></g><g class=\"a4 leaf node n2 sample\" transform=\"translate(22.4 56.76)\"><path class=\"edge\" d=\"M 0 0 V -56.76 H -22.4\"/><rect class=\"sym\" height=\"6\" width=\"6\" x=\"-3\" y=\"-3\"/><text class=\"lab\" transform=\"translate(0 11)\">2</text></g><path class=\"edge\" d=\"M 0 0 V -37.84 H -33.6\"/><g class=\"mut m0 s0\" transform=\"translate(0 -28.38)\"><line x1=\"0\" x2=\"0\" y1=\"0\" y2=\"28.38\"/><path class=\"sym\" d=\"M -3,-3 l 6,6 M -3,3 l 6,-6\"/><text class=\"lab rgt\" transform=\"translate(5 0)\">A→G @15</text></g><circle class=\"sym\" cx=\"0\" cy=\"0\" r=\"3\"/><text class=\"lab rgt\" transform=\"translate(3 -7.0)\">4</text></g><circle class=\"sym\" cx=\"0\" cy=\"0\" r=\"3\"/><text class=\"lab\" transform=\"translate(0 -11)\">6</text></g></g></g><g class=\"tree t1\" transform=\"translate(231.2 0)\"><g class=\"plotbox\"><g class=\"c2 node n4 root\" transform=\"translate(98.4 64.64)\"><g class=\"a4 leaf m1 node n1 s1 sample\" transform=\"translate(33.6 56.76)\"><path class=\"edge\" d=\"M 0 0 V -56.76 H -33.6\"/><g class=\"mut m1 s1\" transform=\"translate(0 -37.84)\"><line x1=\"0\" x2=\"0\" y1=\"0\" y2=\"37.84\"/><path class=\"sym\" d=\"M -3,-3 l 6,6 M -3,3 l 6,-6\"/><text class=\"lab rgt\" transform=\"translate(5 0)\">G→A @42</text></g><rect class=\"sym\" height=\"6\" width=\"6\" x=\"-3\" y=\"-3\"/><text class=\"lab\" transform=\"translate(0 11)\">1</text></g><g class=\"a4 c2 m2 node n3 s2\" transform=\"translate(-33.6 42.57)\"><g class=\"a3 leaf m3 node n0 s2 sample\" transform=\"translate(-22.4 14.19)\"><path class=\"edge\" d=\"M 0 0 V -14.19 H 22.4\"/><g class=\"mut m3 s2\" transform=\"translate(0 -9.46)\"><line x1=\"0\" x2=\"0\" y1=\"0\" y2=\"9.46\"/><path class=\"sym\" d=\"M -3,-3 l 6,6 M -3,3 l 6,-6\"/><text class=\"lab lft\" transform=\"translate(-5 0)\">C→T @60</text></g><rect class=\"sym\" height=\"6\" width=\"6\" x=\"-3\" y=\"-3\"/><text class=\"lab\" transform=\"translate(0 11)\">0</text></g><g class=\"a3 leaf node n2 sample\" transform=\"translate(22.4 14.19)\"><path class=\"edge\" d=\"M 0 0 V -14.19 H -22.4\"/><rect class=\"sym\" height=\"6\" width=\"6\" x=\"-3\" y=\"-3\"/><text class=\"lab\" transform=\"translate(0 11)\">2</text></g><path class=\"edge\" d=\"M 0 0 V -42.57 H 33.6\"/><g class=\"mut m2 s2\" transform=\"translate(0 -37.84)\"><line x1=\"0\" x2=\"0\" y1=\"0\" y2=\"37.84\"/><path class=\"sym\" d=\"M -3,-3 l 6,6 M -3,3 l 6,-6\"/><text class=\"lab lft\" transform=\"translate(-5 0)\">T→C @60</text></g><circle class=\"sym\" cx=\"0\" cy=\"0\" r=\"3\"/><text class=\"lab lft\" transform=\"translate(-3 -7.0)\">3</text></g><circle class=\"sym\" cx=\"0\" cy=\"0\" r=\"3\"/><text class=\"lab\" transform=\"translate(0 -11)\">4</text></g></g></g><g class=\"tree t2\" transform=\"translate(405.6 0)\"><g class=\"plotbox\"><g class=\"c2 node n5 root\" transform=\"translate(76 45.72)\"><g class=\"a5 leaf node n0 sample\" transform=\"translate(-33.6 75.68)\"><path class=\"edge\" d=\"M 0 0 V -75.68 H 33.6\"/><rect class=\"sym\" height=\"6\" width=\"6\" x=\"-3\" y=\"-3\"/><text class=\"lab\" transform=\"translate(0 11)\">0</text></g><g class=\"a5 c2 node n4\" transform=\"translate(33.6 18.92)\"><g class=\"a4 leaf node n1 sample\" transform=\"translate(-22.4 56.76)\"><path class=\"edge\" d=\"M 0 0 V -56.76 H 22.4\"/><rect class=\"sym\" height=\"6\" width=\"6\" x=\"-3\" y=\"-3\"/><text class=\"lab\" transform=\"translate(0 11)\">1</text></g><g class=\"a4 leaf node n2 sample\" transform=\"translate(22.4 56.76)\"><path class=\"edge\" d=\"M 0 0 V -56.76 H -22.4\"/><rect class=\"sym\" height=\"6\" width=\"6\" x=\"-3\" y=\"-3\"/><text class=\"lab\" transform=\"translate(0 11)\">2</text></g><path class=\"edge\" d=\"M 0 0 V -18.92 H -33.6\"/><circle class=\"sym\" cx=\"0\" cy=\"0\" r=\"3\"/><text class=\"lab rgt\" transform=\"translate(3 -7.0)\">4</text></g><circle class=\"sym\" cx=\"0\" cy=\"0\" r=\"3\"/><text class=\"lab\" transform=\"translate(0 -11)\">5</text></g></g></g></g></g></svg>"
      ],
      "text/plain": [
       "<IPython.core.display.SVG object>"
      ]
     },
     "execution_count": 5,
     "metadata": {
      "filenames": {
       "image/svg+xml": "/home/runner/work/tutorials/tutorials/_build/jupyter_execute/data_structures_9_0.svg"
      }
     },
     "output_type": "execute_result"
    }
   ],
   "source": [
    "ts = tskit.load(\"data/tables_example_muts.trees\")\n",
    "mut_labels = {}  # An array of labels for the mutations, listing position & allele change\n",
    "for mut in ts.mutations():  # This entire loop is just to make pretty labels\n",
    "    site = ts.site(mut.site)\n",
    "    older_mut = mut.parent >= 0  # is there an older mutation at the same position?\n",
    "    prev = ts.mutation(mut.parent).derived_state if older_mut else site.ancestral_state\n",
    "    mut_labels[mut.id] = \"{}→{} @{:g}\".format(prev, mut.derived_state, site.position)\n",
    "\n",
    "SVG(ts.draw_svg(y_axis=True, mutation_labels=mut_labels))"
   ]
  },
  {
   "cell_type": "markdown",
   "id": "476ae3fe",
   "metadata": {},
   "source": [
    "There are four mutations in the depiction above,\n",
    "marked by red crosses: one above node ``4`` on the first tree which records an A to G\n",
    "transition at position 15, another above node ``1`` in the second tree which records a G\n",
    "to A transition at position 45, and the final two above nodes ``2`` and ``0`` recording\n",
    "transitions, both at position 60, on the second tree. The positions are recorded in the\n",
    "{class}`SiteTable` (details {ref}`here<tskit:sec_site_table_definition>`):"
   ]
  },
  {
   "cell_type": "code",
   "execution_count": 6,
   "id": "25e45c1f",
   "metadata": {},
   "outputs": [
    {
     "data": {
      "text/html": [
       "\n",
       "            <div>\n",
       "                <style scoped=\"\">\n",
       "                    .tskit-table tbody tr th:only-of-type {vertical-align: middle;}\n",
       "                    .tskit-table tbody tr th {vertical-align: top;}\n",
       "                    .tskit-table tbody td {text-align: right;padding: 0.5em 0.5em;}\n",
       "                    .tskit-table tbody th {padding: 0.5em 0.5em;}\n",
       "                </style>\n",
       "                <table border=\"1\" class=\"tskit-table\">\n",
       "                    <thead>\n",
       "                        <tr>\n",
       "                            <th>id</th><th>position</th><th>ancestral_state</th><th>metadata</th>\n",
       "                        </tr>\n",
       "                    </thead>\n",
       "                    <tbody>\n",
       "                        <tr><td>0</td><td>15.00000000</td><td>A</td><td>b''</td></tr>\n",
       "<tr><td>1</td><td>42.00000000</td><td>G</td><td>b''</td></tr>\n",
       "<tr><td>2</td><td>60.00000000</td><td>T</td><td>b''</td></tr>\n",
       "\n",
       "                    </tbody>\n",
       "                </table>\n",
       "            </div>\n"
      ],
      "text/plain": [
       "<tskit.tables.SiteTable at 0x7ff8e461abb0>"
      ]
     },
     "execution_count": 6,
     "metadata": {},
     "output_type": "execute_result"
    }
   ],
   "source": [
    "ts.tables.sites"
   ]
  },
  {
   "cell_type": "markdown",
   "id": "679f94e5",
   "metadata": {},
   "source": [
    "As with node tables, the ``id`` column is **not** actually recorded, but is\n",
    "implied by the position in the table.  The mutations themselves are recorded in the\n",
    "{class}`MutationTable` (details {ref}`here<tskit:sec_mutation_table_definition>`).\n",
    "This associates each mutation with a site ID, the ID of the node above which the\n",
    "mutation occurs, the derived state to which the allele has mutated, and (optionally) a\n",
    "time at which the mutation occured."
   ]
  },
  {
   "cell_type": "code",
   "execution_count": 7,
   "id": "12086d86",
   "metadata": {},
   "outputs": [
    {
     "data": {
      "text/html": [
       "\n",
       "            <div>\n",
       "                <style scoped=\"\">\n",
       "                    .tskit-table tbody tr th:only-of-type {vertical-align: middle;}\n",
       "                    .tskit-table tbody tr th {vertical-align: top;}\n",
       "                    .tskit-table tbody td {text-align: right;padding: 0.5em 0.5em;}\n",
       "                    .tskit-table tbody th {padding: 0.5em 0.5em;}\n",
       "                </style>\n",
       "                <table border=\"1\" class=\"tskit-table\">\n",
       "                    <thead>\n",
       "                        <tr>\n",
       "                            <th>id</th><th>site</th><th>node</th><th>time</th><th>derived_state</th><th>parent</th><th>metadata</th>\n",
       "                        </tr>\n",
       "                    </thead>\n",
       "                    <tbody>\n",
       "                        <tr><td>0</td><td>0</td><td>4</td><td>0.90000000</td><td>G</td><td>-1</td><td>b''</td></tr>\n",
       "<tr><td>1</td><td>1</td><td>1</td><td>0.40000000</td><td>A</td><td>-1</td><td>b''</td></tr>\n",
       "<tr><td>2</td><td>2</td><td>3</td><td>0.55000000</td><td>C</td><td>-1</td><td>b''</td></tr>\n",
       "<tr><td>3</td><td>2</td><td>0</td><td>0.10000000</td><td>T</td><td>2</td><td>b''</td></tr>\n",
       "\n",
       "                    </tbody>\n",
       "                </table>\n",
       "            </div>\n"
      ],
      "text/plain": [
       "<tskit.tables.MutationTable at 0x7ff8b4ff7190>"
      ]
     },
     "execution_count": 7,
     "metadata": {},
     "output_type": "execute_result"
    }
   ],
   "source": [
    "ts.tables.mutations"
   ]
  },
  {
   "cell_type": "markdown",
   "id": "d8e00e0d",
   "metadata": {},
   "source": [
    "Where there are multiple mutations at the same site, there can be mutations\n",
    "stacked on top of each other. The \"parent\" column therefore contains the ID of the\n",
    "mutation immediately above the current one at the same site, or -1 if there is no parent.\n",
    "\n",
    "These sites and mutations allow us to calculate the DNA sequence, or haplotype, for each\n",
    "of the sample nodes:"
   ]
  },
  {
   "cell_type": "code",
   "execution_count": 8,
   "id": "9e8ebe1d",
   "metadata": {},
   "outputs": [
    {
     "name": "stdout",
     "output_type": "stream",
     "text": [
      "Sample 0: AGT\n",
      "Sample 1: GAT\n",
      "Sample 2: GGC\n"
     ]
    }
   ],
   "source": [
    "for sample, h in enumerate(ts.haplotypes()):\n",
    "    print(f\"Sample {sample}: {h}\")"
   ]
  },
  {
   "cell_type": "markdown",
   "id": "df7e52c3",
   "metadata": {},
   "source": [
    "#### Other tables\n",
    "\n",
    "The other tables in a {class}`TableCollection` are the {class}`IndividualTable` (which\n",
    "records which {ref}`individual organism<sec_nodes_or_individuals>` a node is contained\n",
    "in), the {class}`PopulationTable` and the {class}`MigrationTable`, and the\n",
    "{class}`ProvenanceTable` which records the {ref}`tskit:sec_provenance` of the data in\n",
    "a tree sequence. These won't be covered in this tutorial.\n",
    "\n",
    "#### Metadata\n",
    "\n",
    "You may have noticed ``metadata`` columns in all the tables above. All tables can have\n",
    "(optional) metadata attached to their rows, as described in the {ref}`sec_metadata`\n",
    "section of the official {program}`tskit` documentation.\n",
    "The {ref}`metadata tutorial<sec_tutorial_metadata>` provides more information about how\n",
    "to set and use these metadata columns in tree sequence tables.\n",
    "\n",
    "\n",
    "### Accessing table data\n",
    "\n",
    "To look at a the contents of a table, you can simply `print` it:"
   ]
  },
  {
   "cell_type": "code",
   "execution_count": 9,
   "id": "95545cbe",
   "metadata": {},
   "outputs": [
    {
     "name": "stdout",
     "output_type": "stream",
     "text": [
      "╔══╤════╤════╤══════════╤═════════════╤══════╤════════╗\n",
      "║id│site│node│time      │derived_state│parent│metadata║\n",
      "╠══╪════╪════╪══════════╪═════════════╪══════╪════════╣\n",
      "║0 │   0│   4│0.90000000│            G│    -1│     b''║\n",
      "║1 │   1│   1│0.40000000│            A│    -1│     b''║\n",
      "║2 │   2│   3│0.55000000│            C│    -1│     b''║\n",
      "║3 │   2│   0│0.10000000│            T│     2│     b''║\n",
      "╚══╧════╧════╧══════════╧═════════════╧══════╧════════╝\n",
      "\n"
     ]
    }
   ],
   "source": [
    "print(ts.tables.mutations)"
   ]
  },
  {
   "cell_type": "markdown",
   "id": "3b0870cb",
   "metadata": {},
   "source": [
    "But {program}`tskit` also provides access to the rows and columns of each table.\n",
    "\n",
    "#### Row access\n",
    "\n",
    "Rows can be accessed using square braces, which will return an object containing the\n",
    "raw values:"
   ]
  },
  {
   "cell_type": "code",
   "execution_count": 10,
   "id": "74ac1388",
   "metadata": {},
   "outputs": [
    {
     "name": "stdout",
     "output_type": "stream",
     "text": [
      "A mutation at site 1 exists at time 0.4\n",
      "MutationTableRow(site=1, node=1, derived_state='A', parent=-1, metadata=b'', time=0.4)\n"
     ]
    }
   ],
   "source": [
    "row = ts.tables.mutations[1]\n",
    "print(f\"A mutation at site {row.site} exists at time {row.time}\")\n",
    "print(row)"
   ]
  },
  {
   "cell_type": "markdown",
   "id": "8ea1b063",
   "metadata": {},
   "source": [
    "Additionally, many rows can be extracted into a new table using slices or\n",
    "{ref}`numpy indexing<numpy:basics.indexing>`"
   ]
  },
  {
   "cell_type": "code",
   "execution_count": 11,
   "id": "3cef3afd",
   "metadata": {},
   "outputs": [
    {
     "data": {
      "text/html": [
       "\n",
       "            <div>\n",
       "                <style scoped=\"\">\n",
       "                    .tskit-table tbody tr th:only-of-type {vertical-align: middle;}\n",
       "                    .tskit-table tbody tr th {vertical-align: top;}\n",
       "                    .tskit-table tbody td {text-align: right;padding: 0.5em 0.5em;}\n",
       "                    .tskit-table tbody th {padding: 0.5em 0.5em;}\n",
       "                </style>\n",
       "                <table border=\"1\" class=\"tskit-table\">\n",
       "                    <thead>\n",
       "                        <tr>\n",
       "                            <th>id</th><th>site</th><th>node</th><th>time</th><th>derived_state</th><th>parent</th><th>metadata</th>\n",
       "                        </tr>\n",
       "                    </thead>\n",
       "                    <tbody>\n",
       "                        <tr><td>0</td><td>2</td><td>3</td><td>0.55000000</td><td>C</td><td>-1</td><td>b''</td></tr>\n",
       "<tr><td>1</td><td>2</td><td>0</td><td>0.10000000</td><td>T</td><td>2</td><td>b''</td></tr>\n",
       "\n",
       "                    </tbody>\n",
       "                </table>\n",
       "            </div>\n"
      ],
      "text/plain": [
       "<tskit.tables.MutationTable at 0x7ff8b4ff7850>"
      ]
     },
     "execution_count": 11,
     "metadata": {},
     "output_type": "execute_result"
    }
   ],
   "source": [
    "ts.tables.mutations[2:4]"
   ]
  },
  {
   "cell_type": "markdown",
   "id": "dcfd8b72",
   "metadata": {},
   "source": [
    ":::{note}\n",
    "When manipulating table data, it is quite possible to create a table collection that\n",
    "does not correspond to a valid tree sequence. For instance, if we replaced the mutations\n",
    "table in our original tree sequence with the table above, the parent column\n",
    "would refer to an invalid mutation ID (ID 2, when in the new tables we only have\n",
    "mutations with IDs 0 and 1). In this particular case there is a method,\n",
    "{meth}`TableCollection.compute_mutation_parents`, which will recalculate the parent IDs\n",
    "from the trees, but there is no general way to ensure that a manipulated table will\n",
    "remain valid.\n",
    ":::\n",
    "\n",
    "Rows can also be *added* to a table using ``.add_row()``. However, when modifying tables\n",
    "from a tree sequence, you should always modify a *copy* of the original data,\n",
    "using the {meth}`TreeSequence.dump_tables` method:"
   ]
  },
  {
   "cell_type": "code",
   "execution_count": 12,
   "id": "d9bbae1f",
   "metadata": {},
   "outputs": [
    {
     "name": "stdout",
     "output_type": "stream",
     "text": [
      "New empty site allocated at position {new_pos} with ID {new_site_id}\n"
     ]
    },
    {
     "data": {
      "text/html": [
       "\n",
       "            <div>\n",
       "                <style scoped=\"\">\n",
       "                    .tskit-table tbody tr th:only-of-type {vertical-align: middle;}\n",
       "                    .tskit-table tbody tr th {vertical-align: top;}\n",
       "                    .tskit-table tbody td {text-align: right;padding: 0.5em 0.5em;}\n",
       "                    .tskit-table tbody th {padding: 0.5em 0.5em;}\n",
       "                </style>\n",
       "                <table border=\"1\" class=\"tskit-table\">\n",
       "                    <thead>\n",
       "                        <tr>\n",
       "                            <th>id</th><th>position</th><th>ancestral_state</th><th>metadata</th>\n",
       "                        </tr>\n",
       "                    </thead>\n",
       "                    <tbody>\n",
       "                        <tr><td>0</td><td>15.00000000</td><td>A</td><td>b''</td></tr>\n",
       "<tr><td>1</td><td>42.00000000</td><td>G</td><td>b''</td></tr>\n",
       "<tr><td>2</td><td>60.00000000</td><td>T</td><td>b''</td></tr>\n",
       "<tr><td>3</td><td>10.00000000</td><td>G</td><td>b''</td></tr>\n",
       "\n",
       "                    </tbody>\n",
       "                </table>\n",
       "            </div>\n"
      ],
      "text/plain": [
       "<tskit.tables.SiteTable at 0x7ff8b5064a60>"
      ]
     },
     "execution_count": 12,
     "metadata": {},
     "output_type": "execute_result"
    }
   ],
   "source": [
    "new_tables = ts.dump_tables()\n",
    "new_pos = 10\n",
    "new_site_id = new_tables.sites.add_row(position=new_pos, ancestral_state=\"G\")\n",
    "print(\"New empty site allocated at position {new_pos} with ID {new_site_id}\")\n",
    "new_tables.sites"
   ]
  },
  {
   "cell_type": "markdown",
   "id": "52bf1893",
   "metadata": {},
   "source": [
    "Note that one of the requirements of a tree sequence is that the sites are listed in\n",
    "order of position, so this new table will require sorting (see\n",
    "{ref}`sec_data_structures_tables_creating`)\n",
    "\n",
    "\n",
    "#### Column access\n",
    "\n",
    "An entire column in a table can be extracted as a {program}`numpy` array from the table\n",
    "object. For instance, if ``n`` is a {class}`NodeTable`, then ``n.time``\n",
    "will return an array containing the birth times of the individuals whose genomes\n",
    "are represented by the nodes in the table. *However*, it is important to note that this\n",
    "is a copy of the data, and modifying individual elements of ``n.time`` will *not* change\n",
    "the node table ``n``. To change the column data, you need to take a copy, modify it,\n",
    "and assign it back in. For example, here we add 0.25 to every ``time`` except the first\n",
    "in the node table from our current example:"
   ]
  },
  {
   "cell_type": "code",
   "execution_count": 13,
   "id": "39a7034b",
   "metadata": {},
   "outputs": [
    {
     "name": "stdout",
     "output_type": "stream",
     "text": [
      "Old node times: [0.   0.   0.   0.15 0.6  0.8  1.  ]\n"
     ]
    },
    {
     "data": {
      "text/html": [
       "\n",
       "            <div>\n",
       "                <style scoped=\"\">\n",
       "                    .tskit-table tbody tr th:only-of-type {vertical-align: middle;}\n",
       "                    .tskit-table tbody tr th {vertical-align: top;}\n",
       "                    .tskit-table tbody td {text-align: right;padding: 0.5em 0.5em;}\n",
       "                    .tskit-table tbody th {padding: 0.5em 0.5em;}\n",
       "                </style>\n",
       "                <table border=\"1\" class=\"tskit-table\">\n",
       "                    <thead>\n",
       "                        <tr>\n",
       "                            <th>id</th><th>flags</th><th>population</th><th>individual</th><th>time</th><th>metadata</th>\n",
       "                        </tr>\n",
       "                    </thead>\n",
       "                    <tbody>\n",
       "                        <tr><td>0</td><td>1</td><td>-1</td><td>-1</td><td>0.00000000</td><td>b''</td></tr>\n",
       "<tr><td>1</td><td>1</td><td>-1</td><td>-1</td><td>0.25000000</td><td>b''</td></tr>\n",
       "<tr><td>2</td><td>1</td><td>-1</td><td>-1</td><td>0.25000000</td><td>b''</td></tr>\n",
       "<tr><td>3</td><td>0</td><td>-1</td><td>-1</td><td>0.40000000</td><td>b''</td></tr>\n",
       "<tr><td>4</td><td>0</td><td>-1</td><td>-1</td><td>0.85000000</td><td>b''</td></tr>\n",
       "<tr><td>5</td><td>0</td><td>-1</td><td>-1</td><td>1.05000000</td><td>b''</td></tr>\n",
       "<tr><td>6</td><td>0</td><td>-1</td><td>-1</td><td>1.25000000</td><td>b''</td></tr>\n",
       "\n",
       "                    </tbody>\n",
       "                </table>\n",
       "            </div>\n"
      ],
      "text/plain": [
       "<tskit.tables.NodeTable at 0x7ff8e461af40>"
      ]
     },
     "execution_count": 13,
     "metadata": {},
     "output_type": "execute_result"
    }
   ],
   "source": [
    "node_table = new_tables.nodes\n",
    "times = node_table.time\n",
    "print(\"Old node times:\", times)\n",
    "times[1:] = times[1:] + 0.25\n",
    "node_table.time = times\n",
    "node_table"
   ]
  },
  {
   "cell_type": "markdown",
   "id": "f9c65a96",
   "metadata": {},
   "source": [
    "When assigning columns like this, an error will be raised if the column is not of the\n",
    "expected length:"
   ]
  },
  {
   "cell_type": "code",
   "execution_count": 14,
   "id": "fc456ecd",
   "metadata": {
    "tags": [
     "raises-exception"
    ]
   },
   "outputs": [
    {
     "ename": "ValueError",
     "evalue": "Input array dimensions must be equal.",
     "output_type": "error",
     "traceback": [
      "\u001b[0;31m---------------------------------------------------------------------------\u001b[0m",
      "\u001b[0;31mValueError\u001b[0m                                Traceback (most recent call last)",
      "\u001b[0;32m/tmp/ipykernel_4952/1022932079.py\u001b[0m in \u001b[0;36m<module>\u001b[0;34m\u001b[0m\n\u001b[0;32m----> 1\u001b[0;31m \u001b[0mnode_table\u001b[0m\u001b[0;34m.\u001b[0m\u001b[0mtime\u001b[0m \u001b[0;34m=\u001b[0m \u001b[0mtimes\u001b[0m\u001b[0;34m[\u001b[0m\u001b[0;36m2\u001b[0m\u001b[0;34m:\u001b[0m\u001b[0;34m]\u001b[0m\u001b[0;34m\u001b[0m\u001b[0;34m\u001b[0m\u001b[0m\n\u001b[0m",
      "\u001b[0;32m/opt/hostedtoolcache/Python/3.8.11/x64/lib/python3.8/site-packages/tskit/tables.py\u001b[0m in \u001b[0;36m__setattr__\u001b[0;34m(self, name, value)\u001b[0m\n\u001b[1;32m    331\u001b[0m             \u001b[0md\u001b[0m \u001b[0;34m=\u001b[0m \u001b[0mself\u001b[0m\u001b[0;34m.\u001b[0m\u001b[0masdict\u001b[0m\u001b[0;34m(\u001b[0m\u001b[0;34m)\u001b[0m\u001b[0;34m\u001b[0m\u001b[0;34m\u001b[0m\u001b[0m\n\u001b[1;32m    332\u001b[0m             \u001b[0md\u001b[0m\u001b[0;34m[\u001b[0m\u001b[0mname\u001b[0m\u001b[0;34m]\u001b[0m \u001b[0;34m=\u001b[0m \u001b[0mvalue\u001b[0m\u001b[0;34m\u001b[0m\u001b[0;34m\u001b[0m\u001b[0m\n\u001b[0;32m--> 333\u001b[0;31m             \u001b[0mself\u001b[0m\u001b[0;34m.\u001b[0m\u001b[0mset_columns\u001b[0m\u001b[0;34m(\u001b[0m\u001b[0;34m**\u001b[0m\u001b[0md\u001b[0m\u001b[0;34m)\u001b[0m\u001b[0;34m\u001b[0m\u001b[0;34m\u001b[0m\u001b[0m\n\u001b[0m\u001b[1;32m    334\u001b[0m         \u001b[0;32melse\u001b[0m\u001b[0;34m:\u001b[0m\u001b[0;34m\u001b[0m\u001b[0;34m\u001b[0m\u001b[0m\n\u001b[1;32m    335\u001b[0m             \u001b[0mobject\u001b[0m\u001b[0;34m.\u001b[0m\u001b[0m__setattr__\u001b[0m\u001b[0;34m(\u001b[0m\u001b[0mself\u001b[0m\u001b[0;34m,\u001b[0m \u001b[0mname\u001b[0m\u001b[0;34m,\u001b[0m \u001b[0mvalue\u001b[0m\u001b[0;34m)\u001b[0m\u001b[0;34m\u001b[0m\u001b[0;34m\u001b[0m\u001b[0m\n",
      "\u001b[0;32m/opt/hostedtoolcache/Python/3.8.11/x64/lib/python3.8/site-packages/tskit/tables.py\u001b[0m in \u001b[0;36mset_columns\u001b[0;34m(self, flags, time, population, individual, metadata, metadata_offset, metadata_schema)\u001b[0m\n\u001b[1;32m    949\u001b[0m         \"\"\"\n\u001b[1;32m    950\u001b[0m         \u001b[0mself\u001b[0m\u001b[0;34m.\u001b[0m\u001b[0m_check_required_args\u001b[0m\u001b[0;34m(\u001b[0m\u001b[0mflags\u001b[0m\u001b[0;34m=\u001b[0m\u001b[0mflags\u001b[0m\u001b[0;34m,\u001b[0m \u001b[0mtime\u001b[0m\u001b[0;34m=\u001b[0m\u001b[0mtime\u001b[0m\u001b[0;34m)\u001b[0m\u001b[0;34m\u001b[0m\u001b[0;34m\u001b[0m\u001b[0m\n\u001b[0;32m--> 951\u001b[0;31m         self.ll_table.set_columns(\n\u001b[0m\u001b[1;32m    952\u001b[0m             dict(\n\u001b[1;32m    953\u001b[0m                 \u001b[0mflags\u001b[0m\u001b[0;34m=\u001b[0m\u001b[0mflags\u001b[0m\u001b[0;34m,\u001b[0m\u001b[0;34m\u001b[0m\u001b[0;34m\u001b[0m\u001b[0m\n",
      "\u001b[0;31mValueError\u001b[0m: Input array dimensions must be equal."
     ]
    }
   ],
   "source": [
    "node_table.time = times[2:]"
   ]
  },
  {
   "cell_type": "markdown",
   "id": "9bbbfd2b",
   "metadata": {},
   "source": [
    "(sec_data_structures_tables_creating)=\n",
    "\n",
    "### Turning tables into a tree sequence\n",
    "\n",
    "The {meth}`TableCollection.tree_sequence` method will attempt to turn a table collection\n",
    "into a tree sequence. This is not guaranteed to work: it's possible you have created a\n",
    "nonsensical tree sequence where, for example, a child node has multiple parents at\n",
    "a given position. The {ref}`tskit:sec_valid_tree_sequence_requirements` section of the\n",
    "official tskit docs lists the requirements; these include the correct order for rows in\n",
    "a number of tables. For instance, the sites table is\n",
    "{ref}`required<tskit:sec_site_requirements>` to be sorted in order of position. Since\n",
    "this is not true of the sites table in the ``new_tables`` collection we have just\n",
    "created, we need to {meth}`~TableCollection.sort` the table collection before turning\n",
    "it into a tree sequence"
   ]
  },
  {
   "cell_type": "code",
   "execution_count": 15,
   "id": "65eed8ae",
   "metadata": {},
   "outputs": [
    {
     "data": {
      "image/svg+xml": [
       "<svg xmlns=\"http://www.w3.org/2000/svg\" xmlns:ev=\"http://www.w3.org/2001/xml-events\" xmlns:xlink=\"http://www.w3.org/1999/xlink\" baseProfile=\"full\" height=\"200\" version=\"1.1\" width=\"600\"><defs><style type=\"text/css\"><![CDATA[.background path {fill: #808080; fill-opacity: 0}.background path:nth-child(odd) {fill-opacity: .1}.axes {font-size: 14px}.x-axis .tick .lab {font-weight: bold; dominant-baseline: hanging}.axes, .tree {font-size: 14px; text-anchor: middle}.axes line, .edge {stroke: black; fill: none}.y-axis .grid {stroke: #FAFAFA}.node > .sym {fill: black; stroke: none}.site > .sym {stroke: black}.mut text {fill: red; font-style: italic}.mut.extra text {fill: hotpink}.mut line {fill: none; stroke: none}.mut .sym {fill: none; stroke: red}.mut.extra .sym {stroke: hotpink}.node .mut .sym {stroke-width: 1.5px}.tree text, .tree-sequence text {dominant-baseline: central}.plotbox .lab.lft {text-anchor: end}.plotbox .lab.rgt {text-anchor: start}]]></style></defs><g class=\"tree-sequence\"><g class=\"background\"><path d=\"M56.8,0 l174.4,0 l0,138.2 l-69.76,25 l0,5 l-104.64,0 l0,-5 l0,-25 l0,-138.2z\"/><path d=\"M231.2,0 l174.4,0 l0,138.2 l69.76,25 l0,5 l-313.92,0 l0,-5 l69.76,-25 l0,-138.2z\"/><path d=\"M405.6,0 l174.4,0 l0,138.2 l0,25 l0,5 l-104.64,0 l0,-5 l-69.76,-25 l0,-138.2z\"/></g><g class=\"axes\"><g class=\"x-axis\"><g transform=\"translate(318.4,200)\"><text class=\"lab\" text-anchor=\"middle\" transform=\"translate(0 -11)\">Genome position</text></g><line x1=\"56.8\" x2=\"580\" y1=\"163.2\" y2=\"163.2\"/><g class=\"ticks\"><g class=\"tick\" transform=\"translate(56.8 163.2)\"><line x1=\"0\" x2=\"0\" y1=\"0\" y2=\"5\"/><g transform=\"translate(0,6)\"><text class=\"lab\">0</text></g></g><g class=\"tick\" transform=\"translate(161.44 163.2)\"><line x1=\"0\" x2=\"0\" y1=\"0\" y2=\"5\"/><g transform=\"translate(0,6)\"><text class=\"lab\">20</text></g></g><g class=\"tick\" transform=\"translate(475.36 163.2)\"><line x1=\"0\" x2=\"0\" y1=\"0\" y2=\"5\"/><g transform=\"translate(0,6)\"><text class=\"lab\">80</text></g></g><g class=\"tick\" transform=\"translate(580 163.2)\"><line x1=\"0\" x2=\"0\" y1=\"0\" y2=\"5\"/><g transform=\"translate(0,6)\"><text class=\"lab\">100</text></g></g></g><g class=\"site s0\" transform=\"translate(109.12 163.2)\"><line class=\"sym\" x1=\"0\" x2=\"0\" y1=\"0\" y2=\"-10\"/></g><g class=\"site s1\" transform=\"translate(135.28 163.2)\"><line class=\"sym\" x1=\"0\" x2=\"0\" y1=\"0\" y2=\"-10\"/><g class=\"mut m0\"><polyline class=\"sym\" points=\"2.5,-6.5 0,-1.5 -2.5,-6.5\"/></g></g><g class=\"site s2\" transform=\"translate(276.544 163.2)\"><line class=\"sym\" x1=\"0\" x2=\"0\" y1=\"0\" y2=\"-10\"/><g class=\"mut m1\"><polyline class=\"sym\" points=\"2.5,-6.5 0,-1.5 -2.5,-6.5\"/></g></g><g class=\"site s3\" transform=\"translate(370.72 163.2)\"><line class=\"sym\" x1=\"0\" x2=\"0\" y1=\"0\" y2=\"-10\"/><g class=\"mut m3\"><polyline class=\"sym\" points=\"2.5,-6.5 0,-1.5 -2.5,-6.5\"/></g><g class=\"mut m2\"><polyline class=\"sym\" points=\"2.5,-10.5 0,-5.5 -2.5,-10.5\"/></g></g></g><g class=\"y-axis\"><g transform=\"translate(0,65.7)\"><text class=\"lab\" text-anchor=\"middle\" transform=\"translate(11) rotate(-90)\">Time</text></g><line x1=\"56.8\" x2=\"56.8\" y1=\"121.4\" y2=\"10\"/><g class=\"ticks\"><g class=\"tick\" transform=\"translate(56.8 121.4)\"><line class=\"grid\" x1=\"0\" x2=\"523.2\" y1=\"0\" y2=\"0\"/><line x1=\"0\" x2=\"-5\" y1=\"0\" y2=\"0\"/><g transform=\"translate(-6,0)\"><text class=\"lab\" text-anchor=\"end\">0.00</text></g></g><g class=\"tick\" transform=\"translate(56.8 102.48)\"><line class=\"grid\" x1=\"0\" x2=\"523.2\" y1=\"0\" y2=\"0\"/><line x1=\"0\" x2=\"-5\" y1=\"0\" y2=\"0\"/><g transform=\"translate(-6,0)\"><text class=\"lab\" text-anchor=\"end\">0.25</text></g></g><g class=\"tick\" transform=\"translate(56.8 91.128)\"><line class=\"grid\" x1=\"0\" x2=\"523.2\" y1=\"0\" y2=\"0\"/><line x1=\"0\" x2=\"-5\" y1=\"0\" y2=\"0\"/><g transform=\"translate(-6,0)\"><text class=\"lab\" text-anchor=\"end\">0.40</text></g></g><g class=\"tick\" transform=\"translate(56.8 57.072)\"><line class=\"grid\" x1=\"0\" x2=\"523.2\" y1=\"0\" y2=\"0\"/><line x1=\"0\" x2=\"-5\" y1=\"0\" y2=\"0\"/><g transform=\"translate(-6,0)\"><text class=\"lab\" text-anchor=\"end\">0.85</text></g></g><g class=\"tick\" transform=\"translate(56.8 41.936)\"><line class=\"grid\" x1=\"0\" x2=\"523.2\" y1=\"0\" y2=\"0\"/><line x1=\"0\" x2=\"-5\" y1=\"0\" y2=\"0\"/><g transform=\"translate(-6,0)\"><text class=\"lab\" text-anchor=\"end\">1.05</text></g></g><g class=\"tick\" transform=\"translate(56.8 26.8)\"><line class=\"grid\" x1=\"0\" x2=\"523.2\" y1=\"0\" y2=\"0\"/><line x1=\"0\" x2=\"-5\" y1=\"0\" y2=\"0\"/><g transform=\"translate(-6,0)\"><text class=\"lab\" text-anchor=\"end\">1.25</text></g></g></g></g></g><g class=\"plotbox trees\"><g class=\"tree t0\" transform=\"translate(56.8 0)\"><g class=\"plotbox\"><g class=\"c2 node n6 root\" transform=\"translate(76 26.8)\"><g class=\"a6 leaf node n0 sample\" transform=\"translate(-33.6 94.6)\"><path class=\"edge\" d=\"M 0 0 V -94.6 H 33.6\"/><rect class=\"sym\" height=\"6\" width=\"6\" x=\"-3\" y=\"-3\"/><text class=\"lab\" transform=\"translate(0 11)\">0</text></g><g class=\"a6 c2 m0 node n4 s1\" transform=\"translate(33.6 30.272)\"><g class=\"a4 leaf node n1 sample\" transform=\"translate(-22.4 45.408)\"><path class=\"edge\" d=\"M 0 0 V -45.408 H 22.4\"/><rect class=\"sym\" height=\"6\" width=\"6\" x=\"-3\" y=\"-3\"/><text class=\"lab\" transform=\"translate(0 11)\">1</text></g><g class=\"a4 leaf node n2 sample\" transform=\"translate(22.4 45.408)\"><path class=\"edge\" d=\"M 0 0 V -45.408 H -22.4\"/><rect class=\"sym\" height=\"6\" width=\"6\" x=\"-3\" y=\"-3\"/><text class=\"lab\" transform=\"translate(0 11)\">2</text></g><path class=\"edge\" d=\"M 0 0 V -30.272 H -33.6\"/><g class=\"mut m0 s1\" transform=\"translate(0 -3.784)\"><line x1=\"0\" x2=\"0\" y1=\"0\" y2=\"3.784\"/><path class=\"sym\" d=\"M -3,-3 l 6,6 M -3,3 l 6,-6\"/><text class=\"lab rgt\" transform=\"translate(5 0)\"/></g><circle class=\"sym\" cx=\"0\" cy=\"0\" r=\"3\"/><text class=\"lab rgt\" transform=\"translate(3 -7.0)\">4</text></g><circle class=\"sym\" cx=\"0\" cy=\"0\" r=\"3\"/><text class=\"lab\" transform=\"translate(0 -11)\">6</text></g></g></g><g class=\"tree t1\" transform=\"translate(231.2 0)\"><g class=\"plotbox\"><g class=\"c2 node n4 root\" transform=\"translate(98.4 57.072)\"><g class=\"a4 leaf m1 node n1 s2 sample\" transform=\"translate(33.6 45.408)\"><path class=\"edge\" d=\"M 0 0 V -45.408 H -33.6\"/><g class=\"mut m1 s2\" transform=\"translate(0 -11.352)\"><line x1=\"0\" x2=\"0\" y1=\"0\" y2=\"11.352\"/><path class=\"sym\" d=\"M -3,-3 l 6,6 M -3,3 l 6,-6\"/><text class=\"lab rgt\" transform=\"translate(5 0)\"/></g><rect class=\"sym\" height=\"6\" width=\"6\" x=\"-3\" y=\"-3\"/><text class=\"lab\" transform=\"translate(0 11)\">1</text></g><g class=\"a4 c2 m2 node n3 s3\" transform=\"translate(-33.6 34.056)\"><g class=\"a3 leaf m3 node n0 s3 sample\" transform=\"translate(-22.4 30.272)\"><path class=\"edge\" d=\"M 0 0 V -30.272 H 22.4\"/><g class=\"mut m3 s3\" transform=\"translate(0 -7.568)\"><line x1=\"0\" x2=\"0\" y1=\"0\" y2=\"7.568\"/><path class=\"sym\" d=\"M -3,-3 l 6,6 M -3,3 l 6,-6\"/><text class=\"lab lft\" transform=\"translate(-5 0)\"/></g><rect class=\"sym\" height=\"6\" width=\"6\" x=\"-3\" y=\"-3\"/><text class=\"lab\" transform=\"translate(0 11)\">0</text></g><g class=\"a3 leaf node n2 sample\" transform=\"translate(22.4 11.352)\"><path class=\"edge\" d=\"M 0 0 V -11.352 H -22.4\"/><rect class=\"sym\" height=\"6\" width=\"6\" x=\"-3\" y=\"-3\"/><text class=\"lab\" transform=\"translate(0 11)\">2</text></g><path class=\"edge\" d=\"M 0 0 V -34.056 H 33.6\"/><g class=\"mut m2 s3\" transform=\"translate(0 -11.352)\"><line x1=\"0\" x2=\"0\" y1=\"0\" y2=\"11.352\"/><path class=\"sym\" d=\"M -3,-3 l 6,6 M -3,3 l 6,-6\"/><text class=\"lab lft\" transform=\"translate(-5 0)\"/></g><circle class=\"sym\" cx=\"0\" cy=\"0\" r=\"3\"/><text class=\"lab lft\" transform=\"translate(-3 -7.0)\">3</text></g><circle class=\"sym\" cx=\"0\" cy=\"0\" r=\"3\"/><text class=\"lab\" transform=\"translate(0 -11)\">4</text></g></g></g><g class=\"tree t2\" transform=\"translate(405.6 0)\"><g class=\"plotbox\"><g class=\"c2 node n5 root\" transform=\"translate(76 41.936)\"><g class=\"a5 leaf node n0 sample\" transform=\"translate(-33.6 79.464)\"><path class=\"edge\" d=\"M 0 0 V -79.464 H 33.6\"/><rect class=\"sym\" height=\"6\" width=\"6\" x=\"-3\" y=\"-3\"/><text class=\"lab\" transform=\"translate(0 11)\">0</text></g><g class=\"a5 c2 node n4\" transform=\"translate(33.6 15.136)\"><g class=\"a4 leaf node n1 sample\" transform=\"translate(-22.4 45.408)\"><path class=\"edge\" d=\"M 0 0 V -45.408 H 22.4\"/><rect class=\"sym\" height=\"6\" width=\"6\" x=\"-3\" y=\"-3\"/><text class=\"lab\" transform=\"translate(0 11)\">1</text></g><g class=\"a4 leaf node n2 sample\" transform=\"translate(22.4 45.408)\"><path class=\"edge\" d=\"M 0 0 V -45.408 H -22.4\"/><rect class=\"sym\" height=\"6\" width=\"6\" x=\"-3\" y=\"-3\"/><text class=\"lab\" transform=\"translate(0 11)\">2</text></g><path class=\"edge\" d=\"M 0 0 V -15.136 H -33.6\"/><circle class=\"sym\" cx=\"0\" cy=\"0\" r=\"3\"/><text class=\"lab rgt\" transform=\"translate(3 -7.0)\">4</text></g><circle class=\"sym\" cx=\"0\" cy=\"0\" r=\"3\"/><text class=\"lab\" transform=\"translate(0 -11)\">5</text></g></g></g></g></g></svg>"
      ],
      "text/plain": [
       "<IPython.core.display.SVG object>"
      ]
     },
     "execution_count": 15,
     "metadata": {
      "filenames": {
       "image/svg+xml": "/home/runner/work/tutorials/tutorials/_build/jupyter_execute/data_structures_29_0.svg"
      }
     },
     "output_type": "execute_result"
    }
   ],
   "source": [
    "# new_ts = new_tables.tree_sequence()  # This won't work\n",
    "new_tables.sort()\n",
    "new_ts = new_tables.tree_sequence()  # Now it will\n",
    "# Plot without mutation labels, for clarity \n",
    "SVG(new_ts.draw_svg(y_axis=True, y_gridlines=True, mutation_labels={}))"
   ]
  },
  {
   "cell_type": "markdown",
   "id": "e52afa6f",
   "metadata": {},
   "source": [
    "Here you can see that a new empty site has been added at position 10 (represented by a\n",
    "tickmark above the X axis with no mutations on it), and all the nodes except node 0\n",
    "have had their times increased by 0.25.\n",
    "\n",
    "### Constructing a tree sequence\n",
    "\n",
    "With the tools above in mind, we can now see how to construct a tree sequence by hand.\n",
    "It's unlikely that you would ever need to do this from scratch, but it's helpful to\n",
    "understand how tables work. We'll build the simplest possible tree sequence, a single\n",
    "tree that looks like this:"
   ]
  },
  {
   "cell_type": "code",
   "execution_count": 16,
   "id": "e76d9f1f",
   "metadata": {},
   "outputs": [
    {
     "data": {
      "image/svg+xml": [
       "<svg xmlns=\"http://www.w3.org/2000/svg\" xmlns:ev=\"http://www.w3.org/2001/xml-events\" xmlns:xlink=\"http://www.w3.org/1999/xlink\" baseProfile=\"full\" height=\"200\" version=\"1.1\" width=\"200\"><defs><style type=\"text/css\"><![CDATA[.background path {fill: #808080; fill-opacity: 0}.background path:nth-child(odd) {fill-opacity: .1}.axes {font-size: 14px}.x-axis .tick .lab {font-weight: bold; dominant-baseline: hanging}.axes, .tree {font-size: 14px; text-anchor: middle}.axes line, .edge {stroke: black; fill: none}.y-axis .grid {stroke: #FAFAFA}.node > .sym {fill: black; stroke: none}.site > .sym {stroke: black}.mut text {fill: red; font-style: italic}.mut.extra text {fill: hotpink}.mut line {fill: none; stroke: none}.mut .sym {fill: none; stroke: red}.mut.extra .sym {stroke: hotpink}.node .mut .sym {stroke-width: 1.5px}.tree text, .tree-sequence text {dominant-baseline: central}.plotbox .lab.lft {text-anchor: end}.plotbox .lab.rgt {text-anchor: start}]]></style></defs><g class=\"tree-sequence\"><g class=\"background\"><path d=\"M56.8,0 l123.2,0 l0,138.2 l0,25 l0,5 l-123.2,0 l0,-5 l0,-25 l0,-138.2z\"/></g><g class=\"axes\"><g class=\"x-axis\"><g transform=\"translate(118.4,200)\"><text class=\"lab\" text-anchor=\"middle\" transform=\"translate(0 -11)\">Genome position</text></g><line x1=\"56.8\" x2=\"180\" y1=\"163.2\" y2=\"163.2\"/><g class=\"ticks\"><g class=\"tick\" transform=\"translate(56.8 163.2)\"><line x1=\"0\" x2=\"0\" y1=\"0\" y2=\"5\"/><g transform=\"translate(0,6)\"><text class=\"lab\">0</text></g></g><g class=\"tick\" transform=\"translate(180 163.2)\"><line x1=\"0\" x2=\"0\" y1=\"0\" y2=\"5\"/><g transform=\"translate(0,6)\"><text class=\"lab\">1000</text></g></g></g><g class=\"site s0\" transform=\"translate(118.4 163.2)\"><line class=\"sym\" x1=\"0\" x2=\"0\" y1=\"0\" y2=\"-10\"/><g class=\"mut m0\"><polyline class=\"sym\" points=\"2.5,-6.5 0,-1.5 -2.5,-6.5\"/></g></g></g><g class=\"y-axis\"><g transform=\"translate(0,65.7)\"><text class=\"lab\" text-anchor=\"middle\" transform=\"translate(11) rotate(-90)\">Time</text></g><line x1=\"56.8\" x2=\"56.8\" y1=\"121.4\" y2=\"10\"/><g class=\"ticks\"><g class=\"tick\" transform=\"translate(56.8 121.4)\"><line x1=\"0\" x2=\"-5\" y1=\"0\" y2=\"0\"/><g transform=\"translate(-6,0)\"><text class=\"lab\" text-anchor=\"end\">0</text></g></g><g class=\"tick\" transform=\"translate(56.8 74.1)\"><line x1=\"0\" x2=\"-5\" y1=\"0\" y2=\"0\"/><g transform=\"translate(-6,0)\"><text class=\"lab\" text-anchor=\"end\">10</text></g></g><g class=\"tick\" transform=\"translate(56.8 26.8)\"><line x1=\"0\" x2=\"-5\" y1=\"0\" y2=\"0\"/><g transform=\"translate(-6,0)\"><text class=\"lab\" text-anchor=\"end\">20</text></g></g></g></g></g><g class=\"plotbox trees\"><g class=\"tree t0\" transform=\"translate(56.8 0)\"><g class=\"plotbox\"><g class=\"c2 node n4 root\" transform=\"translate(68.5333 26.8)\"><g class=\"a4 c2 node n2\" transform=\"translate(-20.8 47.3)\"><g class=\"a2 leaf node n0 sample\" transform=\"translate(-13.8667 47.3)\"><path class=\"edge\" d=\"M 0 0 V -47.3 H 13.8667\"/><rect class=\"sym\" height=\"6\" width=\"6\" x=\"-3\" y=\"-3\"/><text class=\"lab\" transform=\"translate(0 11)\">0</text></g><g class=\"a2 leaf node n1 sample\" transform=\"translate(13.8667 47.3)\"><path class=\"edge\" d=\"M 0 0 V -47.3 H -13.8667\"/><rect class=\"sym\" height=\"6\" width=\"6\" x=\"-3\" y=\"-3\"/><text class=\"lab\" transform=\"translate(0 11)\">1</text></g><path class=\"edge\" d=\"M 0 0 V -47.3 H 20.8\"/><circle class=\"sym\" cx=\"0\" cy=\"0\" r=\"3\"/><text class=\"lab lft\" transform=\"translate(-3 -7.0)\">2</text></g><g class=\"a4 leaf m0 node n3 s0 sample\" transform=\"translate(20.8 94.6)\"><path class=\"edge\" d=\"M 0 0 V -94.6 H -20.8\"/><g class=\"mut m0 s0 unknown_time\" transform=\"translate(0 -47.3)\"><line x1=\"0\" x2=\"0\" y1=\"0\" y2=\"47.3\"/><path class=\"sym\" d=\"M -3,-3 l 6,6 M -3,3 l 6,-6\"/><text class=\"lab rgt\" transform=\"translate(5 0)\">0</text></g><rect class=\"sym\" height=\"6\" width=\"6\" x=\"-3\" y=\"-3\"/><text class=\"lab\" transform=\"translate(0 11)\">3</text></g><circle class=\"sym\" cx=\"0\" cy=\"0\" r=\"3\"/><text class=\"lab\" transform=\"translate(0 -11)\">4</text></g></g></g></g></g></svg>"
      ],
      "text/plain": [
       "<IPython.core.display.SVG object>"
      ]
     },
     "execution_count": 16,
     "metadata": {
      "filenames": {
       "image/svg+xml": "/home/runner/work/tutorials/tutorials/_build/jupyter_execute/data_structures_31_0.svg"
      }
     },
     "output_type": "execute_result"
    }
   ],
   "source": [
    "SVG(tskit.load(\"data/construction_example.trees\").draw_svg(y_axis=True))"
   ]
  },
  {
   "cell_type": "markdown",
   "id": "0b8602fe",
   "metadata": {},
   "source": [
    "Starting with an empty set of tables, we can fill, say, the node information by using\n",
    "{meth}`NodeTable.add_row` as follows:"
   ]
  },
  {
   "cell_type": "code",
   "execution_count": 17,
   "id": "2aecec7e",
   "metadata": {},
   "outputs": [
    {
     "data": {
      "text/html": [
       "\n",
       "            <div>\n",
       "                <style scoped=\"\">\n",
       "                    .tskit-table tbody tr th:only-of-type {vertical-align: middle;}\n",
       "                    .tskit-table tbody tr th {vertical-align: top;}\n",
       "                    .tskit-table tbody td {text-align: right;padding: 0.5em 0.5em;}\n",
       "                    .tskit-table tbody th {padding: 0.5em 0.5em;}\n",
       "                </style>\n",
       "                <table border=\"1\" class=\"tskit-table\">\n",
       "                    <thead>\n",
       "                        <tr>\n",
       "                            <th>id</th><th>flags</th><th>population</th><th>individual</th><th>time</th><th>metadata</th>\n",
       "                        </tr>\n",
       "                    </thead>\n",
       "                    <tbody>\n",
       "                        <tr><td>0</td><td>1</td><td>-1</td><td>-1</td><td>0.00000000</td><td>b''</td></tr>\n",
       "<tr><td>1</td><td>1</td><td>-1</td><td>-1</td><td>0.00000000</td><td>b''</td></tr>\n",
       "<tr><td>2</td><td>0</td><td>-1</td><td>-1</td><td>10.00000000</td><td>b''</td></tr>\n",
       "<tr><td>3</td><td>1</td><td>-1</td><td>-1</td><td>0.00000000</td><td>b''</td></tr>\n",
       "<tr><td>4</td><td>0</td><td>-1</td><td>-1</td><td>20.00000000</td><td>b''</td></tr>\n",
       "\n",
       "                    </tbody>\n",
       "                </table>\n",
       "            </div>\n"
      ],
      "text/plain": [
       "<tskit.tables.NodeTable at 0x7ff8b4eb4ee0>"
      ]
     },
     "execution_count": 17,
     "metadata": {},
     "output_type": "execute_result"
    }
   ],
   "source": [
    "tables = tskit.TableCollection(sequence_length=1e3)\n",
    "node_table = tables.nodes  # set up an alias, for efficiency\n",
    "node_table.add_row(flags=tskit.NODE_IS_SAMPLE)  # Node 0: defaults to time 0\n",
    "node_table.add_row(flags=tskit.NODE_IS_SAMPLE)  # Node 1: defaults to time 0\n",
    "node_table.add_row(time=10)  # Node 2: not a sample\n",
    "node_table.add_row(flags=tskit.NODE_IS_SAMPLE)  # Node 3\n",
    "node_table.add_row(time=20)  # Node 4\n",
    "node_table"
   ]
  },
  {
   "cell_type": "markdown",
   "id": "dc4efefd",
   "metadata": {},
   "source": [
    "The ``.add_row()`` method is natural (and should be reasonably efficient) if\n",
    "new records appear one-by-one. Alternatively ``.set_columns()`` can be used to\n",
    "set columns for all the rows at once, by passing in numpy arrays of the appropriate\n",
    "type. We'll use that for the edges:"
   ]
  },
  {
   "cell_type": "code",
   "execution_count": 18,
   "id": "62ef72fd",
   "metadata": {},
   "outputs": [
    {
     "data": {
      "text/html": [
       "\n",
       "            <div>\n",
       "                <style scoped=\"\">\n",
       "                    .tskit-table tbody tr th:only-of-type {vertical-align: middle;}\n",
       "                    .tskit-table tbody tr th {vertical-align: top;}\n",
       "                    .tskit-table tbody td {text-align: right;padding: 0.5em 0.5em;}\n",
       "                    .tskit-table tbody th {padding: 0.5em 0.5em;}\n",
       "                </style>\n",
       "                <table border=\"1\" class=\"tskit-table\">\n",
       "                    <thead>\n",
       "                        <tr>\n",
       "                            <th>id</th><th>left</th><th>right</th><th>parent</th><th>child</th><th>metadata</th>\n",
       "                        </tr>\n",
       "                    </thead>\n",
       "                    <tbody>\n",
       "                        <tr><td>0</td><td>0.00000000</td><td>1000.00000000</td><td>2</td><td>0</td><td>b''</td></tr>\n",
       "<tr><td>1</td><td>0.00000000</td><td>1000.00000000</td><td>2</td><td>1</td><td>b''</td></tr>\n",
       "<tr><td>2</td><td>0.00000000</td><td>1000.00000000</td><td>4</td><td>2</td><td>b''</td></tr>\n",
       "<tr><td>3</td><td>0.00000000</td><td>1000.00000000</td><td>4</td><td>3</td><td>b''</td></tr>\n",
       "\n",
       "                    </tbody>\n",
       "                </table>\n",
       "            </div>\n"
      ],
      "text/plain": [
       "<tskit.tables.EdgeTable at 0x7ff8b4e5f1f0>"
      ]
     },
     "execution_count": 18,
     "metadata": {},
     "output_type": "execute_result"
    }
   ],
   "source": [
    "import numpy as np\n",
    "edge_table = tables.edges\n",
    "edge_table.set_columns(\n",
    "    left=np.array([0.0, 0.0, 0.0, 0.0]),\n",
    "    right=np.array([1e3, 1e3, 1e3, 1e3]),\n",
    "    parent=np.array([2, 2, 4, 4], dtype=np.int32),  # References IDs in the node table\n",
    "    child=np.array([0, 1, 2, 3], dtype=np.int32),  # References IDs in the node table\n",
    ")\n",
    "edge_table"
   ]
  },
  {
   "cell_type": "markdown",
   "id": "beb8c5b6",
   "metadata": {},
   "source": [
    "And finally we can add a site and a mutation: here we'll use 0/1 mutations rather than\n",
    "ATGC."
   ]
  },
  {
   "cell_type": "code",
   "execution_count": 19,
   "id": "d49f3fd0",
   "metadata": {},
   "outputs": [
    {
     "name": "stdout",
     "output_type": "stream",
     "text": [
      "A hand-built tree sequence!\n"
     ]
    },
    {
     "data": {
      "image/svg+xml": [
       "<svg xmlns=\"http://www.w3.org/2000/svg\" xmlns:ev=\"http://www.w3.org/2001/xml-events\" xmlns:xlink=\"http://www.w3.org/1999/xlink\" baseProfile=\"full\" height=\"200\" version=\"1.1\" width=\"200\"><defs><style type=\"text/css\"><![CDATA[.background path {fill: #808080; fill-opacity: 0}.background path:nth-child(odd) {fill-opacity: .1}.axes {font-size: 14px}.x-axis .tick .lab {font-weight: bold; dominant-baseline: hanging}.axes, .tree {font-size: 14px; text-anchor: middle}.axes line, .edge {stroke: black; fill: none}.y-axis .grid {stroke: #FAFAFA}.node > .sym {fill: black; stroke: none}.site > .sym {stroke: black}.mut text {fill: red; font-style: italic}.mut.extra text {fill: hotpink}.mut line {fill: none; stroke: none}.mut .sym {fill: none; stroke: red}.mut.extra .sym {stroke: hotpink}.node .mut .sym {stroke-width: 1.5px}.tree text, .tree-sequence text {dominant-baseline: central}.plotbox .lab.lft {text-anchor: end}.plotbox .lab.rgt {text-anchor: start}]]></style></defs><g class=\"tree-sequence\"><g class=\"background\"><path d=\"M56.8,0 l123.2,0 l0,138.2 l0,25 l0,5 l-123.2,0 l0,-5 l0,-25 l0,-138.2z\"/></g><g class=\"axes\"><g class=\"x-axis\"><g transform=\"translate(118.4,200)\"><text class=\"lab\" text-anchor=\"middle\" transform=\"translate(0 -11)\">Genome position</text></g><line x1=\"56.8\" x2=\"180\" y1=\"163.2\" y2=\"163.2\"/><g class=\"ticks\"><g class=\"tick\" transform=\"translate(56.8 163.2)\"><line x1=\"0\" x2=\"0\" y1=\"0\" y2=\"5\"/><g transform=\"translate(0,6)\"><text class=\"lab\">0</text></g></g><g class=\"tick\" transform=\"translate(180 163.2)\"><line x1=\"0\" x2=\"0\" y1=\"0\" y2=\"5\"/><g transform=\"translate(0,6)\"><text class=\"lab\">1000</text></g></g></g><g class=\"site s0\" transform=\"translate(118.4 163.2)\"><line class=\"sym\" x1=\"0\" x2=\"0\" y1=\"0\" y2=\"-10\"/><g class=\"mut m0\"><polyline class=\"sym\" points=\"2.5,-6.5 0,-1.5 -2.5,-6.5\"/></g></g></g><g class=\"y-axis\"><g transform=\"translate(0,65.7)\"><text class=\"lab\" text-anchor=\"middle\" transform=\"translate(11) rotate(-90)\">Time</text></g><line x1=\"56.8\" x2=\"56.8\" y1=\"121.4\" y2=\"10\"/><g class=\"ticks\"><g class=\"tick\" transform=\"translate(56.8 121.4)\"><line x1=\"0\" x2=\"-5\" y1=\"0\" y2=\"0\"/><g transform=\"translate(-6,0)\"><text class=\"lab\" text-anchor=\"end\">0</text></g></g><g class=\"tick\" transform=\"translate(56.8 74.1)\"><line x1=\"0\" x2=\"-5\" y1=\"0\" y2=\"0\"/><g transform=\"translate(-6,0)\"><text class=\"lab\" text-anchor=\"end\">10</text></g></g><g class=\"tick\" transform=\"translate(56.8 26.8)\"><line x1=\"0\" x2=\"-5\" y1=\"0\" y2=\"0\"/><g transform=\"translate(-6,0)\"><text class=\"lab\" text-anchor=\"end\">20</text></g></g></g></g></g><g class=\"plotbox trees\"><g class=\"tree t0\" transform=\"translate(56.8 0)\"><g class=\"plotbox\"><g class=\"c2 node n4 root\" transform=\"translate(68.5333 26.8)\"><g class=\"a4 c2 m0 node n2 s0\" transform=\"translate(-20.8 47.3)\"><g class=\"a2 leaf node n0 sample\" transform=\"translate(-13.8667 47.3)\"><path class=\"edge\" d=\"M 0 0 V -47.3 H 13.8667\"/><rect class=\"sym\" height=\"6\" width=\"6\" x=\"-3\" y=\"-3\"/><text class=\"lab\" transform=\"translate(0 11)\">0</text></g><g class=\"a2 leaf node n1 sample\" transform=\"translate(13.8667 47.3)\"><path class=\"edge\" d=\"M 0 0 V -47.3 H -13.8667\"/><rect class=\"sym\" height=\"6\" width=\"6\" x=\"-3\" y=\"-3\"/><text class=\"lab\" transform=\"translate(0 11)\">1</text></g><path class=\"edge\" d=\"M 0 0 V -47.3 H 20.8\"/><g class=\"mut m0 s0 unknown_time\" transform=\"translate(0 -23.65)\"><line x1=\"0\" x2=\"0\" y1=\"0\" y2=\"23.65\"/><path class=\"sym\" d=\"M -3,-3 l 6,6 M -3,3 l 6,-6\"/><text class=\"lab lft\" transform=\"translate(-5 0)\">0</text></g><circle class=\"sym\" cx=\"0\" cy=\"0\" r=\"3\"/><text class=\"lab lft\" transform=\"translate(-3 -7.0)\">2</text></g><g class=\"a4 leaf node n3 sample\" transform=\"translate(20.8 94.6)\"><path class=\"edge\" d=\"M 0 0 V -94.6 H -20.8\"/><rect class=\"sym\" height=\"6\" width=\"6\" x=\"-3\" y=\"-3\"/><text class=\"lab\" transform=\"translate(0 11)\">3</text></g><circle class=\"sym\" cx=\"0\" cy=\"0\" r=\"3\"/><text class=\"lab\" transform=\"translate(0 -11)\">4</text></g></g></g></g></g></svg>"
      ],
      "text/plain": [
       "<IPython.core.display.SVG object>"
      ]
     },
     "execution_count": 19,
     "metadata": {
      "filenames": {
       "image/svg+xml": "/home/runner/work/tutorials/tutorials/_build/jupyter_execute/data_structures_37_1.svg"
      }
     },
     "output_type": "execute_result"
    }
   ],
   "source": [
    "site_id = tables.sites.add_row(position=500.0, ancestral_state='0')\n",
    "tables.mutations.add_row(site=site_id, node=2, derived_state='1')\n",
    "ts = tables.tree_sequence()\n",
    "print(\"A hand-built tree sequence!\")\n",
    "SVG(ts.draw_svg(y_axis=True))"
   ]
  },
  {
   "cell_type": "markdown",
   "id": "b9568c57",
   "metadata": {},
   "source": [
    ":::{note}\n",
    "The ordering requirements for a valid tree sequence\n",
    "{ref}`do not specify<tskit:sec_node_requirements>` that rows in the\n",
    "node table have to be sorted in any particular order, e.g. by time. By convention,\n",
    "sample nodes are often the first ones listed in the node table, and this is the node\n",
    "order returned by {meth}`~TreeSequence.simplify`, but the example above shows that\n",
    "sample nodes need not necessarily be those with the IDs $0..n$.\n",
    ":::\n",
    "\n",
    "(sec_data_structures_editing)=\n",
    "\n",
    "## Editing tree sequences\n",
    "\n",
    "Sometimes we wish to make some minor modifications to a tree sequence that has\n",
    "been generated by a simulation. However, tree sequence objects are **immutable**\n",
    "and so we cannot edit them in place.\n",
    "\n",
    "\n",
    "Several {program}`tskit` methods will return a new tree sequence that has been\n",
    "modified in some way. For example:\n",
    "- {meth}`TreeSequence.delete_sites` returns a tree sequence with certain sites\n",
    "  deleted\n",
    "- {meth}`TreeSequence.delete_intervals` and {meth}`TreeSequence.keep_intervals` \n",
    "  return a tree sequence whose trees cover a smaller fraction of the genome (and which can\n",
    "  be combined with {meth}`TreeSequence.trim` to change the coordinate system)\n",
    "- {meth}`TreeSequence.simplify` returns a new tree sequence with some sample nodes removed\n",
    "  (see the {ref}`simplification tutorial<sec_simplification>`).\n",
    "- {meth}`TreeSequence.union` returns a new tree sequence formed by merging two other tree\n",
    "  sequences together.\n",
    "\n",
    "However, if you want to do something not covered by those built-in methods, you will\n",
    "need to edit a copy of the underlying tables and then create a new tree sequence from\n",
    "the modified tables. In the following example, we use this\n",
    "approach to remove all singleton sites from a given tree sequence."
   ]
  },
  {
   "cell_type": "code",
   "execution_count": 20,
   "id": "c35b41c9",
   "metadata": {},
   "outputs": [],
   "source": [
    "def strip_singletons(ts):\n",
    "    tables = ts.dump_tables()\n",
    "    tables.sites.clear()\n",
    "    tables.mutations.clear()\n",
    "    for tree in ts.trees():\n",
    "        for site in tree.sites():\n",
    "            assert len(site.mutations) == 1  # Only supports infinite sites muts.\n",
    "            mut = site.mutations[0]\n",
    "            if tree.num_samples(mut.node) > 1:\n",
    "                site_id = tables.sites.append(site)\n",
    "                mut = mut.replace(site=site_id)  # set the new site id\n",
    "                tables.mutations.append(mut)\n",
    "    return tables.tree_sequence()"
   ]
  },
  {
   "cell_type": "markdown",
   "id": "6ee2ac3c",
   "metadata": {},
   "source": [
    "This function takes a tree sequence containing some infinite sites mutations as\n",
    "input, and returns a copy in which all singleton sites have been removed.\n",
    "The approach is very simple: we get a copy of the underlying\n",
    "table data in a {class}`TableCollection` object, and first clear the\n",
    "site and mutation tables. We then consider each site in turn,\n",
    "and if the number of samples with\n",
    "the mutation is greater than one, we add the site and mutation to our\n",
    "output tables using {meth}`SiteTable.append` and {meth}`MutationTable.append`. These\n",
    "functions act exactly like {meth}`SiteTable.add_row` and {meth}`MutationTable.add_row`\n",
    "but they take an existing site or mutation and add all its details as a new row.\n",
    "\n",
    "\n",
    ":::{note}\n",
    "In this code we consider only simple infinite sites mutations,\n",
    "where we cannot have back or recurrent mutations. These would require a slightly\n",
    "more involved approach where we keep a map of mutation IDs so that\n",
    "mutation ``parent`` values could be computed.\n",
    ":::\n",
    "\n",
    "After considering each site, we then create a new tree sequence using\n",
    "the {meth}`TableCollection.tree_sequence` method on our updated tables.\n",
    "We can test this on a tree sequence that has been mutated using\n",
    "{func}`msprime.sim_mutations` with the ``discrete_genome``\n",
    "parameter set to ``False``, which creates infinite sites mutations:"
   ]
  },
  {
   "cell_type": "code",
   "execution_count": 21,
   "id": "c1f62a29",
   "metadata": {},
   "outputs": [
    {
     "name": "stdout",
     "output_type": "stream",
     "text": [
      "109 sites in the simulated tree sequence\n",
      "57 sites after removing singletons\n"
     ]
    }
   ],
   "source": [
    "import msprime\n",
    "\n",
    "ts = msprime.sim_ancestry(10, random_seed=123)\n",
    "ts = msprime.sim_mutations(ts, rate=10, discrete_genome=False, random_seed=123)\n",
    "print(ts.num_sites, \"sites in the simulated tree sequence\")\n",
    "\n",
    "ts_new = strip_singletons(ts)\n",
    "print(ts_new.num_sites, \"sites after removing singletons\")"
   ]
  },
  {
   "cell_type": "markdown",
   "id": "0c56a3d4",
   "metadata": {},
   "source": [
    ":::{todo}\n",
    "Add another example here where we use the array oriented API to edit\n",
    "the nodes and edges of a tree sequence. Perhaps recapitating would be a\n",
    "good example?\n",
    ":::\n",
    "\n",
    "(sec_data_structures_trees)=\n",
    "\n",
    "## Trees\n",
    "\n",
    "A {class}`Tree` represents a single tree in a {class}`TreeSequence`.\n",
    "The {program}`tskit` Tree implementation differs from most tree libraries by\n",
    "using **integer IDs** to refer to nodes rather than objects. Thus, when we wish to\n",
    "find the parent of the node with ID '0', we use ``tree.parent(0)``, which\n",
    "returns another integer. If '0' does not have a parent in the current tree\n",
    "(e.g., if it is a root), then the special value {data}`tskit.NULL`\n",
    "({math}`-1`) is returned. The children of a node are found using the\n",
    "{meth}`Tree.children` method. To obtain information about a particular node,\n",
    "one may either use ``tree.tree_sequence.node(u)`` to which returns the\n",
    "corresponding {class}`Node` instance, or use the {attr}`Tree.time` or\n",
    "{attr}`Tree.population` shorthands.\n",
    "\n",
    ":::{todo}\n",
    "Add an example of using the tree structure. Note that traversing through the\n",
    "structure is covered in a different tutorial.\n",
    ":::"
   ]
  }
 ],
 "metadata": {
  "jupytext": {
   "text_representation": {
    "extension": ".md",
    "format_name": "myst",
    "format_version": 0.12,
    "jupytext_version": "1.9.1"
   }
  },
  "kernelspec": {
   "display_name": "Python 3",
   "language": "python",
   "name": "python3"
  },
  "language_info": {
   "codemirror_mode": {
    "name": "ipython",
    "version": 3
   },
   "file_extension": ".py",
   "mimetype": "text/x-python",
   "name": "python",
   "nbconvert_exporter": "python",
   "pygments_lexer": "ipython3",
   "version": "3.8.11"
  },
  "source_map": [
   12,
   17,
   116,
   144,
   148,
   161,
   163,
   179,
   181,
   199,
   209,
   218,
   220,
   230,
   232,
   241,
   244,
   267,
   269,
   278,
   282,
   287,
   289,
   306,
   312,
   330,
   337,
   342,
   345,
   362,
   368,
   381,
   383,
   388,
   397,
   404,
   414,
   419,
   425,
   462,
   476,
   503,
   512
  ]
 },
 "nbformat": 4,
 "nbformat_minor": 5
}