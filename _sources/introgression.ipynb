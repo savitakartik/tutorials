{
 "cells": [
  {
   "cell_type": "markdown",
   "id": "afde16e8",
   "metadata": {},
   "source": [
    "# Introgression \n",
    "\n",
    "**Jerome Kelleher and Konrad Lohse**\n",
    "\n",
    "There has been great interest in understanding the contributions past populations have made to the genetic diversity of current populations via admixture. In particular, the availability of whole genome sequence data from archaic hominins (Green et al 2010) has allowed geneticists to identify admixture tracks (Sankararaman 2016). In the simplest case, admixture tracts can be defined heuristically as regions of the genome that show excessive similarity between a putative source and a recipient population (usually quantified relative to some non-admixted reference population, ref Durand et al 2010). Because recombination breaks down admixture tracts, their length distribution gives a clock for calibrating admixture and this information been used to date the admixure contributions Neanderthals and other archaic hominins have made to non-African humans (Sankararaman 2016) and to recontruct the admixture history between different modern human populations (ref).\n",
    "\n",
    "Crucially, the power to identify admixture depends on the relative time bewteen the admixture event and the earlier divergence between source and the recipient population: the shorter this interval, the harder it becomes to detect admixture. This is because ancestral material is increasingly likely to trace its ancestry back to the common ancestral population regardless of whether it has been involved in any recent admixture or not. In other words, it becomes increasingly difficult to distinguish between admixtjure from Incomplete lineage sorting (ILS).\n",
    "\n",
    "In the following section we use msprime simulations to ask what fraction of admixture tracts are identifyable as such. \n",
    "\n",
    "To illustrate this, we simulate ancestral recombination graphs (ARGs) under a simple toy history of divergence and admixture which is loosely motivated by the demographic history of modern humans and Neandertals. As in previous sections, we will first examine properties of the ARG directly rather than use it to simulate mutations. We assume a minimal sample of a single (haploid) genome from a modern human population in African and Eurasia as well as an ancient Neandertal sample.\n",
    "\n",
    "Considering a rooted ARG, we want to distinguish three categories of segments: i) tracts actually involved in Neandertal admixture, ii) the subset of those tracts that coalesces in the Neandertal population and iii) segments at which Eurasians are more closely related to Neandertals than either are to Africans. This latter category must include all of ii) but also an additional set of short tracts that are due to incomplete lineage sorting (ILS). The last category is interesting because it is the only one that can be unambiguously detected in data (via derived mutations that are shared by Neandertals and Eurasians)."
   ]
  },
  {
   "cell_type": "markdown",
   "id": "6f4c25c5",
   "metadata": {},
   "source": [
    "First we set up a highly simplified demographic history of human neandertal demography and simulate a single chromosome of 20Mb length:"
   ]
  },
  {
   "cell_type": "code",
   "execution_count": 1,
   "id": "dbee0182",
   "metadata": {},
   "outputs": [],
   "source": [
    "import random\n",
    "import collections\n",
    "import msprime\n",
    "import numpy as np\n",
    "import seaborn as sns\n",
    "import matplotlib.pyplot as plt\n",
    "\n",
    "from IPython.display import SVG"
   ]
  },
  {
   "cell_type": "code",
   "execution_count": 2,
   "id": "cbd4eaf7",
   "metadata": {},
   "outputs": [],
   "source": [
    "def run_simulation(random_seed=None):\n",
    "    time_units = 1000 / 25  # Conversion factor for kya to generations\n",
    "\n",
    "    demography = msprime.Demography()\n",
    "    # The same size for all populations; highly unrealistic!\n",
    "    demography.add_population(name=\"Africa\", initial_size=10**4)\n",
    "    demography.add_population(name=\"Eurasia\", initial_size=10**4)\n",
    "    demography.add_population(name=\"Neanderthal\", initial_size=10**4)\n",
    "\n",
    "    # 2% introgression 50 kya\n",
    "    demography.add_mass_migration(\n",
    "        time=50 * time_units, source='Eurasia', dest='Neanderthal', proportion=0.02)\n",
    "    # Eurasian & Africa populations 'merge' backwards in time, 70 kya\n",
    "    demography.add_mass_migration(\n",
    "        time=70 * time_units, source='Eurasia', dest='Africa', proportion=1)\n",
    "    # Neanderthal and African populations 'merge' backwards in time, 300 kya\n",
    "    demography.add_mass_migration(\n",
    "        time=300 * time_units, source='Neanderthal', dest='Africa', proportion=1)\n",
    "\n",
    "    ts = msprime.sim_ancestry(\n",
    "        \n",
    "        recombination_rate=1e-8,\n",
    "        sequence_length=20 * 10**6,  \n",
    "        samples=[\n",
    "            msprime.SampleSet(1, ploidy=1, population='Africa'),\n",
    "            msprime.SampleSet(1, ploidy=1, population='Eurasia'),\n",
    "            # Neanderthal sample taken 30 kya\n",
    "            msprime.SampleSet(1, ploidy=1, time=30 * time_units, population='Neanderthal'),\n",
    "        ],\n",
    "        demography = demography,\n",
    "        record_migrations=True,  # Needed for tracking segments.\n",
    "        random_seed=random_seed,\n",
    "    )\n",
    "    return ts\n",
    "\n",
    "ts = run_simulation(1)"
   ]
  },
  {
   "cell_type": "markdown",
   "id": "49edc77b",
   "metadata": {},
   "source": [
    "Here we've run our simulation in the usual way, but included the ``record_migrations`` option. This allows us to track segments of ancestral material that migrate from the European population into the Neanderthal population (backwards in time). We can then examine the length distributions of these segments and compare them with the length of the segments that also go on to coalesce within the Neanderthal population."
   ]
  },
  {
   "cell_type": "code",
   "execution_count": 3,
   "id": "82d81bcd",
   "metadata": {},
   "outputs": [],
   "source": [
    "def get_migrating_tracts(ts):\n",
    "    neanderthal_id = [p.id for p in ts.populations() if p.metadata['name']=='Neanderthal'][0]\n",
    "    migrating_tracts = []\n",
    "    # Get all tracts that migrated into the neanderthal population\n",
    "    for migration in ts.migrations():\n",
    "        if migration.dest == neanderthal_id:\n",
    "            migrating_tracts.append((migration.left, migration.right))\n",
    "    return np.array(migrating_tracts) \n",
    "\n",
    "def get_coalescing_tracts(ts):\n",
    "    neanderthal_id = [p.id for p in ts.populations() if p.metadata['name']=='Neanderthal'][0]\n",
    "    coalescing_tracts = []\n",
    "    tract_left = None\n",
    "    for tree in ts.trees():\n",
    "        # 1 is the Eurasian sample and 2 is the Neanderthal\n",
    "        mrca_pop = ts.node(tree.mrca(1, 2)).population\n",
    "        left = tree.interval[0]\n",
    "        if mrca_pop == neanderthal_id and tract_left is None:\n",
    "            # Start a new tract\n",
    "            tract_left = left      \n",
    "        elif mrca_pop != neanderthal_id and tract_left is not None:\n",
    "            # End the last tract\n",
    "            coalescing_tracts.append((tract_left, left))\n",
    "            tract_left = None\n",
    "    if tract_left is not None:\n",
    "        coalescing_tracts.append((tract_left, ts.sequence_length))\n",
    "    return np.array(coalescing_tracts)\n",
    "\n",
    "def get_eur_nea_tracts(ts):\n",
    "    tracts = []\n",
    "    tract_left = None\n",
    "    for tree in ts.trees():\n",
    "        # 1 is the Eurasian sample and 2 is the Neanderthal\n",
    "        mrca = tree.mrca(1, 2)\n",
    "        left = tree.interval[0]\n",
    "        if mrca != tree.root and tract_left is None:\n",
    "            # Start a new tract\n",
    "            tract_left = left      \n",
    "        elif mrca != tree.root and tract_left is not None:\n",
    "            # End the last tract\n",
    "            tracts.append((tract_left, left))\n",
    "            tract_left = None\n",
    "    if tract_left is not None:\n",
    "        tracts.append((tract_left, ts.sequence_length))\n",
    "    return np.array(tracts)\n",
    "\n",
    "                                    \n",
    "migrating = get_migrating_tracts(ts)\n",
    "within_nea = get_coalescing_tracts(ts)\n",
    "eur_nea = get_eur_nea_tracts(ts)"
   ]
  },
  {
   "cell_type": "markdown",
   "id": "fc485cba",
   "metadata": {},
   "source": [
    "We build three different lists. The first is the set of tracts that have migrated from the Eurasian population into the Neanderthal population, and is done simply by finding all migration records in which the destination population name is 'Neanderthal'. The second list (which must contain a subset of the segments in the first list) is the ancestral segments that went on to coalesce within the Neanderthal population. The third list contains all segments in which the Eurasian and Neanderthal sample coalesce before their ancestor coalesces with the African sample. The third list includes both Eurasian segments that migrated to the Neanderthal population and segments that did not migrate and did not coalesce until after the Neanderthal-Human population split 300kya."
   ]
  },
  {
   "cell_type": "code",
   "execution_count": 4,
   "id": "0c642eb8",
   "metadata": {},
   "outputs": [
    {
     "name": "stdout",
     "output_type": "stream",
     "text": [
      "[10322227.0, 373730.0, 165617.0]\n"
     ]
    }
   ],
   "source": [
    "nea_total = np.sum(eur_nea[:,1] - eur_nea[:,0])\n",
    "migrating_total = np.sum(migrating[:,1] - migrating[:,0])\n",
    "within_nea_total = np.sum(within_nea[:,1] - within_nea[:,0])\n",
    "print([nea_total, migrating_total, within_nea_total])"
   ]
  },
  {
   "cell_type": "markdown",
   "id": "37b47826",
   "metadata": {},
   "source": [
    "Although $f=0.02$ the total length of admixted segments is 5% of the chromosome. Presumably this excess is just due to coalescence variance? We expect a proportion $1-e^{-(T_{split}-T_{ad})}$ of admixted lineages to coalesce. Given our time parameters $T_{split}-T_{ad})= 1/2$ (in units of $2 N_e$ generations), so we expect $1 -(e^-\\frac{1}{2})=0.39$ of admixted sequence to have a coalesce in the neandertal population. Why is the observed fraction just 0.029?"
   ]
  },
  {
   "cell_type": "code",
   "execution_count": 5,
   "id": "27a6662a",
   "metadata": {},
   "outputs": [
    {
     "data": {
      "image/png": "[encoded data removed]",
      "text/plain": [
       "<Figure size 432x288 with 1 Axes>"
      ]
     },
     "metadata": {
      "filenames": {
       "image/png": "/home/runner/work/tutorials/tutorials/_build/jupyter_execute/introgression_9_0.png"
      },
      "needs_background": "light"
     },
     "output_type": "display_data"
    }
   ],
   "source": [
    "kb = 1 / 1000\n",
    "plt.hist([\n",
    "    (eur_nea[:,1] - eur_nea[:,0]) * kb,\n",
    "    (migrating[:,1] - migrating[:,0]) * kb,   \n",
    "    (within_nea[:,1] - within_nea[:,0]) * kb,],    \n",
    "    label=[\"Migrating\", \"EUR-NEA\", \"Within NEA\"]\n",
    ")\n",
    "plt.yscale('log')\n",
    "plt.legend()\n",
    "plt.xlabel(\"Tract length (KB)\");"
   ]
  },
  {
   "cell_type": "markdown",
   "id": "0780a701",
   "metadata": {},
   "source": [
    "Plotting these tract lengths for a single replicate shows that, as expected, admixture tracts are large initially (blue). We can also see that there is extensive ILS which has two effects: First, only a subset  of the admixted material has ancestry in the Neandertal population, it would to check whether this fits the total lengths}). Second there many more tracts at which Neandertals and non-African humans are more closely related to each other due to incomplete lineage sorting (ILS) than there are admixture tracts. Finally ILS tracts because they are old by definition  are substantially shorter than admixture tracts."
   ]
  },
  {
   "cell_type": "markdown",
   "id": "91d1ab53",
   "metadata": {},
   "source": [
    "## Locating mutations\n",
    "\n",
    "We are interested in finding the population in which mutations arose. Because mutations are just associated with a specific tree node in msprime, we must simulate some extra information in order to make this question answerable. This is quite straightforward to do, since we can generate a time for each mutation uniformly along a branch and therefore unambiguously locate it time (and, therefore, space).\n",
    "\n",
    "```{todo}\n",
    "We don't need to simulate times any more\n",
    "```"
   ]
  },
  {
   "cell_type": "code",
   "execution_count": 6,
   "id": "165e06fe",
   "metadata": {},
   "outputs": [],
   "source": [
    "def simulate_mutation_times(ts, random_seed=None):\n",
    "    rng = random.Random(random_seed)\n",
    "    mutation_time = np.zeros(ts.num_mutations)\n",
    "    for tree in ts.trees():\n",
    "        for mutation in tree.mutations():\n",
    "            a = tree.time(mutation.node)\n",
    "            b = tree.time(tree.parent(mutation.node))\n",
    "            mutation_time[mutation.id] = rng.uniform(a, b)\n",
    "    return mutation_time\n",
    "\n",
    "pop_configs = [\n",
    "    msprime.PopulationConfiguration(sample_size=3),\n",
    "    msprime.PopulationConfiguration(sample_size=1),\n",
    "    msprime.PopulationConfiguration(sample_size=1)]\n",
    "M = [\n",
    "    [0, 1, 1],\n",
    "    [1, 0, 1],\n",
    "    [1, 1, 0]]\n",
    "ts  = msprime.simulate(\n",
    "    population_configurations=pop_configs, migration_matrix=M,\n",
    "    record_migrations=True, mutation_rate=0.5, random_seed=25)\n",
    "mutation_time = simulate_mutation_times(ts, random_seed=25)"
   ]
  },
  {
   "cell_type": "markdown",
   "id": "96300483",
   "metadata": {},
   "source": [
    "Once we have run our simulation and assigned times to each mutation, we can then assign populations to each of these mutations. The following function takes a simple approach, but first gathering the migrations for each node into a list. Then, for every mutation, we sequentially examine each migration that affects the mutation's node and intersects with the site position. Because we know that the migration records are sorted in increasing time order, we can simply apply the effects of each migration while the migration record's time is less than the time of the mutation. At the end of this process, we then return the computed mapping of mutation IDs to the populations in which they arose."
   ]
  },
  {
   "cell_type": "code",
   "execution_count": 7,
   "id": "77f51980",
   "metadata": {},
   "outputs": [],
   "source": [
    "def get_mutation_population(ts, mutation_time):\n",
    "    node_migrations = collections.defaultdict(list)\n",
    "    for migration in ts.migrations():\n",
    "        node_migrations[migration.node].append(migration)\n",
    "    mutation_population = np.zeros(ts.num_mutations, dtype=int)\n",
    "    for tree in ts.trees():\n",
    "        for site in tree.sites():\n",
    "            for mutation in site.mutations:                \n",
    "                mutation_population[mutation.id] = tree.population(mutation.node)\n",
    "                for mig in node_migrations[mutation.node]:\n",
    "                    # Stepping through all migations will be inefficient for large \n",
    "                    # simulations. Should use an interval tree (e.g. \n",
    "                    # https://pypi.python.org/pypi/intervaltree) to find all \n",
    "                    # intervals intersecting with site.position.\n",
    "                    if mig.left <= site.position < mig.right:\n",
    "                        # Note that we assume that we see the migration records in \n",
    "                        # increasing order of time!\n",
    "                        if mig.time < mutation_time[mutation.id]:\n",
    "                            assert mutation_population[mutation.id] == mig.source\n",
    "                            mutation_population[mutation.id] = mig.dest\n",
    "    return mutation_population\n",
    "\n",
    "mutation_population = get_mutation_population(ts, mutation_time)"
   ]
  },
  {
   "cell_type": "code",
   "execution_count": 8,
   "id": "a9ef4b52",
   "metadata": {},
   "outputs": [
    {
     "data": {
      "image/svg+xml": [
       "<svg xmlns=\"http://www.w3.org/2000/svg\" xmlns:ev=\"http://www.w3.org/2001/xml-events\" xmlns:xlink=\"http://www.w3.org/1999/xlink\" baseProfile=\"full\" height=\"200\" version=\"1.1\" width=\"200\"><defs><style type=\"text/css\"><![CDATA[.background path {fill: #808080; fill-opacity:0}.background path:nth-child(odd) {fill-opacity:.1}.axes {font-size: 14px}.x-axis .tick .lab {font-weight: bold}.axes, .tree {font-size: 14px; text-anchor:middle}.y-axis line.grid {stroke: #FAFAFA}.y-axis > .lab text {transform: translateX(0.8em) rotate(-90deg)}.x-axis .tick g {transform: translateY(0.9em)}.x-axis > .lab text {transform: translateY(-0.8em)}.axes line, .edge {stroke:black; fill:none}.node > .sym {fill: black; stroke: none}.site > .sym {stroke: black}.mut text {fill: red; font-style: italic}.mut.extra text {fill: hotpink}.mut line {fill: none; stroke: none}.mut .sym {fill: none; stroke: red}.mut.extra .sym {stroke: hotpink}.node .mut .sym {stroke-width: 1.5px}.tree text, .tree-sequence text {dominant-baseline: central}.plotbox .lab.lft {text-anchor: end}.plotbox .lab.rgt {text-anchor: start}]]></style></defs><g class=\"tree t0\"><g class=\"plotbox\"><g class=\"node n8 p1 root\" transform=\"translate(112 26.8)\"><g class=\"a8 m10 m12 m4 m8 node n6 p1 s10 s12 s4 s8\" transform=\"translate(-36 69.8606)\"><g class=\"a6 leaf m2 m7 node n1 p0 s2 s7 sample\" transform=\"translate(24 71.5394)\"><path class=\"edge\" d=\"M 0 0 V -71.5394 H -24\"/><g class=\"mut m2 s2\" transform=\"translate(0 -40.1989)\"><line x1=\"0\" x2=\"0\" y1=\"0\" y2=\"40.1989\"/><path class=\"sym\" d=\"M -3,-3 l 6,6 M -3,3 l 6,-6\" style=\"fill:red;\"/><text class=\"lab rgt\" transform=\"translate(5 0)\">2</text></g><g class=\"mut m7 s7\" transform=\"translate(0 -10.8796)\"><line x1=\"0\" x2=\"0\" y1=\"0\" y2=\"10.8796\"/><path class=\"sym\" d=\"M -3,-3 l 6,6 M -3,3 l 6,-6\" style=\"fill:green;\"/><text class=\"lab rgt\" transform=\"translate(5 0)\">7</text></g><rect class=\"sym\" height=\"6\" style=\"fill:red;\" width=\"6\" x=\"-3\" y=\"-3\"/><text class=\"lab\" transform=\"translate(0 11)\">1</text></g><g class=\"a6 m3 node n5 p1 s3\" transform=\"translate(-24 67.4189)\"><g class=\"a5 leaf node n0 p0 sample\" transform=\"translate(-16 4.12056)\"><path class=\"edge\" d=\"M 0 0 V -4.12056 H 16\"/><rect class=\"sym\" height=\"6\" style=\"fill:red;\" width=\"6\" x=\"-3\" y=\"-3\"/><text class=\"lab\" transform=\"translate(0 11)\">0</text></g><g class=\"a5 leaf node n3 p1 sample\" transform=\"translate(16 4.12056)\"><path class=\"edge\" d=\"M 0 0 V -4.12056 H -16\"/><rect class=\"sym\" height=\"6\" style=\"fill:blue;\" width=\"6\" x=\"-3\" y=\"-3\"/><text class=\"lab\" transform=\"translate(0 11)\">3</text></g><path class=\"edge\" d=\"M 0 0 V -67.4189 H 24\"/><g class=\"mut m3 s3\" transform=\"translate(0 -32.7248)\"><line x1=\"0\" x2=\"0\" y1=\"0\" y2=\"32.7248\"/><path class=\"sym\" d=\"M -3,-3 l 6,6 M -3,3 l 6,-6\" style=\"fill:blue;\"/><text class=\"lab lft\" transform=\"translate(-5 0)\">3</text></g><circle class=\"sym\" cx=\"0\" cy=\"0\" r=\"3\" style=\"fill:blue;\"/><text class=\"lab lft\" transform=\"translate(-3 -7.0)\">5</text></g><path class=\"edge\" d=\"M 0 0 V -69.8606 H 36\"/><g class=\"mut m10 s10\" transform=\"translate(0 -67.6355)\"><line x1=\"0\" x2=\"0\" y1=\"0\" y2=\"67.6355\"/><path class=\"sym\" d=\"M -3,-3 l 6,6 M -3,3 l 6,-6\" style=\"fill:blue;\"/><text class=\"lab lft\" transform=\"translate(-5 0)\">10</text></g><g class=\"mut m8 s8\" transform=\"translate(0 -49.7277)\"><line x1=\"0\" x2=\"0\" y1=\"0\" y2=\"49.7277\"/><path class=\"sym\" d=\"M -3,-3 l 6,6 M -3,3 l 6,-6\" style=\"fill:blue;\"/><text class=\"lab lft\" transform=\"translate(-5 0)\">8</text></g><g class=\"mut m12 s12\" transform=\"translate(0 -9.7783)\"><line x1=\"0\" x2=\"0\" y1=\"0\" y2=\"9.7783\"/><path class=\"sym\" d=\"M -3,-3 l 6,6 M -3,3 l 6,-6\" style=\"fill:blue;\"/><text class=\"lab lft\" transform=\"translate(-5 0)\">12</text></g><g class=\"mut m4 s4\" transform=\"translate(0 -4.83272)\"><line x1=\"0\" x2=\"0\" y1=\"0\" y2=\"4.83272\"/><path class=\"sym\" d=\"M -3,-3 l 6,6 M -3,3 l 6,-6\" style=\"fill:blue;\"/><text class=\"lab lft\" transform=\"translate(-5 0)\">4</text></g><circle class=\"sym\" cx=\"0\" cy=\"0\" r=\"3\" style=\"fill:blue;\"/><text class=\"lab lft\" transform=\"translate(-3 -7.0)\">6</text></g><g class=\"a8 m1 m5 node n7 p1 s1 s5\" transform=\"translate(36 66.5711)\"><g class=\"a7 leaf m6 node n2 p0 s6 sample\" transform=\"translate(-16 74.8289)\"><path class=\"edge\" d=\"M 0 0 V -74.8289 H 16\"/><g class=\"mut m6 s6\" transform=\"translate(0 -35.2208)\"><line x1=\"0\" x2=\"0\" y1=\"0\" y2=\"35.2208\"/><path class=\"sym\" d=\"M -3,-3 l 6,6 M -3,3 l 6,-6\" style=\"fill:red;\"/><text class=\"lab lft\" transform=\"translate(-5 0)\">6</text></g><rect class=\"sym\" height=\"6\" style=\"fill:red;\" width=\"6\" x=\"-3\" y=\"-3\"/><text class=\"lab\" transform=\"translate(0 11)\">2</text></g><g class=\"a7 leaf m0 m11 m9 node n4 p2 s0 s11 s9 sample\" transform=\"translate(16 74.8289)\"><path class=\"edge\" d=\"M 0 0 V -74.8289 H -16\"/><g class=\"mut m9 s9\" transform=\"translate(0 -64.0529)\"><line x1=\"0\" x2=\"0\" y1=\"0\" y2=\"64.0529\"/><path class=\"sym\" d=\"M -3,-3 l 6,6 M -3,3 l 6,-6\" style=\"fill:green;\"/><text class=\"lab rgt\" transform=\"translate(5 0)\">9</text></g><g class=\"mut m0 s0\" transform=\"translate(0 -55.7639)\"><line x1=\"0\" x2=\"0\" y1=\"0\" y2=\"55.7639\"/><path class=\"sym\" d=\"M -3,-3 l 6,6 M -3,3 l 6,-6\" style=\"fill:green;\"/><text class=\"lab rgt\" transform=\"translate(5 0)\">0</text></g><g class=\"mut m11 s11\" transform=\"translate(0 -6.44489)\"><line x1=\"0\" x2=\"0\" y1=\"0\" y2=\"6.44489\"/><path class=\"sym\" d=\"M -3,-3 l 6,6 M -3,3 l 6,-6\" style=\"fill:green;\"/><text class=\"lab rgt\" transform=\"translate(5 0)\">11</text></g><rect class=\"sym\" height=\"6\" style=\"fill:green;\" width=\"6\" x=\"-3\" y=\"-3\"/><text class=\"lab\" transform=\"translate(0 11)\">4</text></g><path class=\"edge\" d=\"M 0 0 V -66.5711 H -36\"/><g class=\"mut m5 s5\" transform=\"translate(0 -55.4384)\"><line x1=\"0\" x2=\"0\" y1=\"0\" y2=\"55.4384\"/><path class=\"sym\" d=\"M -3,-3 l 6,6 M -3,3 l 6,-6\" style=\"fill:red;\"/><text class=\"lab rgt\" transform=\"translate(5 0)\">5</text></g><g class=\"mut m1 s1\" transform=\"translate(0 -27.4599)\"><line x1=\"0\" x2=\"0\" y1=\"0\" y2=\"27.4599\"/><path class=\"sym\" d=\"M -3,-3 l 6,6 M -3,3 l 6,-6\" style=\"fill:red;\"/><text class=\"lab rgt\" transform=\"translate(5 0)\">1</text></g><circle class=\"sym\" cx=\"0\" cy=\"0\" r=\"3\" style=\"fill:blue;\"/><text class=\"lab rgt\" transform=\"translate(3 -7.0)\">7</text></g><circle class=\"sym\" cx=\"0\" cy=\"0\" r=\"3\" style=\"fill:blue;\"/><text class=\"lab\" transform=\"translate(0 -11)\">8</text></g></g></g></svg>"
      ],
      "text/plain": [
       "<IPython.core.display.SVG object>"
      ]
     },
     "execution_count": 8,
     "metadata": {
      "filenames": {
       "image/svg+xml": "/home/runner/work/tutorials/tutorials/_build/jupyter_execute/introgression_15_0.svg"
      }
     },
     "output_type": "execute_result"
    }
   ],
   "source": [
    "tree = ts.first()\n",
    "colour_map = {0:\"red\", 1:\"blue\", 2: \"green\"}\n",
    "node_colours = {u: colour_map[tree.population(u)] for u in tree.nodes()}\n",
    "mutation_colours = {mut.id: colour_map[mutation_population[mut.id]] for mut in tree.mutations()}\n",
    "SVG(tree.draw(node_colours=node_colours, mutation_colours=mutation_colours))\n",
    "    "
   ]
  },
  {
   "cell_type": "markdown",
   "id": "af0f2c2f",
   "metadata": {},
   "source": [
    "This example shows the locations in which the mutations along the tree branches. We show a single tree here for simplicity, but the method also works when we have recombination."
   ]
  }
 ],
 "metadata": {
  "jupytext": {
   "text_representation": {
    "extension": ".md",
    "format_name": "myst",
    "format_version": 0.12,
    "jupytext_version": "1.9.1"
   }
  },
  "kernelspec": {
   "display_name": "Python 3",
   "language": "python",
   "name": "python3"
  },
  "language_info": {
   "codemirror_mode": {
    "name": "ipython",
    "version": 3
   },
   "file_extension": ".py",
   "mimetype": "text/x-python",
   "name": "python",
   "nbconvert_exporter": "python",
   "pygments_lexer": "ipython3",
   "version": "3.8.10"
  },
  "source_map": [
   12,
   28,
   32,
   43,
   81,
   85,
   136,
   140,
   145,
   149,
   160,
   164,
   174,
   197,
   201,
   227,
   234
  ]
 },
 "nbformat": 4,
 "nbformat_minor": 5
}