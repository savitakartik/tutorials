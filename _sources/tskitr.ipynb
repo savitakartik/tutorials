{
 "cells": [
  {
   "cell_type": "markdown",
   "id": "a0d9a834",
   "metadata": {},
   "source": [
    "# Tskit and R"
   ]
  },
  {
   "cell_type": "code",
   "execution_count": 1,
   "id": "b51a968b",
   "metadata": {},
   "outputs": [
    {
     "data": {
      "text/plain": [
       "╔═══════════════════════╗\n",
       "║TreeSequence           ║\n",
       "╠═══════════════╤═══════╣\n",
       "║Trees          │      1║\n",
       "╟───────────────┼───────╢\n",
       "║Sequence Length│    1.0║\n",
       "╟───────────────┼───────╢\n",
       "║Sample Nodes   │     10║\n",
       "╟───────────────┼───────╢\n",
       "║Total Size     │2.3 KiB║\n",
       "╚═══════════════╧═══════╝\n",
       "╔═══════════╤════╤═════════╤════════════╗\n",
       "║Table      │Rows│Size     │Has Metadata║\n",
       "╠═══════════╪════╪═════════╪════════════╣\n",
       "║Edges      │  18│508 Bytes│          No║\n",
       "╟───────────┼────┼─────────┼────────────╢\n",
       "║Individuals│   5│ 92 Bytes│          No║\n",
       "╟───────────┼────┼─────────┼────────────╢\n",
       "║Migrations │   0│  4 Bytes│          No║\n",
       "╟───────────┼────┼─────────┼────────────╢\n",
       "║Mutations  │   0│  8 Bytes│          No║\n",
       "╟───────────┼────┼─────────┼────────────╢\n",
       "║Nodes      │  19│460 Bytes│          No║\n",
       "╟───────────┼────┼─────────┼────────────╢\n",
       "║Populations│   1│216 Bytes│         Yes║\n",
       "╟───────────┼────┼─────────┼────────────╢\n",
       "║Provenances│   1│949 Bytes│          No║\n",
       "╟───────────┼────┼─────────┼────────────╢\n",
       "║Sites      │   0│  8 Bytes│          No║\n",
       "╚═══════════╧════╧═════════╧════════════╝\n"
      ]
     },
     "metadata": {},
     "output_type": "display_data"
    }
   ],
   "source": [
    "library(reticulate)\n",
    "msprime <- import(\"msprime\")\n",
    "\n",
    "ts <- msprime$sim_ancestry(5, random_seed=42)\n",
    "ts"
   ]
  }
 ],
 "metadata": {
  "jupytext": {
   "text_representation": {
    "extension": ".md",
    "format_name": "myst",
    "format_version": 0.12,
    "jupytext_version": "1.9.1"
   }
  },
  "kernelspec": {
   "display_name": "R",
   "language": "R",
   "name": "ir"
  },
  "language_info": {
   "codemirror_mode": "r",
   "file_extension": ".r",
   "mimetype": "text/x-r-source",
   "name": "R",
   "pygments_lexer": "r",
   "version": "3.6.3"
  },
  "source_map": [
   12,
   19
  ]
 },
 "nbformat": 4,
 "nbformat_minor": 5
}