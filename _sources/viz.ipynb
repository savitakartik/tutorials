{
 "cells": [
  {
   "cell_type": "markdown",
   "id": "4d61bf4b",
   "metadata": {},
   "source": [
    "(sec_tskit_viz)=\n",
    "\n",
    "# Visualisation\n",
    "\n",
    "- apologies to EN-US users, this is going to be annoying: colour and color.\n",
    "\n",
    "## Simple SVG\n",
    "\n",
    "- A guide to doing the most common things we want to do using SVG (colouring \n",
    "  nodes, etc, using draw())\n",
    "\n",
    "## Converting SVG\n",
    "\n",
    "- Guide to converting SVG to various outputs.\n",
    "\n",
    "## Advanced SVG\n",
    "\n",
    "- How to do fancy things with the SVG output using CSS etc. Can be a \"TODO\"\n",
    "  for the first version.\n",
    "\n",
    "## Text output\n",
    "\n",
    "- Demonstrate some of the things we can do with unicode output."
   ]
  }
 ],
 "metadata": {
  "jupytext": {
   "text_representation": {
    "extension": ".md",
    "format_name": "myst",
    "format_version": 0.12,
    "jupytext_version": "1.9.1"
   }
  },
  "kernelspec": {
   "display_name": "Python 3",
   "language": "python",
   "name": "python3"
  },
  "language_info": {
   "codemirror_mode": {
    "name": "ipython",
    "version": 3
   },
   "file_extension": ".py",
   "mimetype": "text/x-python",
   "name": "python",
   "nbconvert_exporter": "python",
   "pygments_lexer": "ipython3",
   "version": "3.8.10"
  },
  "source_map": [
   12
  ]
 },
 "nbformat": 4,
 "nbformat_minor": 5
}