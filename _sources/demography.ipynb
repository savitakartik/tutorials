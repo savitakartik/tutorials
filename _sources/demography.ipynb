{
 "cells": [
  {
   "cell_type": "markdown",
   "id": "thirty-creativity",
   "metadata": {},
   "source": [
    "# Demography\n",
    "\n",
    "**Georgia Tsambos**\n",
    "\n",
    "So far, we've been simulating samples from a single population of a constant size,\n",
    "which isn't particularly exciting!\n",
    "One of the strengths of msprime is that it can be used to specify quite complicated\n",
    "models of demography and population history with a simple Python API."
   ]
  },
  {
   "cell_type": "code",
   "execution_count": 1,
   "id": "polyphonic-tournament",
   "metadata": {},
   "outputs": [],
   "source": [
    "%config InlineBackend.figure_format = 'svg'\n",
    "import msprime\n",
    "import numpy as np\n",
    "from IPython.display import SVG"
   ]
  },
  {
   "cell_type": "markdown",
   "id": "rural-mexican",
   "metadata": {},
   "source": [
    "## Population structure\n",
    "\n",
    "``msprime`` supports simulation from multiple discrete populations,\n",
    "each of which is initialized with a {class}`msprime.Population` object.\n",
    "For each population, you can specify a sample size, an effective population size\n",
    "at time = 0, an exponential growth rate and a name.\n",
    "\n",
    "*Note: Population structure in ``msprime`` closely follows the model used in the\n",
    "``ms`` simulator.\n",
    "Unlike ``ms`` however, all times and rates are specified\n",
    "in generations and all populations sizes are absolute (that is, not\n",
    "multiples of :math:`N_e`).*\n",
    "\n",
    "Suppose we wanted to simulate three sequences each from two populations\n",
    "with a constant effective population size of 500."
   ]
  },
  {
   "cell_type": "code",
   "execution_count": 2,
   "id": "german-survey",
   "metadata": {},
   "outputs": [],
   "source": [
    "pop0 = msprime.Population(initial_size=500, growth_rate=0, name='Population0')\n",
    "pop1 = msprime.Population(initial_size=500, growth_rate=0, name='Population1')\n",
    "samples0 = msprime.SampleSet(num_samples=3, population='Population0')\n",
    "samples1 = msprime.SampleSet(num_samples=3, population='Population1')"
   ]
  },
  {
   "cell_type": "markdown",
   "id": "every-martial",
   "metadata": {},
   "source": [
    "You can give these to your {class}`msprime.Demography` object as a list\n",
    "using the ``populations`` argument.\n",
    "(Note that we no longer need to specify ``Ne`` as we have provided a separate size for each population)."
   ]
  },
  {
   "cell_type": "code",
   "execution_count": 3,
   "id": "amateur-spring",
   "metadata": {},
   "outputs": [],
   "source": [
    "# dem = msprime.Demography(populations=[pop0, pop1])\n",
    "# ts = msprime.sim_ancestry(samples=[samples0, samples1], demography=dem, random-seed=12, sequence_length=1000, recombination_rate=1e-4)"
   ]
  },
  {
   "cell_type": "markdown",
   "id": "adverse-working",
   "metadata": {},
   "source": [
    "However, **this simulation will run forever** unless we also\n",
    "specify some migration between the groups!\n",
    "To understand why, recall that ``msprime`` is a `coalescent`-based simulator.\n",
    "The simulation will run backwards-in-time, simulating until `all` samples have\n",
    "coalesced to a single common ancestor at each genomic location.\n",
    "However, with no migration between our two populations, samples in one\n",
    "population will never coalesce with samples in another population.\n",
    "To fix this, let's add some migration events to the specific demographic history.\n",
    "\n",
    "## Migrations\n",
    "\n",
    "With msprime, you can specify continual rates of migrations between\n",
    "populations, as well as one-off mass migrations.\n",
    "\n",
    "### Constant migration\n",
    "\n",
    "![constant-migration-diagram](_static/tute-population-structure-1.png)\n",
    "\n",
    "Migration rates between the populations can be specified as the elements of an\n",
    "*N* by *N* numpy array, and given to {func}`msprime.sim_ancestry` via the\n",
    "``migration_matrix`` argument. The diagonal elements of this array must each be\n",
    "0, and the *(i, j)* th element specifies the expected number of migrants moving\n",
    "from population *j* to population *i* per generation, divided by the size of\n",
    "population *i*.  When this rate is small (close to 0), it is approximately\n",
    "equal to the fraction of population *i* that consists of new migrants from\n",
    "population *j* in each generation.\n",
    "\n",
    "For instance, the following migration matrix specifies that in each generation,\n",
    "approximately 5% of population 0 consists of migrants from population 1, and\n",
    "approximately 2% of population 1 consists of migrants from population 0."
   ]
  },
  {
   "cell_type": "code",
   "execution_count": 4,
   "id": "sublime-broadway",
   "metadata": {},
   "outputs": [],
   "source": [
    "M = np.array([\n",
    "[0, 0.05],\n",
    "[0.02, 0]])\n",
    "dem = msprime.Demography(populations=[pop0, pop1], migration_matrix=M)\n",
    "ts = msprime.sim_ancestry(samples=[samples0, samples1], demography=dem, sequence_length=1000, random_seed=17, recombination_rate=1e-7)"
   ]
  },
  {
   "cell_type": "markdown",
   "id": "enormous-arena",
   "metadata": {},
   "source": [
    "One consequence of specifying :class:`msprime.Population` objects\n",
    "is that each of the simulated nodes will now belong to one of our specified\n",
    "populations:"
   ]
  },
  {
   "cell_type": "code",
   "execution_count": 5,
   "id": "focused-display",
   "metadata": {},
   "outputs": [
    {
     "name": "stdout",
     "output_type": "stream",
     "text": [
      "id\tflags\tpopulation\tindividual\ttime\tmetadata\n",
      "0\t1\t0\t0\t0.00000000000000\t\n",
      "1\t1\t0\t0\t0.00000000000000\t\n",
      "2\t1\t0\t1\t0.00000000000000\t\n",
      "3\t1\t0\t1\t0.00000000000000\t\n",
      "4\t1\t0\t2\t0.00000000000000\t\n",
      "5\t1\t0\t2\t0.00000000000000\t\n",
      "6\t1\t1\t3\t0.00000000000000\t\n",
      "7\t1\t1\t3\t0.00000000000000\t\n",
      "8\t1\t1\t4\t0.00000000000000\t\n",
      "9\t1\t1\t4\t0.00000000000000\t\n",
      "10\t1\t1\t5\t0.00000000000000\t\n",
      "11\t1\t1\t5\t0.00000000000000\t\n",
      "12\t0\t1\t-1\t32.20268342300078\t\n",
      "13\t0\t1\t-1\t136.19260203027568\t\n",
      "14\t0\t1\t-1\t144.81604777490708\t\n",
      "15\t0\t1\t-1\t223.73159373890010\t\n",
      "16\t0\t1\t-1\t241.03586279244348\t\n",
      "17\t0\t1\t-1\t576.60049955856971\t\n",
      "18\t0\t1\t-1\t594.92491484951927\t\n",
      "19\t0\t1\t-1\t1004.22381530940197\t\n",
      "20\t0\t1\t-1\t1011.61229375302696\t\n",
      "21\t0\t1\t-1\t1132.03556587555613\t\n",
      "22\t0\t1\t-1\t1156.96427328450591\t\n",
      "23\t0\t1\t-1\t2723.42407534135509\t\n"
     ]
    }
   ],
   "source": [
    "print(ts.tables.nodes)"
   ]
  },
  {
   "cell_type": "markdown",
   "id": "acceptable-learning",
   "metadata": {},
   "source": [
    "Notice that the ``population`` column of the node table now contains values of 0 and 1.\n",
    "If you are working in a Jupyter notebook, you can draw the tree sequence\n",
    "with nodes coloured by population label using SVG:"
   ]
  },
  {
   "cell_type": "code",
   "execution_count": 6,
   "id": "potential-utilization",
   "metadata": {},
   "outputs": [
    {
     "name": "stdout",
     "output_type": "stream",
     "text": [
      "Tree on interval: Interval(left=0.0, right=494.0)\n"
     ]
    },
    {
     "data": {
      "image/svg+xml": [
       "<svg xmlns=\"http://www.w3.org/2000/svg\" xmlns:ev=\"http://www.w3.org/2001/xml-events\" xmlns:xlink=\"http://www.w3.org/1999/xlink\" baseProfile=\"full\" height=\"200\" version=\"1.1\" width=\"200\"><defs><style type=\"text/css\"><![CDATA[.axis {font-weight: bold}.tree, .axis {font-size: 14px; text-anchor:middle}.edge {stroke: black; fill: none}.node > .sym {fill: black; stroke: none}.tree text {dominant-baseline: middle}.tree .lab.lft {text-anchor: end}.tree .lab.rgt {text-anchor: start}.mut {fill: red; font-style: italic}]]></style></defs><g class=\"tree t0\"><g class=\"node n23 p1 root\" transform=\"translate(105.192 30.0)\"><g class=\"a23 node n19 p1\" transform=\"translate(43.2692 88.377)\"><g class=\"a19 node n13 p1\" transform=\"translate(20.7692 44.6219)\"><g class=\"a13 i2 leaf node n5 p0 sample\" transform=\"translate(-6.92308 7.0011)\"><path class=\"edge\" d=\"M 0 0 V -7.0011 H 6.92308\"/><circle class=\"sym\" cx=\"0\" cy=\"0\" r=\"3\" style=\"fill:red;\"/><text class=\"lab\" transform=\"translate(0 12)\">5</text></g><g class=\"a13 i5 leaf node n11 p1 sample\" transform=\"translate(6.92308 7.0011)\"><path class=\"edge\" d=\"M 0 0 V -7.0011 H -6.92308\"/><circle class=\"sym\" cx=\"0\" cy=\"0\" r=\"3\" style=\"fill:blue;\"/><text class=\"lab\" transform=\"translate(0 12)\">11</text></g><path class=\"edge\" d=\"M 0 0 V -44.6219 H -20.7692\"/><circle class=\"sym\" cx=\"0\" cy=\"0\" r=\"3\" style=\"fill:blue;\"/><text class=\"lab rgt\" transform=\"translate(3 -6)\">13</text></g><g class=\"a19 node n18 p1\" transform=\"translate(-20.7692 21.0404)\"><g class=\"a18 node n14 p1\" transform=\"translate(-13.8462 23.1382)\"><g class=\"a14 i0 leaf node n1 p0 sample\" transform=\"translate(-6.92308 7.4444)\"><path class=\"edge\" d=\"M 0 0 V -7.4444 H 6.92308\"/><circle class=\"sym\" cx=\"0\" cy=\"0\" r=\"3\" style=\"fill:red;\"/><text class=\"lab\" transform=\"translate(0 12)\">1</text></g><g class=\"a14 i4 leaf node n8 p1 sample\" transform=\"translate(6.92308 7.4444)\"><path class=\"edge\" d=\"M 0 0 V -7.4444 H -6.92308\"/><circle class=\"sym\" cx=\"0\" cy=\"0\" r=\"3\" style=\"fill:blue;\"/><text class=\"lab\" transform=\"translate(0 12)\">8</text></g><path class=\"edge\" d=\"M 0 0 V -23.1382 H 13.8462\"/><circle class=\"sym\" cx=\"0\" cy=\"0\" r=\"3\" style=\"fill:blue;\"/><text class=\"lab lft\" transform=\"translate(-3 -6)\">14</text></g><g class=\"a18 node n17 p1\" transform=\"translate(13.8462 0.941983)\"><g class=\"a17 i2 leaf node n4 p0 sample\" transform=\"translate(-6.92308 29.6407)\"><path class=\"edge\" d=\"M 0 0 V -29.6407 H 6.92308\"/><circle class=\"sym\" cx=\"0\" cy=\"0\" r=\"3\" style=\"fill:red;\"/><text class=\"lab\" transform=\"translate(0 12)\">4</text></g><g class=\"a17 i3 leaf node n6 p1 sample\" transform=\"translate(6.92308 29.6407)\"><path class=\"edge\" d=\"M 0 0 V -29.6407 H -6.92308\"/><circle class=\"sym\" cx=\"0\" cy=\"0\" r=\"3\" style=\"fill:blue;\"/><text class=\"lab\" transform=\"translate(0 12)\">6</text></g><path class=\"edge\" d=\"M 0 0 V -0.941983 H -13.8462\"/><circle class=\"sym\" cx=\"0\" cy=\"0\" r=\"3\" style=\"fill:blue;\"/><text class=\"lab rgt\" transform=\"translate(3 -6)\">17</text></g><path class=\"edge\" d=\"M 0 0 V -21.0404 H 20.7692\"/><circle class=\"sym\" cx=\"0\" cy=\"0\" r=\"3\" style=\"fill:blue;\"/><text class=\"lab lft\" transform=\"translate(-3 -6)\">18</text></g><path class=\"edge\" d=\"M 0 0 V -88.377 H -43.2692\"/><circle class=\"sym\" cx=\"0\" cy=\"0\" r=\"3\" style=\"fill:blue;\"/><text class=\"lab rgt\" transform=\"translate(3 -6)\">19</text></g><g class=\"a23 node n22 p1\" transform=\"translate(-43.2692 80.5252)\"><g class=\"a22 node n16 p1\" transform=\"translate(20.7692 47.0841)\"><g class=\"a16 i5 leaf node n10 p1 sample\" transform=\"translate(10.3846 12.3907)\"><path class=\"edge\" d=\"M 0 0 V -12.3907 H -10.3846\"/><circle class=\"sym\" cx=\"0\" cy=\"0\" r=\"3\" style=\"fill:blue;\"/><text class=\"lab\" transform=\"translate(0 12)\">10</text></g><g class=\"a16 node n12 p1\" transform=\"translate(-10.3846 10.7353)\"><g class=\"a12 i1 leaf node n2 p0 sample\" transform=\"translate(-6.92308 1.65541)\"><path class=\"edge\" d=\"M 0 0 V -1.65541 H 6.92308\"/><circle class=\"sym\" cx=\"0\" cy=\"0\" r=\"3\" style=\"fill:red;\"/><text class=\"lab\" transform=\"translate(0 12)\">2</text></g><g class=\"a12 i3 leaf node n7 p1 sample\" transform=\"translate(6.92308 1.65541)\"><path class=\"edge\" d=\"M 0 0 V -1.65541 H -6.92308\"/><circle class=\"sym\" cx=\"0\" cy=\"0\" r=\"3\" style=\"fill:blue;\"/><text class=\"lab\" transform=\"translate(0 12)\">7</text></g><path class=\"edge\" d=\"M 0 0 V -10.7353 H 10.3846\"/><circle class=\"sym\" cx=\"0\" cy=\"0\" r=\"3\" style=\"fill:blue;\"/><text class=\"lab lft\" transform=\"translate(-3 -6)\">12</text></g><path class=\"edge\" d=\"M 0 0 V -47.0841 H -20.7692\"/><circle class=\"sym\" cx=\"0\" cy=\"0\" r=\"3\" style=\"fill:blue;\"/><text class=\"lab rgt\" transform=\"translate(3 -6)\">16</text></g><g class=\"a22 node n20 p1\" transform=\"translate(-20.7692 7.47195)\"><g class=\"a20 i1 leaf node n3 p0 sample\" transform=\"translate(10.3846 52.0028)\"><path class=\"edge\" d=\"M 0 0 V -52.0028 H -10.3846\"/><circle class=\"sym\" cx=\"0\" cy=\"0\" r=\"3\" style=\"fill:red;\"/><text class=\"lab\" transform=\"translate(0 12)\">3</text></g><g class=\"a20 node n15 p1\" transform=\"translate(-10.3846 40.5017)\"><g class=\"a15 i0 leaf node n0 p0 sample\" transform=\"translate(-6.92308 11.5011)\"><path class=\"edge\" d=\"M 0 0 V -11.5011 H 6.92308\"/><circle class=\"sym\" cx=\"0\" cy=\"0\" r=\"3\" style=\"fill:red;\"/><text class=\"lab\" transform=\"translate(0 12)\">0</text></g><g class=\"a15 i4 leaf node n9 p1 sample\" transform=\"translate(6.92308 11.5011)\"><path class=\"edge\" d=\"M 0 0 V -11.5011 H -6.92308\"/><circle class=\"sym\" cx=\"0\" cy=\"0\" r=\"3\" style=\"fill:blue;\"/><text class=\"lab\" transform=\"translate(0 12)\">9</text></g><path class=\"edge\" d=\"M 0 0 V -40.5017 H 10.3846\"/><circle class=\"sym\" cx=\"0\" cy=\"0\" r=\"3\" style=\"fill:blue;\"/><text class=\"lab lft\" transform=\"translate(-3 -6)\">15</text></g><path class=\"edge\" d=\"M 0 0 V -7.47195 H 20.7692\"/><circle class=\"sym\" cx=\"0\" cy=\"0\" r=\"3\" style=\"fill:blue;\"/><text class=\"lab lft\" transform=\"translate(-3 -6)\">20</text></g><path class=\"edge\" d=\"M 0 0 V -80.5252 H 43.2692\"/><circle class=\"sym\" cx=\"0\" cy=\"0\" r=\"3\" style=\"fill:blue;\"/><text class=\"lab lft\" transform=\"translate(-3 -6)\">22</text></g><circle class=\"sym\" cx=\"0\" cy=\"0\" r=\"3\" style=\"fill:blue;\"/><text class=\"lab\" transform=\"translate(0 -10)\">23</text></g></g></svg>"
      ],
      "text/plain": [
       "<IPython.core.display.SVG object>"
      ]
     },
     "metadata": {
      "filenames": {
       "image/svg+xml": "/home/runner/work/tutorials/tutorials/_build/jupyter_execute/demography_11_1.svg"
      }
     },
     "output_type": "display_data"
    },
    {
     "name": "stdout",
     "output_type": "stream",
     "text": [
      "Tree on interval: Interval(left=494.0, right=1000.0)\n"
     ]
    },
    {
     "data": {
      "image/svg+xml": [
       "<svg xmlns=\"http://www.w3.org/2000/svg\" xmlns:ev=\"http://www.w3.org/2001/xml-events\" xmlns:xlink=\"http://www.w3.org/1999/xlink\" baseProfile=\"full\" height=\"200\" version=\"1.1\" width=\"200\"><defs><style type=\"text/css\"><![CDATA[.axis {font-weight: bold}.tree, .axis {font-size: 14px; text-anchor:middle}.edge {stroke: black; fill: none}.node > .sym {fill: black; stroke: none}.tree text {dominant-baseline: middle}.tree .lab.lft {text-anchor: end}.tree .lab.rgt {text-anchor: start}.mut {fill: red; font-style: italic}]]></style></defs><g class=\"tree t1\"><g class=\"node n23 p1 root\" transform=\"translate(119.471 30.0)\"><g class=\"a23 node n22 p1\" transform=\"translate(-35.9135 80.5252)\"><g class=\"a22 node n16 p1\" transform=\"translate(26.8269 47.0841)\"><g class=\"a16 i5 leaf node n10 p1 sample\" transform=\"translate(10.3846 12.3907)\"><path class=\"edge\" d=\"M 0 0 V -12.3907 H -10.3846\"/><circle class=\"sym\" cx=\"0\" cy=\"0\" r=\"3\" style=\"fill:blue;\"/><text class=\"lab\" transform=\"translate(0 12)\">10</text></g><g class=\"a16 node n12 p1\" transform=\"translate(-10.3846 10.7353)\"><g class=\"a12 i1 leaf node n2 p0 sample\" transform=\"translate(-6.92308 1.65541)\"><path class=\"edge\" d=\"M 0 0 V -1.65541 H 6.92308\"/><circle class=\"sym\" cx=\"0\" cy=\"0\" r=\"3\" style=\"fill:red;\"/><text class=\"lab\" transform=\"translate(0 12)\">2</text></g><g class=\"a12 i3 leaf node n7 p1 sample\" transform=\"translate(6.92308 1.65541)\"><path class=\"edge\" d=\"M 0 0 V -1.65541 H -6.92308\"/><circle class=\"sym\" cx=\"0\" cy=\"0\" r=\"3\" style=\"fill:blue;\"/><text class=\"lab\" transform=\"translate(0 12)\">7</text></g><path class=\"edge\" d=\"M 0 0 V -10.7353 H 10.3846\"/><circle class=\"sym\" cx=\"0\" cy=\"0\" r=\"3\" style=\"fill:blue;\"/><text class=\"lab lft\" transform=\"translate(-3 -6)\">12</text></g><path class=\"edge\" d=\"M 0 0 V -47.0841 H -26.8269\"/><circle class=\"sym\" cx=\"0\" cy=\"0\" r=\"3\" style=\"fill:blue;\"/><text class=\"lab rgt\" transform=\"translate(3 -6)\">16</text></g><g class=\"a22 node n21 p1\" transform=\"translate(-26.8269 1.28148)\"><g class=\"a21 node n13 p1\" transform=\"translate(15.5769 51.1922)\"><g class=\"a13 i2 leaf node n5 p0 sample\" transform=\"translate(-6.92308 7.0011)\"><path class=\"edge\" d=\"M 0 0 V -7.0011 H 6.92308\"/><circle class=\"sym\" cx=\"0\" cy=\"0\" r=\"3\" style=\"fill:red;\"/><text class=\"lab\" transform=\"translate(0 12)\">5</text></g><g class=\"a13 i5 leaf node n11 p1 sample\" transform=\"translate(6.92308 7.0011)\"><path class=\"edge\" d=\"M 0 0 V -7.0011 H -6.92308\"/><circle class=\"sym\" cx=\"0\" cy=\"0\" r=\"3\" style=\"fill:blue;\"/><text class=\"lab\" transform=\"translate(0 12)\">11</text></g><path class=\"edge\" d=\"M 0 0 V -51.1922 H -15.5769\"/><circle class=\"sym\" cx=\"0\" cy=\"0\" r=\"3\" style=\"fill:blue;\"/><text class=\"lab rgt\" transform=\"translate(3 -6)\">13</text></g><g class=\"a21 node n20 p1\" transform=\"translate(-15.5769 6.19046)\"><g class=\"a20 i1 leaf node n3 p0 sample\" transform=\"translate(10.3846 52.0028)\"><path class=\"edge\" d=\"M 0 0 V -52.0028 H -10.3846\"/><circle class=\"sym\" cx=\"0\" cy=\"0\" r=\"3\" style=\"fill:red;\"/><text class=\"lab\" transform=\"translate(0 12)\">3</text></g><g class=\"a20 node n15 p1\" transform=\"translate(-10.3846 40.5017)\"><g class=\"a15 i0 leaf node n0 p0 sample\" transform=\"translate(-6.92308 11.5011)\"><path class=\"edge\" d=\"M 0 0 V -11.5011 H 6.92308\"/><circle class=\"sym\" cx=\"0\" cy=\"0\" r=\"3\" style=\"fill:red;\"/><text class=\"lab\" transform=\"translate(0 12)\">0</text></g><g class=\"a15 i4 leaf node n9 p1 sample\" transform=\"translate(6.92308 11.5011)\"><path class=\"edge\" d=\"M 0 0 V -11.5011 H -6.92308\"/><circle class=\"sym\" cx=\"0\" cy=\"0\" r=\"3\" style=\"fill:blue;\"/><text class=\"lab\" transform=\"translate(0 12)\">9</text></g><path class=\"edge\" d=\"M 0 0 V -40.5017 H 10.3846\"/><circle class=\"sym\" cx=\"0\" cy=\"0\" r=\"3\" style=\"fill:blue;\"/><text class=\"lab lft\" transform=\"translate(-3 -6)\">15</text></g><path class=\"edge\" d=\"M 0 0 V -6.19046 H 15.5769\"/><circle class=\"sym\" cx=\"0\" cy=\"0\" r=\"3\" style=\"fill:blue;\"/><text class=\"lab lft\" transform=\"translate(-3 -6)\">20</text></g><path class=\"edge\" d=\"M 0 0 V -1.28148 H 26.8269\"/><circle class=\"sym\" cx=\"0\" cy=\"0\" r=\"3\" style=\"fill:blue;\"/><text class=\"lab lft\" transform=\"translate(-3 -6)\">21</text></g><path class=\"edge\" d=\"M 0 0 V -80.5252 H 35.9135\"/><circle class=\"sym\" cx=\"0\" cy=\"0\" r=\"3\" style=\"fill:blue;\"/><text class=\"lab lft\" transform=\"translate(-3 -6)\">22</text></g><g class=\"a23 node n18 p1\" transform=\"translate(35.9135 109.417)\"><g class=\"a18 node n14 p1\" transform=\"translate(-13.8462 23.1382)\"><g class=\"a14 i0 leaf node n1 p0 sample\" transform=\"translate(-6.92308 7.4444)\"><path class=\"edge\" d=\"M 0 0 V -7.4444 H 6.92308\"/><circle class=\"sym\" cx=\"0\" cy=\"0\" r=\"3\" style=\"fill:red;\"/><text class=\"lab\" transform=\"translate(0 12)\">1</text></g><g class=\"a14 i4 leaf node n8 p1 sample\" transform=\"translate(6.92308 7.4444)\"><path class=\"edge\" d=\"M 0 0 V -7.4444 H -6.92308\"/><circle class=\"sym\" cx=\"0\" cy=\"0\" r=\"3\" style=\"fill:blue;\"/><text class=\"lab\" transform=\"translate(0 12)\">8</text></g><path class=\"edge\" d=\"M 0 0 V -23.1382 H 13.8462\"/><circle class=\"sym\" cx=\"0\" cy=\"0\" r=\"3\" style=\"fill:blue;\"/><text class=\"lab lft\" transform=\"translate(-3 -6)\">14</text></g><g class=\"a18 node n17 p1\" transform=\"translate(13.8462 0.941983)\"><g class=\"a17 i2 leaf node n4 p0 sample\" transform=\"translate(-6.92308 29.6407)\"><path class=\"edge\" d=\"M 0 0 V -29.6407 H 6.92308\"/><circle class=\"sym\" cx=\"0\" cy=\"0\" r=\"3\" style=\"fill:red;\"/><text class=\"lab\" transform=\"translate(0 12)\">4</text></g><g class=\"a17 i3 leaf node n6 p1 sample\" transform=\"translate(6.92308 29.6407)\"><path class=\"edge\" d=\"M 0 0 V -29.6407 H -6.92308\"/><circle class=\"sym\" cx=\"0\" cy=\"0\" r=\"3\" style=\"fill:blue;\"/><text class=\"lab\" transform=\"translate(0 12)\">6</text></g><path class=\"edge\" d=\"M 0 0 V -0.941983 H -13.8462\"/><circle class=\"sym\" cx=\"0\" cy=\"0\" r=\"3\" style=\"fill:blue;\"/><text class=\"lab rgt\" transform=\"translate(3 -6)\">17</text></g><path class=\"edge\" d=\"M 0 0 V -109.417 H -35.9135\"/><circle class=\"sym\" cx=\"0\" cy=\"0\" r=\"3\" style=\"fill:blue;\"/><text class=\"lab rgt\" transform=\"translate(3 -6)\">18</text></g><circle class=\"sym\" cx=\"0\" cy=\"0\" r=\"3\" style=\"fill:blue;\"/><text class=\"lab\" transform=\"translate(0 -10)\">23</text></g></g></svg>"
      ],
      "text/plain": [
       "<IPython.core.display.SVG object>"
      ]
     },
     "metadata": {
      "filenames": {
       "image/svg+xml": "/home/runner/work/tutorials/tutorials/_build/jupyter_execute/demography_11_3.svg"
      }
     },
     "output_type": "display_data"
    }
   ],
   "source": [
    "colour_map = {0:\"red\", 1:\"blue\"}\n",
    "node_colours = {u.id: colour_map[u.population] for u in ts.nodes()}\n",
    "for tree in ts.trees():\n",
    "    print(\"Tree on interval:\", tree.interval)\n",
    "    # The code below will only work in a Jupyter notebook with SVG output enabled.\n",
    "    display(SVG(tree.draw(node_colours=node_colours)))"
   ]
  },
  {
   "cell_type": "markdown",
   "id": "maritime-modem",
   "metadata": {},
   "source": [
    "More coalescences are happening in population 1 than population 0.\n",
    "This makes sense given that population 1 is specifying more migrants to\n",
    "population 0 than vice versa.\n",
    "\n",
    "### Changing migration rates\n",
    "\n",
    "We can change any of the migration rates at any time in the simulation.\n",
    "To do this, we just need to add a {class}`msprime.MigrationRateChange` object\n",
    "specifying the index of the migration matrix to be changed,\n",
    "the time of the change and the new migration rate.\n",
    "\n",
    "For instance, say we wanted to specify that in each generation prior to\n",
    "time = 100, 1% of population 0 consisted of migrants from population 1."
   ]
  },
  {
   "cell_type": "code",
   "execution_count": 7,
   "id": "peaceful-december",
   "metadata": {},
   "outputs": [],
   "source": [
    "migration_rate_change = msprime.MigrationRateChange(time = 100, rate = 0.01, source=0, dest=1)"
   ]
  },
  {
   "cell_type": "markdown",
   "id": "political-production",
   "metadata": {},
   "source": [
    "A list of these changes can be supplied to {func}`msprime.sim_ancestry` via the\n",
    "``demographic_events`` input:\n",
    "(If there is more than 1 change, ensure they are ordered by backwards-time!)"
   ]
  },
  {
   "cell_type": "code",
   "execution_count": 8,
   "id": "phantom-mills",
   "metadata": {},
   "outputs": [],
   "source": [
    "dem = msprime.Demography(populations=[pop0, pop1], migration_matrix=M, events=[migration_rate_change])\n",
    "ts = msprime.sim_ancestry(samples=[samples0, samples1], demography=dem, sequence_length=1000, random_seed=63461, recombination_rate=1e-7)"
   ]
  },
  {
   "cell_type": "markdown",
   "id": "collaborative-whole",
   "metadata": {},
   "source": [
    "### Mass migrations\n",
    "\n",
    ":class:`msprime.MassMigration` objects are used to specify one-off events in which some fraction of a population moves into another population. These are useful for specifying divergence and admixture events.\n",
    "\n",
    "![](_static/tute-mass-migration.png)\n",
    "\n",
    "You'll need to provide the time of the event in generations,\n",
    "the ID of the source and destination populations,\n",
    "and a migration proportion (which defaults to 1.0).\n",
    "For example, the following specifies that 50 generations ago,\n",
    "30% of population 0 was a migrant from population 1."
   ]
  },
  {
   "cell_type": "code",
   "execution_count": 9,
   "id": "rough-difficulty",
   "metadata": {},
   "outputs": [],
   "source": [
    "admixture_event  = msprime.MassMigration(time = 50, source = 0, dest = 1, proportion = 0.3)"
   ]
  },
  {
   "cell_type": "markdown",
   "id": "palestinian-minimum",
   "metadata": {},
   "source": [
    "Note that these are viewed as backwards-in-time events,\n",
    "so ``source`` is the population that receives migrants from ``dest``.\n",
    "\n",
    "Any mass migrations can be added into the list of ``events`` supplied to {func}`msprime.sim_ancestry` via the {class}`msprime.Demography` object."
   ]
  },
  {
   "cell_type": "code",
   "execution_count": 10,
   "id": "written-garbage",
   "metadata": {},
   "outputs": [],
   "source": [
    "dem = msprime.Demography(populations=[pop0, pop1], migration_matrix=M, events=[admixture_event])\n",
    "ts = msprime.sim_ancestry(samples=[samples0, samples1], demography=dem, sequence_length=1000, random_seed=63461, recombination_rate=1e-7)"
   ]
  },
  {
   "cell_type": "markdown",
   "id": "therapeutic-charleston",
   "metadata": {},
   "source": [
    "{class}`msprime.MassMigration` objects can also be used to specify divergence events, but we must take some care.\n",
    "\n",
    "![](_static/tute-divergence-1.png)\n",
    "\n",
    "The following specifies that 200 generations ago, 100% of population 1 was a migrant from population 0."
   ]
  },
  {
   "cell_type": "code",
   "execution_count": 11,
   "id": "designing-hunter",
   "metadata": {},
   "outputs": [],
   "source": [
    "divergence_event = msprime.MassMigration(\n",
    "        time = 200, source = 1, dest = 0, proportion = 1)"
   ]
  },
  {
   "cell_type": "markdown",
   "id": "cubic-residence",
   "metadata": {},
   "source": [
    "We'll add this to our list of ``events`` in our {class}`msprime.Demography` object."
   ]
  },
  {
   "cell_type": "code",
   "execution_count": 12,
   "id": "prospective-burner",
   "metadata": {},
   "outputs": [],
   "source": [
    "dem = msprime.Demography(populations=[pop0, pop1], migration_matrix=M, events=[admixture_event, divergence_event])\n",
    "ts = msprime.sim_ancestry(samples=[samples0, samples1], demography=dem, sequence_length=1000, random_seed=63461, recombination_rate=1e-7)"
   ]
  },
  {
   "cell_type": "markdown",
   "id": "exempt-designer",
   "metadata": {},
   "source": [
    "However, when we look at the population IDs corresponding to the the nodes from more than 200 generations ago, there are still some nodes from both populations. This is not what what we'd expect to see if we'd correctly simulated a divergence event!"
   ]
  },
  {
   "cell_type": "code",
   "execution_count": 13,
   "id": "veterinary-trinidad",
   "metadata": {},
   "outputs": [
    {
     "data": {
      "text/plain": [
       "[1, 1, 1, 1, 0]"
      ]
     },
     "execution_count": 13,
     "metadata": {},
     "output_type": "execute_result"
    }
   ],
   "source": [
    "[u.population for u in ts.nodes() if u.time > 200]"
   ]
  },
  {
   "cell_type": "markdown",
   "id": "exclusive-intention",
   "metadata": {},
   "source": [
    "The reason is that at present, we are simulating a situation in which population 1 exists prior to generation 200, but is completely replaced by migrants from population 0 at time = 200. And because we've specified a migration matrix, there will still be some migrants from population 0 to population 1 in prior generations.\n",
    "\n",
    "![](_static/tute-divergence-2.png)\n",
    "\n",
    "We can fix this by also specifying that prior to time = 200, population 1 had no migration from population 0."
   ]
  },
  {
   "cell_type": "code",
   "execution_count": 14,
   "id": "decimal-allowance",
   "metadata": {},
   "outputs": [],
   "source": [
    "rate_change = msprime.MigrationRateChange(time = 200, rate = 0, matrix_index=None)\n",
    "dem = msprime.Demography(populations=[pop0, pop1], migration_matrix=M, events=[admixture_event, divergence_event, rate_change])\n",
    "ts = msprime.sim_ancestry(samples=[samples0, samples1], demography=dem, sequence_length=1000, random_seed=63461, recombination_rate=1e-7)"
   ]
  },
  {
   "cell_type": "markdown",
   "id": "spoken-manchester",
   "metadata": {},
   "source": [
    "Now all ancestral nodes prior to generation 200 are exclusively from population 0. Hooray!"
   ]
  },
  {
   "cell_type": "code",
   "execution_count": 15,
   "id": "cleared-virtue",
   "metadata": {},
   "outputs": [
    {
     "data": {
      "image/svg+xml": [
       "<svg xmlns=\"http://www.w3.org/2000/svg\" xmlns:ev=\"http://www.w3.org/2001/xml-events\" xmlns:xlink=\"http://www.w3.org/1999/xlink\" baseProfile=\"full\" height=\"200\" version=\"1.1\" width=\"200\"><defs><style type=\"text/css\"><![CDATA[.axis {font-weight: bold}.tree, .axis {font-size: 14px; text-anchor:middle}.edge {stroke: black; fill: none}.node > .sym {fill: black; stroke: none}.tree text {dominant-baseline: middle}.tree .lab.lft {text-anchor: end}.tree .lab.rgt {text-anchor: start}.mut {fill: red; font-style: italic}]]></style></defs><g class=\"tree t0\"><g class=\"node n23 p0 root\" transform=\"translate(144.567 30.0)\"><g class=\"a23 node n19 p0\" transform=\"translate(24.6635 114.678)\"><g class=\"a19 i0 leaf node n1 p0 sample\" transform=\"translate(-6.92308 25.3221)\"><path class=\"edge\" d=\"M 0 0 V -25.3221 H 6.92308\"/><circle class=\"sym\" cx=\"0\" cy=\"0\" r=\"3\" style=\"fill:red;\"/><text class=\"lab\" transform=\"translate(0 12)\">1</text></g><g class=\"a19 i5 leaf node n11 p1 sample\" transform=\"translate(6.92308 25.3221)\"><path class=\"edge\" d=\"M 0 0 V -25.3221 H -6.92308\"/><circle class=\"sym\" cx=\"0\" cy=\"0\" r=\"3\" style=\"fill:blue;\"/><text class=\"lab\" transform=\"translate(0 12)\">11</text></g><path class=\"edge\" d=\"M 0 0 V -114.678 H -24.6635\"/><circle class=\"sym\" cx=\"0\" cy=\"0\" r=\"3\" style=\"fill:red;\"/><text class=\"lab rgt\" transform=\"translate(3 -6)\">19</text></g><g class=\"a23 node n22 p0\" transform=\"translate(-24.6635 29.0282)\"><g class=\"a22 i1 leaf node n3 p0 sample\" transform=\"translate(28.5577 110.972)\"><path class=\"edge\" d=\"M 0 0 V -110.972 H -28.5577\"/><circle class=\"sym\" cx=\"0\" cy=\"0\" r=\"3\" style=\"fill:red;\"/><text class=\"lab\" transform=\"translate(0 12)\">3</text></g><g class=\"a22 node n21 p0\" transform=\"translate(-28.5577 34.0529)\"><g class=\"a21 node n13 p1\" transform=\"translate(32.8846 69.1531)\"><g class=\"a13 i3 leaf node n6 p1 sample\" transform=\"translate(10.3846 7.76584)\"><path class=\"edge\" d=\"M 0 0 V -7.76584 H -10.3846\"/><circle class=\"sym\" cx=\"0\" cy=\"0\" r=\"3\" style=\"fill:blue;\"/><text class=\"lab\" transform=\"translate(0 12)\">6</text></g><g class=\"a13 node n12 p1\" transform=\"translate(-10.3846 1.07799)\"><g class=\"a12 i2 leaf node n4 p0 sample\" transform=\"translate(-6.92308 6.68785)\"><path class=\"edge\" d=\"M 0 0 V -6.68785 H 6.92308\"/><circle class=\"sym\" cx=\"0\" cy=\"0\" r=\"3\" style=\"fill:red;\"/><text class=\"lab\" transform=\"translate(0 12)\">4</text></g><g class=\"a12 i5 leaf node n10 p1 sample\" transform=\"translate(6.92308 6.68785)\"><path class=\"edge\" d=\"M 0 0 V -6.68785 H -6.92308\"/><circle class=\"sym\" cx=\"0\" cy=\"0\" r=\"3\" style=\"fill:blue;\"/><text class=\"lab\" transform=\"translate(0 12)\">10</text></g><path class=\"edge\" d=\"M 0 0 V -1.07799 H 10.3846\"/><circle class=\"sym\" cx=\"0\" cy=\"0\" r=\"3\" style=\"fill:blue;\"/><text class=\"lab lft\" transform=\"translate(-3 -6)\">12</text></g><path class=\"edge\" d=\"M 0 0 V -69.1531 H -32.8846\"/><circle class=\"sym\" cx=\"0\" cy=\"0\" r=\"3\" style=\"fill:blue;\"/><text class=\"lab rgt\" transform=\"translate(3 -6)\">13</text></g><g class=\"a21 node n20 p0\" transform=\"translate(-32.8846 27.2412)\"><g class=\"a20 node n17 p1\" transform=\"translate(24.2308 30.7393)\"><g class=\"a17 i4 leaf node n9 p1 sample\" transform=\"translate(10.3846 18.9384)\"><path class=\"edge\" d=\"M 0 0 V -18.9384 H -10.3846\"/><circle class=\"sym\" cx=\"0\" cy=\"0\" r=\"3\" style=\"fill:blue;\"/><text class=\"lab\" transform=\"translate(0 12)\">9</text></g><g class=\"a17 node n16 p1\" transform=\"translate(-10.3846 2.15607)\"><g class=\"a16 i2 leaf node n5 p0 sample\" transform=\"translate(-6.92308 16.7823)\"><path class=\"edge\" d=\"M 0 0 V -16.7823 H 6.92308\"/><circle class=\"sym\" cx=\"0\" cy=\"0\" r=\"3\" style=\"fill:red;\"/><text class=\"lab\" transform=\"translate(0 12)\">5</text></g><g class=\"a16 i3 leaf node n7 p1 sample\" transform=\"translate(6.92308 16.7823)\"><path class=\"edge\" d=\"M 0 0 V -16.7823 H -6.92308\"/><circle class=\"sym\" cx=\"0\" cy=\"0\" r=\"3\" style=\"fill:blue;\"/><text class=\"lab\" transform=\"translate(0 12)\">7</text></g><path class=\"edge\" d=\"M 0 0 V -2.15607 H 10.3846\"/><circle class=\"sym\" cx=\"0\" cy=\"0\" r=\"3\" style=\"fill:blue;\"/><text class=\"lab lft\" transform=\"translate(-3 -6)\">16</text></g><path class=\"edge\" d=\"M 0 0 V -30.7393 H -24.2308\"/><circle class=\"sym\" cx=\"0\" cy=\"0\" r=\"3\" style=\"fill:blue;\"/><text class=\"lab rgt\" transform=\"translate(3 -6)\">17</text></g><g class=\"a20 node n18 p1\" transform=\"translate(-24.2308 27.2437)\"><g class=\"a18 i0 leaf node n0 p0 sample\" transform=\"translate(-10.3846 22.434)\"><path class=\"edge\" d=\"M 0 0 V -22.434 H 10.3846\"/><circle class=\"sym\" cx=\"0\" cy=\"0\" r=\"3\" style=\"fill:red;\"/><text class=\"lab\" transform=\"translate(0 12)\">0</text></g><g class=\"a18 node n14 p1\" transform=\"translate(10.3846 13.6824)\"><g class=\"a14 i1 leaf node n2 p0 sample\" transform=\"translate(-6.92308 8.7516)\"><path class=\"edge\" d=\"M 0 0 V -8.7516 H 6.92308\"/><circle class=\"sym\" cx=\"0\" cy=\"0\" r=\"3\" style=\"fill:red;\"/><text class=\"lab\" transform=\"translate(0 12)\">2</text></g><g class=\"a14 i4 leaf node n8 p1 sample\" transform=\"translate(6.92308 8.7516)\"><path class=\"edge\" d=\"M 0 0 V -8.7516 H -6.92308\"/><circle class=\"sym\" cx=\"0\" cy=\"0\" r=\"3\" style=\"fill:blue;\"/><text class=\"lab\" transform=\"translate(0 12)\">8</text></g><path class=\"edge\" d=\"M 0 0 V -13.6824 H -10.3846\"/><circle class=\"sym\" cx=\"0\" cy=\"0\" r=\"3\" style=\"fill:blue;\"/><text class=\"lab rgt\" transform=\"translate(3 -6)\">14</text></g><path class=\"edge\" d=\"M 0 0 V -27.2437 H 24.2308\"/><circle class=\"sym\" cx=\"0\" cy=\"0\" r=\"3\" style=\"fill:blue;\"/><text class=\"lab lft\" transform=\"translate(-3 -6)\">18</text></g><path class=\"edge\" d=\"M 0 0 V -27.2412 H 32.8846\"/><circle class=\"sym\" cx=\"0\" cy=\"0\" r=\"3\" style=\"fill:red;\"/><text class=\"lab lft\" transform=\"translate(-3 -6)\">20</text></g><path class=\"edge\" d=\"M 0 0 V -34.0529 H 28.5577\"/><circle class=\"sym\" cx=\"0\" cy=\"0\" r=\"3\" style=\"fill:red;\"/><text class=\"lab lft\" transform=\"translate(-3 -6)\">21</text></g><path class=\"edge\" d=\"M 0 0 V -29.0282 H 24.6635\"/><circle class=\"sym\" cx=\"0\" cy=\"0\" r=\"3\" style=\"fill:red;\"/><text class=\"lab lft\" transform=\"translate(-3 -6)\">22</text></g><circle class=\"sym\" cx=\"0\" cy=\"0\" r=\"3\" style=\"fill:red;\"/><text class=\"lab\" transform=\"translate(0 -10)\">23</text></g></g></svg>"
      ],
      "text/plain": [
       "<IPython.core.display.SVG object>"
      ]
     },
     "metadata": {
      "filenames": {
       "image/svg+xml": "/home/runner/work/tutorials/tutorials/_build/jupyter_execute/demography_29_0.svg"
      }
     },
     "output_type": "display_data"
    },
    {
     "data": {
      "image/svg+xml": [
       "<svg xmlns=\"http://www.w3.org/2000/svg\" xmlns:ev=\"http://www.w3.org/2001/xml-events\" xmlns:xlink=\"http://www.w3.org/1999/xlink\" baseProfile=\"full\" height=\"200\" version=\"1.1\" width=\"200\"><defs><style type=\"text/css\"><![CDATA[.axis {font-weight: bold}.tree, .axis {font-size: 14px; text-anchor:middle}.edge {stroke: black; fill: none}.node > .sym {fill: black; stroke: none}.tree text {dominant-baseline: middle}.tree .lab.lft {text-anchor: end}.tree .lab.rgt {text-anchor: start}.mut {fill: red; font-style: italic}]]></style></defs><g class=\"tree t1\"><g class=\"node n23 p0 root\" transform=\"translate(145.108 30.0)\"><g class=\"a23 node n19 p0\" transform=\"translate(24.1226 114.678)\"><g class=\"a19 i0 leaf node n1 p0 sample\" transform=\"translate(-6.92308 25.3221)\"><path class=\"edge\" d=\"M 0 0 V -25.3221 H 6.92308\"/><circle class=\"sym\" cx=\"0\" cy=\"0\" r=\"3\" style=\"fill:red;\"/><text class=\"lab\" transform=\"translate(0 12)\">1</text></g><g class=\"a19 i5 leaf node n11 p1 sample\" transform=\"translate(6.92308 25.3221)\"><path class=\"edge\" d=\"M 0 0 V -25.3221 H -6.92308\"/><circle class=\"sym\" cx=\"0\" cy=\"0\" r=\"3\" style=\"fill:blue;\"/><text class=\"lab\" transform=\"translate(0 12)\">11</text></g><path class=\"edge\" d=\"M 0 0 V -114.678 H -24.1226\"/><circle class=\"sym\" cx=\"0\" cy=\"0\" r=\"3\" style=\"fill:red;\"/><text class=\"lab rgt\" transform=\"translate(3 -6)\">19</text></g><g class=\"a23 node n22 p0\" transform=\"translate(-24.1226 29.0282)\"><g class=\"a22 i1 leaf node n3 p0 sample\" transform=\"translate(27.476 110.972)\"><path class=\"edge\" d=\"M 0 0 V -110.972 H -27.476\"/><circle class=\"sym\" cx=\"0\" cy=\"0\" r=\"3\" style=\"fill:red;\"/><text class=\"lab\" transform=\"translate(0 12)\">3</text></g><g class=\"a22 node n21 p0\" transform=\"translate(-27.476 34.0529)\"><g class=\"a21 node n13 p1\" transform=\"translate(30.7212 69.1531)\"><g class=\"a13 i3 leaf node n6 p1 sample\" transform=\"translate(10.3846 7.76584)\"><path class=\"edge\" d=\"M 0 0 V -7.76584 H -10.3846\"/><circle class=\"sym\" cx=\"0\" cy=\"0\" r=\"3\" style=\"fill:blue;\"/><text class=\"lab\" transform=\"translate(0 12)\">6</text></g><g class=\"a13 node n12 p1\" transform=\"translate(-10.3846 1.07799)\"><g class=\"a12 i2 leaf node n4 p0 sample\" transform=\"translate(-6.92308 6.68785)\"><path class=\"edge\" d=\"M 0 0 V -6.68785 H 6.92308\"/><circle class=\"sym\" cx=\"0\" cy=\"0\" r=\"3\" style=\"fill:red;\"/><text class=\"lab\" transform=\"translate(0 12)\">4</text></g><g class=\"a12 i5 leaf node n10 p1 sample\" transform=\"translate(6.92308 6.68785)\"><path class=\"edge\" d=\"M 0 0 V -6.68785 H -6.92308\"/><circle class=\"sym\" cx=\"0\" cy=\"0\" r=\"3\" style=\"fill:blue;\"/><text class=\"lab\" transform=\"translate(0 12)\">10</text></g><path class=\"edge\" d=\"M 0 0 V -1.07799 H 10.3846\"/><circle class=\"sym\" cx=\"0\" cy=\"0\" r=\"3\" style=\"fill:blue;\"/><text class=\"lab lft\" transform=\"translate(-3 -6)\">12</text></g><path class=\"edge\" d=\"M 0 0 V -69.1531 H -30.7212\"/><circle class=\"sym\" cx=\"0\" cy=\"0\" r=\"3\" style=\"fill:blue;\"/><text class=\"lab rgt\" transform=\"translate(3 -6)\">13</text></g><g class=\"a21 node n20 p0\" transform=\"translate(-30.7212 27.2412)\"><g class=\"a20 node n17 p1\" transform=\"translate(23.3654 30.7393)\"><g class=\"a17 i4 leaf node n9 p1 sample\" transform=\"translate(6.92308 18.9384)\"><path class=\"edge\" d=\"M 0 0 V -18.9384 H -6.92308\"/><circle class=\"sym\" cx=\"0\" cy=\"0\" r=\"3\" style=\"fill:blue;\"/><text class=\"lab\" transform=\"translate(0 12)\">9</text></g><g class=\"a17 i2 leaf node n5 p0 sample\" transform=\"translate(-6.92308 18.9384)\"><path class=\"edge\" d=\"M 0 0 V -18.9384 H 6.92308\"/><circle class=\"sym\" cx=\"0\" cy=\"0\" r=\"3\" style=\"fill:red;\"/><text class=\"lab\" transform=\"translate(0 12)\">5</text></g><path class=\"edge\" d=\"M 0 0 V -30.7393 H -23.3654\"/><circle class=\"sym\" cx=\"0\" cy=\"0\" r=\"3\" style=\"fill:blue;\"/><text class=\"lab rgt\" transform=\"translate(3 -6)\">17</text></g><g class=\"a20 node n18 p1\" transform=\"translate(-23.3654 27.2437)\"><g class=\"a18 i0 leaf node n0 p0 sample\" transform=\"translate(-15.5769 22.434)\"><path class=\"edge\" d=\"M 0 0 V -22.434 H 15.5769\"/><circle class=\"sym\" cx=\"0\" cy=\"0\" r=\"3\" style=\"fill:red;\"/><text class=\"lab\" transform=\"translate(0 12)\">0</text></g><g class=\"a18 node n15 p1\" transform=\"translate(15.5769 7.1289)\"><g class=\"a15 i3 leaf node n7 p1 sample\" transform=\"translate(10.3846 15.3051)\"><path class=\"edge\" d=\"M 0 0 V -15.3051 H -10.3846\"/><circle class=\"sym\" cx=\"0\" cy=\"0\" r=\"3\" style=\"fill:blue;\"/><text class=\"lab\" transform=\"translate(0 12)\">7</text></g><g class=\"a15 node n14 p1\" transform=\"translate(-10.3846 6.5535)\"><g class=\"a14 i1 leaf node n2 p0 sample\" transform=\"translate(-6.92308 8.7516)\"><path class=\"edge\" d=\"M 0 0 V -8.7516 H 6.92308\"/><circle class=\"sym\" cx=\"0\" cy=\"0\" r=\"3\" style=\"fill:red;\"/><text class=\"lab\" transform=\"translate(0 12)\">2</text></g><g class=\"a14 i4 leaf node n8 p1 sample\" transform=\"translate(6.92308 8.7516)\"><path class=\"edge\" d=\"M 0 0 V -8.7516 H -6.92308\"/><circle class=\"sym\" cx=\"0\" cy=\"0\" r=\"3\" style=\"fill:blue;\"/><text class=\"lab\" transform=\"translate(0 12)\">8</text></g><path class=\"edge\" d=\"M 0 0 V -6.5535 H 10.3846\"/><circle class=\"sym\" cx=\"0\" cy=\"0\" r=\"3\" style=\"fill:blue;\"/><text class=\"lab lft\" transform=\"translate(-3 -6)\">14</text></g><path class=\"edge\" d=\"M 0 0 V -7.1289 H -15.5769\"/><circle class=\"sym\" cx=\"0\" cy=\"0\" r=\"3\" style=\"fill:blue;\"/><text class=\"lab rgt\" transform=\"translate(3 -6)\">15</text></g><path class=\"edge\" d=\"M 0 0 V -27.2437 H 23.3654\"/><circle class=\"sym\" cx=\"0\" cy=\"0\" r=\"3\" style=\"fill:blue;\"/><text class=\"lab lft\" transform=\"translate(-3 -6)\">18</text></g><path class=\"edge\" d=\"M 0 0 V -27.2412 H 30.7212\"/><circle class=\"sym\" cx=\"0\" cy=\"0\" r=\"3\" style=\"fill:red;\"/><text class=\"lab lft\" transform=\"translate(-3 -6)\">20</text></g><path class=\"edge\" d=\"M 0 0 V -34.0529 H 27.476\"/><circle class=\"sym\" cx=\"0\" cy=\"0\" r=\"3\" style=\"fill:red;\"/><text class=\"lab lft\" transform=\"translate(-3 -6)\">21</text></g><path class=\"edge\" d=\"M 0 0 V -29.0282 H 24.1226\"/><circle class=\"sym\" cx=\"0\" cy=\"0\" r=\"3\" style=\"fill:red;\"/><text class=\"lab lft\" transform=\"translate(-3 -6)\">22</text></g><circle class=\"sym\" cx=\"0\" cy=\"0\" r=\"3\" style=\"fill:red;\"/><text class=\"lab\" transform=\"translate(0 -10)\">23</text></g></g></svg>"
      ],
      "text/plain": [
       "<IPython.core.display.SVG object>"
      ]
     },
     "metadata": {
      "filenames": {
       "image/svg+xml": "/home/runner/work/tutorials/tutorials/_build/jupyter_execute/demography_29_1.svg"
      }
     },
     "output_type": "display_data"
    }
   ],
   "source": [
    "[u.population for u in ts.nodes() if u.time > 200]\n",
    "\n",
    "# This only works in a Jupyter notebook.\n",
    "from IPython.display import SVG\n",
    "\n",
    "colour_map = {0:\"red\", 1:\"blue\"}\n",
    "node_colours = {u.id: colour_map[u.population] for u in ts.nodes()}\n",
    "for tree in ts.trees():\n",
    "    display(SVG(tree.draw(node_colours=node_colours)))"
   ]
  },
  {
   "cell_type": "markdown",
   "id": "otherwise-assignment",
   "metadata": {},
   "source": [
    "## Changing population sizes or growth rates\n",
    "\n",
    "![](_static/tute-parameter-changes.png)\n",
    "\n",
    "We may wish to specify changes to rates of population growth,\n",
    "or sudden changes in population size at a particular time.\n",
    "Both of these can be specified with {class}`msprime.PopulationParametersChange`\n",
    "objects in the supplied list of ``events``."
   ]
  },
  {
   "cell_type": "code",
   "execution_count": 16,
   "id": "adequate-diamond",
   "metadata": {},
   "outputs": [],
   "source": [
    "# Bottleneck in Population 0 between 50 - 150 generations ago.\n",
    "pop0_bottleneck_ends = msprime.PopulationParametersChange(\n",
    "    time = 50, initial_size = 250, population = 0)\n",
    "pop0_bottleneck_starts = msprime.PopulationParametersChange(\n",
    "    time = 150, initial_size = 500, population = 0)\n",
    "\n",
    "# Exponential growth in Population 1 starting 50 generations ago.\n",
    "pop1_growth = msprime.PopulationParametersChange(\n",
    "    time = 100, growth_rate = 0.01, population = 1)\n",
    "\n",
    "dem = msprime.Demography(populations=[pop0, pop1], migration_matrix=M, events=[pop0_bottleneck_ends, pop1_growth, pop0_bottleneck_starts])\n",
    "ts = msprime.sim_ancestry(samples=[samples0, samples1], demography=dem, sequence_length=1000, random_seed=63461, recombination_rate=1e-7)"
   ]
  },
  {
   "cell_type": "markdown",
   "id": "twenty-spiritual",
   "metadata": {},
   "source": [
    "Note that because ``msprime`` simulates backwards-in-time, parameter changes must be\n",
    "interpreted backwards-in-time as well.\n",
    "For instance, the ``pop1_growth`` event in the example above\n",
    "specifies continual growth in the early history of population 1 up until 100\n",
    "generations in the past.\n",
    "\n",
    "\n",
    "## Debugging demography\n",
    "\n",
    "As we've seen, it's pretty easy to make mistakes when specifying demography!\n",
    "\n",
    "To help you spot these, msprime provides a debugger that prints out your\n",
    "population history in a more human-readable form.\n",
    "It's good to get into the habit of running the {class}`msprime.DemographyDebugger`\n",
    "before running your simulations."
   ]
  },
  {
   "cell_type": "code",
   "execution_count": 17,
   "id": "double-olive",
   "metadata": {},
   "outputs": [
    {
     "name": "stdout",
     "output_type": "stream",
     "text": [
      "============================\n",
      "Epoch: 0 -- 50.0 generations\n",
      "============================\n",
      "     start     end      growth_rate |     0        1    \n",
      "   -------- --------       -------- | -------- -------- \n",
      "0 |   500      500                0 |     0      0.05   \n",
      "1 |   500      500                0 |   0.02       0    \n",
      "\n",
      "Events @ generation 50.0\n",
      "   - Population parameter change: population=0: initial_size → 250\n",
      "================================\n",
      "Epoch: 50.0 -- 100.0 generations\n",
      "================================\n",
      "     start     end      growth_rate |     0        1    \n",
      "   -------- --------       -------- | -------- -------- \n",
      "0 |   250      250                0 |     0      0.05   \n",
      "1 |   500      500                0 |   0.02       0    \n",
      "\n",
      "Events @ generation 100.0\n",
      "   - Population parameter change: population=1: growth_rate → 0.01\n",
      "=================================\n",
      "Epoch: 100.0 -- 150.0 generations\n",
      "=================================\n",
      "     start     end      growth_rate |     0        1    \n",
      "   -------- --------       -------- | -------- -------- \n",
      "0 |   250      250                0 |     0      0.05   \n",
      "1 |   500      303             0.01 |   0.02       0    \n",
      "\n",
      "Events @ generation 150.0\n",
      "   - Population parameter change: population=0: initial_size → 500\n",
      "===============================\n",
      "Epoch: 150.0 -- inf generations\n",
      "===============================\n",
      "     start     end      growth_rate |     0        1    \n",
      "   -------- --------       -------- | -------- -------- \n",
      "0 |   500      500                0 |     0      0.05   \n",
      "1 |   303       0              0.01 |   0.02       0    \n",
      "\n"
     ]
    }
   ],
   "source": [
    "my_history = msprime.DemographyDebugger(demography=dem)\n",
    "my_history.print_history()"
   ]
  }
 ],
 "metadata": {
  "jupytext": {
   "text_representation": {
    "extension": ".md",
    "format_name": "myst",
    "format_version": 0.12,
    "jupytext_version": "1.9.1"
   }
  },
  "kernelspec": {
   "display_name": "Python 3",
   "language": "python",
   "name": "python3"
  },
  "language_info": {
   "codemirror_mode": {
    "name": "ipython",
    "version": 3
   },
   "file_extension": ".py",
   "mimetype": "text/x-python",
   "name": "python",
   "nbconvert_exporter": "python",
   "pygments_lexer": "ipython3",
   "version": "3.8.7"
  },
  "source_map": [
   12,
   23,
   28,
   46,
   51,
   57,
   60,
   94,
   100,
   106,
   108,
   114,
   121,
   137,
   139,
   145,
   148,
   162,
   164,
   171,
   174,
   182,
   185,
   189,
   192,
   197,
   199,
   207,
   211,
   215,
   225,
   236,
   249,
   267
  ]
 },
 "nbformat": 4,
 "nbformat_minor": 5
}