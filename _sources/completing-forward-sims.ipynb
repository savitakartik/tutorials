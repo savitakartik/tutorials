{
 "cells": [
  {
   "cell_type": "markdown",
   "id": "second-toronto",
   "metadata": {},
   "source": [
    "# Completing forwards simulations\n",
    "\n",
    ":::{note}\n",
    "Link to other tutorial sections on forward sims\n",
    ":::\n",
    "\n",
    "The ``msprime`` simulator generates tree sequences using the backwards in\n",
    "time coalescent model. But it is also possible to output tree sequences\n",
    "from [forwards-time](https://doi.org/10.1371/journal.pcbi.1006581)\n",
    "simulators such as [SLiM](https://messerlab.org/slim)\n",
    "and [fwdpy11](https://fwdpy11.readthedocs.io/).\n",
    "There are many advantages to using forward-time simulators, but they\n",
    "are usually quite slow compared to similar coalescent simulations. In this\n",
    "section we show how to combine the best of both approaches by simulating\n",
    "the recent past using a forwards-time simulator and then complete the\n",
    "simulation of the ancient past using ``msprime``. (We sometimes refer to this\n",
    "\"recapitation\", as we can think of it as adding a \"head\" onto a tree sequence.)\n",
    "\n",
    "First, we define a simple Wright-Fisher simulator which returns a tree sequence\n",
    "with the properties that we require (please see the \n",
    "{ref}`msprime documentation <msprime:sec_ancestry_initial_state>`\n",
    "for a formal description of these properties):"
   ]
  },
  {
   "cell_type": "code",
   "execution_count": 1,
   "id": "every-accuracy",
   "metadata": {},
   "outputs": [],
   "source": [
    "import tskit\n",
    "import msprime\n",
    "import random\n",
    "import numpy as np\n",
    "from IPython.display import SVG\n",
    "\n",
    "\n",
    "def wright_fisher(N, T, L=100, random_seed=None):\n",
    "    \"\"\"\n",
    "    Simulate a Wright-Fisher population of N haploid individuals with L\n",
    "    discrete loci for T generations. Based on Algorithm W from\n",
    "    https://doi.org/10.1371/journal.pcbi.1006581\n",
    "    \"\"\"\n",
    "    random.seed(random_seed)\n",
    "    tables = tskit.TableCollection(L)\n",
    "    tables.populations.add_row()\n",
    "    P = np.arange(N, dtype=int)\n",
    "    for _ in range(N):\n",
    "        tables.nodes.add_row(time=T, flags=0, population=0)\n",
    "    t = T\n",
    "    while t > 0:\n",
    "        t -= 1\n",
    "        Pp = P.copy()\n",
    "        for j in range(N):\n",
    "            u = tables.nodes.add_row(time=t, flags=0, population=0)\n",
    "            Pp[j] = u\n",
    "            a = random.randint(0, N - 1)\n",
    "            b = random.randint(0, N - 1)\n",
    "            x = random.randint(1, L - 1)\n",
    "            tables.edges.add_row(0, x, P[a], u)\n",
    "            tables.edges.add_row(x, L, P[b], u)\n",
    "        P = Pp\n",
    "\n",
    "    # Now do some table manipulations to ensure that the tree sequence\n",
    "    # that we output has the form that msprime needs to finish the\n",
    "    # simulation. (Note: table columns are not modified in place because the\n",
    "    # tables API does not currently allow direct access to memory.)\n",
    "\n",
    "    # Mark the extant population as samples.\n",
    "    flags = tables.nodes.flags\n",
    "    flags[P] = tskit.NODE_IS_SAMPLE\n",
    "    tables.nodes.flags = flags\n",
    "    tables.sort()\n",
    "    # Simplify with respect to the current generation, but ensuring we keep the\n",
    "    # ancient nodes from the initial population.\n",
    "    tables.simplify(keep_input_roots=True)\n",
    "    return tables.tree_sequence()"
   ]
  },
  {
   "cell_type": "markdown",
   "id": "fossil-twenty",
   "metadata": {},
   "source": [
    "We then run a tiny forward simulation of 10 two-locus individuals\n",
    "for 5 generations, and print out the resulting trees:"
   ]
  },
  {
   "cell_type": "code",
   "execution_count": 2,
   "id": "indian-insured",
   "metadata": {},
   "outputs": [
    {
     "data": {
      "image/svg+xml": [
       "<svg xmlns=\"http://www.w3.org/2000/svg\" xmlns:ev=\"http://www.w3.org/2001/xml-events\" xmlns:xlink=\"http://www.w3.org/1999/xlink\" baseProfile=\"full\" height=\"200\" version=\"1.1\" width=\"400\"><defs><style type=\"text/css\"><![CDATA[.axis {font-weight: bold}.tree, .axis {font-size: 14px; text-anchor:middle}.edge {stroke: black; fill: none}.node > .sym {fill: black; stroke: none}.tree text {dominant-baseline: middle}.tree .lab.lft {text-anchor: end}.tree .lab.rgt {text-anchor: start}.mut {fill: red; font-style: italic}]]></style></defs><g class=\"tree-sequence\"><g class=\"background\"><polygon fill=\"#F1F1F1\" points=\"20,185 20,180 20,160 20,0 200.0,0 200.0,160 200.0,180 200.0,185\"/></g><g class=\"trees\"><g class=\"treebox t0\" transform=\"translate(20 30)\"><g class=\"tree t0\"><g class=\"node n17 p0 root\" transform=\"translate(62.7273 30.0)\"><g class=\"a17 node n15 p0\" transform=\"translate(0.0 32.0)\"><g class=\"a15 node n13 p0\" transform=\"translate(-27.2727 16.0)\"><g class=\"a13 leaf node n0 p0 sample\" transform=\"translate(-10.9091 32.0)\"><path class=\"edge\" d=\"M 0 0 V -32.0 H 10.9091\"/><circle class=\"sym\" cx=\"0\" cy=\"0\" r=\"3\"/><text class=\"lab\" transform=\"translate(0 12)\">0</text></g><g class=\"a13 node n11 p0\" transform=\"translate(10.9091 16.0)\"><g class=\"a11 leaf node n4 p0 sample\" transform=\"translate(-7.27273 16.0)\"><path class=\"edge\" d=\"M 0 0 V -16.0 H 7.27273\"/><circle class=\"sym\" cx=\"0\" cy=\"0\" r=\"3\"/><text class=\"lab\" transform=\"translate(0 12)\">4</text></g><g class=\"a11 leaf node n9 p0 sample\" transform=\"translate(7.27273 16.0)\"><path class=\"edge\" d=\"M 0 0 V -16.0 H -7.27273\"/><circle class=\"sym\" cx=\"0\" cy=\"0\" r=\"3\"/><text class=\"lab\" transform=\"translate(0 12)\">9</text></g><path class=\"edge\" d=\"M 0 0 V -16.0 H -10.9091\"/><circle class=\"sym\" cx=\"0\" cy=\"0\" r=\"3\"/><text class=\"lab rgt\" transform=\"translate(3 -6)\">11</text></g><path class=\"edge\" d=\"M 0 0 V -16.0 H 27.2727\"/><circle class=\"sym\" cx=\"0\" cy=\"0\" r=\"3\"/><text class=\"lab lft\" transform=\"translate(-3 -6)\">13</text></g><g class=\"a15 node n14 p0\" transform=\"translate(27.2727 16.0)\"><g class=\"a14 leaf node n1 p0 sample\" transform=\"translate(-21.8182 32.0)\"><path class=\"edge\" d=\"M 0 0 V -32.0 H 21.8182\"/><circle class=\"sym\" cx=\"0\" cy=\"0\" r=\"3\"/><text class=\"lab\" transform=\"translate(0 12)\">1</text></g><g class=\"a14 leaf node n8 p0 sample\" transform=\"translate(21.8182 32.0)\"><path class=\"edge\" d=\"M 0 0 V -32.0 H -21.8182\"/><circle class=\"sym\" cx=\"0\" cy=\"0\" r=\"3\"/><text class=\"lab\" transform=\"translate(0 12)\">8</text></g><g class=\"a14 node n12 p0\" transform=\"translate(0.0 16.0)\"><g class=\"a12 leaf node n5 p0 sample\" transform=\"translate(-7.27273 16.0)\"><path class=\"edge\" d=\"M 0 0 V -16.0 H 7.27273\"/><circle class=\"sym\" cx=\"0\" cy=\"0\" r=\"3\"/><text class=\"lab\" transform=\"translate(0 12)\">5</text></g><g class=\"a12 leaf node n7 p0 sample\" transform=\"translate(7.27273 16.0)\"><path class=\"edge\" d=\"M 0 0 V -16.0 H -7.27273\"/><circle class=\"sym\" cx=\"0\" cy=\"0\" r=\"3\"/><text class=\"lab\" transform=\"translate(0 12)\">7</text></g><path class=\"edge\" d=\"M 0 0 V -16.0 H 0.0\"/><circle class=\"sym\" cx=\"0\" cy=\"0\" r=\"3\"/><text class=\"lab rgt\" transform=\"translate(3 -6)\">12</text></g><path class=\"edge\" d=\"M 0 0 V -16.0 H -27.2727\"/><circle class=\"sym\" cx=\"0\" cy=\"0\" r=\"3\"/><text class=\"lab rgt\" transform=\"translate(3 -6)\">14</text></g><path class=\"edge\" d=\"M 0 0 V -32.0 H 0.0\"/><circle class=\"sym\" cx=\"0\" cy=\"0\" r=\"3\"/><text class=\"lab lft\" transform=\"translate(-3 -6)\">15</text></g><circle class=\"sym\" cx=\"0\" cy=\"0\" r=\"3\"/><text class=\"lab\" transform=\"translate(0 -10)\">17</text></g><g class=\"node n18 p0 root\" transform=\"translate(140.909 30.0)\"><g class=\"a18 node n10 p0\" transform=\"translate(0.0 64.0)\"><g class=\"a10 leaf node n2 p0 sample\" transform=\"translate(-14.5455 16.0)\"><path class=\"edge\" d=\"M 0 0 V -16.0 H 14.5455\"/><circle class=\"sym\" cx=\"0\" cy=\"0\" r=\"3\"/><text class=\"lab\" transform=\"translate(0 12)\">2</text></g><g class=\"a10 leaf node n3 p0 sample\" transform=\"translate(0.0 16.0)\"><path class=\"edge\" d=\"M 0 0 V -16.0 H 0.0\"/><circle class=\"sym\" cx=\"0\" cy=\"0\" r=\"3\"/><text class=\"lab\" transform=\"translate(0 12)\">3</text></g><g class=\"a10 leaf node n6 p0 sample\" transform=\"translate(14.5455 16.0)\"><path class=\"edge\" d=\"M 0 0 V -16.0 H -14.5455\"/><circle class=\"sym\" cx=\"0\" cy=\"0\" r=\"3\"/><text class=\"lab\" transform=\"translate(0 12)\">6</text></g><path class=\"edge\" d=\"M 0 0 V -64.0 H 0.0\"/><circle class=\"sym\" cx=\"0\" cy=\"0\" r=\"3\"/><text class=\"lab lft\" transform=\"translate(-3 -6)\">10</text></g><circle class=\"sym\" cx=\"0\" cy=\"0\" r=\"3\"/><text class=\"lab\" transform=\"translate(0 -10)\">18</text></g></g></g><g class=\"treebox t1\" transform=\"translate(200.0 30)\"><g class=\"tree t1\"><g class=\"node n17 p0 root\" transform=\"translate(60.9091 30.0)\"><g class=\"a17 node n11 p0\" transform=\"translate(0.0 64.0)\"><g class=\"a11 leaf node n4 p0 sample\" transform=\"translate(-7.27273 16.0)\"><path class=\"edge\" d=\"M 0 0 V -16.0 H 7.27273\"/><circle class=\"sym\" cx=\"0\" cy=\"0\" r=\"3\"/><text class=\"lab\" transform=\"translate(0 12)\">4</text></g><g class=\"a11 leaf node n9 p0 sample\" transform=\"translate(36.3636 16.0)\"><path class=\"edge\" d=\"M 0 0 V -16.0 H -36.3636\"/><circle class=\"sym\" cx=\"0\" cy=\"0\" r=\"3\"/><text class=\"lab\" transform=\"translate(0 12)\">9</text></g><g class=\"a11 leaf node n0 p0 sample\" transform=\"translate(-36.3636 16.0)\"><path class=\"edge\" d=\"M 0 0 V -16.0 H 36.3636\"/><circle class=\"sym\" cx=\"0\" cy=\"0\" r=\"3\"/><text class=\"lab\" transform=\"translate(0 12)\">0</text></g><g class=\"a11 leaf node n3 p0 sample\" transform=\"translate(-21.8182 16.0)\"><path class=\"edge\" d=\"M 0 0 V -16.0 H 21.8182\"/><circle class=\"sym\" cx=\"0\" cy=\"0\" r=\"3\"/><text class=\"lab\" transform=\"translate(0 12)\">3</text></g><g class=\"a11 leaf node n6 p0 sample\" transform=\"translate(7.27273 16.0)\"><path class=\"edge\" d=\"M 0 0 V -16.0 H -7.27273\"/><circle class=\"sym\" cx=\"0\" cy=\"0\" r=\"3\"/><text class=\"lab\" transform=\"translate(0 12)\">6</text></g><g class=\"a11 leaf node n8 p0 sample\" transform=\"translate(21.8182 16.0)\"><path class=\"edge\" d=\"M 0 0 V -16.0 H -21.8182\"/><circle class=\"sym\" cx=\"0\" cy=\"0\" r=\"3\"/><text class=\"lab\" transform=\"translate(0 12)\">8</text></g><path class=\"edge\" d=\"M 0 0 V -64.0 H 0.0\"/><circle class=\"sym\" cx=\"0\" cy=\"0\" r=\"3\"/><text class=\"lab lft\" transform=\"translate(-3 -6)\">11</text></g><circle class=\"sym\" cx=\"0\" cy=\"0\" r=\"3\"/><text class=\"lab\" transform=\"translate(0 -10)\">17</text></g><g class=\"node n19 p0 root\" transform=\"translate(111.818 30.0)\"><g class=\"a19 leaf node n1 p0 sample\" transform=\"translate(0.0 80.0)\"><path class=\"edge\" d=\"M 0 0 V -80.0 H 0.0\"/><circle class=\"sym\" cx=\"0\" cy=\"0\" r=\"3\"/><text class=\"lab\" transform=\"translate(0 12)\">1</text></g><circle class=\"sym\" cx=\"0\" cy=\"0\" r=\"3\"/><text class=\"lab\" transform=\"translate(0 -10)\">19</text></g><g class=\"node n16 p0 root\" transform=\"translate(133.636 30.0)\"><g class=\"a16 leaf node n5 p0 sample\" transform=\"translate(-7.27273 80.0)\"><path class=\"edge\" d=\"M 0 0 V -80.0 H 7.27273\"/><circle class=\"sym\" cx=\"0\" cy=\"0\" r=\"3\"/><text class=\"lab\" transform=\"translate(0 12)\">5</text></g><g class=\"a16 leaf node n7 p0 sample\" transform=\"translate(7.27273 80.0)\"><path class=\"edge\" d=\"M 0 0 V -80.0 H -7.27273\"/><circle class=\"sym\" cx=\"0\" cy=\"0\" r=\"3\"/><text class=\"lab\" transform=\"translate(0 12)\">7</text></g><circle class=\"sym\" cx=\"0\" cy=\"0\" r=\"3\"/><text class=\"lab\" transform=\"translate(0 -10)\">16</text></g><g class=\"node n18 p0 root\" transform=\"translate(155.455 30.0)\"><g class=\"a18 leaf node n2 p0 sample\" transform=\"translate(0.0 80.0)\"><path class=\"edge\" d=\"M 0 0 V -80.0 H 0.0\"/><circle class=\"sym\" cx=\"0\" cy=\"0\" r=\"3\"/><text class=\"lab\" transform=\"translate(0 12)\">2</text></g><circle class=\"sym\" cx=\"0\" cy=\"0\" r=\"3\"/><text class=\"lab\" transform=\"translate(0 -10)\">18</text></g></g></g></g><g class=\"axis\"><line stroke=\"black\" x1=\"20\" x2=\"380\" y1=\"180\" y2=\"180\"/><line stroke=\"black\" x1=\"20\" x2=\"20\" y1=\"180\" y2=\"185\"/><g transform=\"translate(20, 200)\"><text font-size=\"14\" font-weight=\"bold\" text-anchor=\"middle\">0</text></g><line stroke=\"black\" x1=\"200.0\" x2=\"200.0\" y1=\"180\" y2=\"185\"/><g transform=\"translate(200.0, 200)\"><text font-size=\"14\" font-weight=\"bold\" text-anchor=\"middle\">1</text></g><line stroke=\"black\" x1=\"380.0\" x2=\"380.0\" y1=\"180\" y2=\"185\"/><g transform=\"translate(380.0, 200)\"><text font-size=\"14\" font-weight=\"bold\" text-anchor=\"middle\">2</text></g></g></g></svg>"
      ],
      "text/plain": [
       "<IPython.core.display.SVG object>"
      ]
     },
     "execution_count": 2,
     "metadata": {
      "filenames": {
       "image/svg+xml": "/home/runner/work/tutorials/tutorials/_build/jupyter_execute/completing-forward-sims_3_0.svg"
      }
     },
     "output_type": "execute_result"
    }
   ],
   "source": [
    "num_loci = 2\n",
    "N = 10\n",
    "wf_ts = wright_fisher(N, 5, L=num_loci, random_seed=3)\n",
    "SVG(wf_ts.draw_svg())"
   ]
  },
  {
   "cell_type": "markdown",
   "id": "aging-corner",
   "metadata": {},
   "source": [
    "Because our Wright Fisher simulation ran for only 5 generations, there has not\n",
    "been enough time for the trees to fully coalesce. Therefore, instead of having\n",
    "one root, the trees have several --- the first tree has 2 and the second 4.\n",
    "Nodes 16, 17, 18, and 19 in this simulation represent the members of the\n",
    "initial population of the simulation that have genetic descendants at the end\n",
    "of the simulation. These unary branches joining samples and coalesced subtrees\n",
    "to the nodes in the initial generation are essential as they allow use to\n",
    "correctly assemble the various fragments of ancestral material into chromosomes\n",
    "when creating the initial conditions for the coalescent simulation.\n",
    "(Please see the \n",
    "{ref}`msprime documentation <msprime:sec_ancestry_initial_state>`\n",
    "for for more details on the\n",
    "required properties of input tree sequences.)\n",
    "\n",
    "The process of completing this tree sequence using a coalescent simulation\n",
    "begins by first examining the root segments on the input trees. We get the\n",
    "following segments:\n",
    "\n",
    "```\n",
    "    [(0, 2, 17), (0, 2, 18), (1, 2, 19), (1, 2, 16)]\n",
    "```\n",
    "\n",
    "where each segment is a ``(left, right, node)`` tuple. As nodes 17 and 18 are\n",
    "present in both trees, they have segments spanning both loci. Nodes 16 and 19 are\n",
    "present only in the second tree, and so they have ancestral segments only for\n",
    "the second locus. Note that this means that we do *not* simulate the ancestry\n",
    "of the entire initial generation of the simulation, but rather the exact\n",
    "minimum that we need in order to complete the ancestry of the current\n",
    "generation. For instance, root ``19`` has not coalesced over the interval from\n",
    "``1.0`` to ``2.0``, while root ``17`` has not coalesced over the entire segment\n",
    "from ``0.0`` to ``2.0``.\n",
    "\n",
    "We run the coalescent simulation to complete this tree sequence using the\n",
    "``initial_state`` argument to {func}`msprime.sim_ancestry`. Because we have simulated a\n",
    "two locus system with a recombination rate of ``1 / num_loci`` per generation\n",
    "in the Wright-Fisher model, we want to use the same system in the coalescent simulation.\n",
    "Note that we set the ``ploidy`` argument to 1 here because our forward time simulation\n",
    "is haploid and msprime uses a diploid time scale by default."
   ]
  },
  {
   "cell_type": "code",
   "execution_count": 3,
   "id": "voluntary-christopher",
   "metadata": {},
   "outputs": [
    {
     "data": {
      "image/svg+xml": [
       "<svg xmlns=\"http://www.w3.org/2000/svg\" xmlns:ev=\"http://www.w3.org/2001/xml-events\" xmlns:xlink=\"http://www.w3.org/1999/xlink\" baseProfile=\"full\" height=\"200\" version=\"1.1\" width=\"400\"><defs><style type=\"text/css\"><![CDATA[.axis {font-weight: bold}.tree, .axis {font-size: 14px; text-anchor:middle}.edge {stroke: black; fill: none}.node > .sym {fill: black; stroke: none}.tree text {dominant-baseline: middle}.tree .lab.lft {text-anchor: end}.tree .lab.rgt {text-anchor: start}.mut {fill: red; font-style: italic}]]></style></defs><g class=\"tree-sequence\"><g class=\"background\"><polygon fill=\"#F1F1F1\" points=\"20,185 20,180 20,160 20,0 200.0,0 200.0,160 200.0,180 200.0,185\"/></g><g class=\"trees\"><g class=\"treebox t0\" transform=\"translate(20 30)\"><g class=\"tree t0\"><g class=\"node n22 p0 root\" transform=\"translate(101.818 70.9967)\"><g class=\"a22 node n17 p0\" transform=\"translate(-39.0909 20.6309)\"><g class=\"a17 node n15 p0\" transform=\"translate(0.0 7.34899)\"><g class=\"a15 node n13 p0\" transform=\"translate(-27.2727 3.67449)\"><g class=\"a13 leaf node n0 p0 sample\" transform=\"translate(-10.9091 7.34899)\"><path class=\"edge\" d=\"M 0 0 V -7.34899 H 10.9091\"/><circle class=\"sym\" cx=\"0\" cy=\"0\" r=\"3\"/><text class=\"lab\" transform=\"translate(0 12)\">0</text></g><g class=\"a13 node n11 p0\" transform=\"translate(10.9091 3.67449)\"><g class=\"a11 leaf node n4 p0 sample\" transform=\"translate(-7.27273 3.67449)\"><path class=\"edge\" d=\"M 0 0 V -3.67449 H 7.27273\"/><circle class=\"sym\" cx=\"0\" cy=\"0\" r=\"3\"/><text class=\"lab\" transform=\"translate(0 12)\">4</text></g><g class=\"a11 leaf node n9 p0 sample\" transform=\"translate(7.27273 3.67449)\"><path class=\"edge\" d=\"M 0 0 V -3.67449 H -7.27273\"/><circle class=\"sym\" cx=\"0\" cy=\"0\" r=\"3\"/><text class=\"lab\" transform=\"translate(0 12)\">9</text></g><path class=\"edge\" d=\"M 0 0 V -3.67449 H -10.9091\"/><circle class=\"sym\" cx=\"0\" cy=\"0\" r=\"3\"/><text class=\"lab rgt\" transform=\"translate(3 -6)\">11</text></g><path class=\"edge\" d=\"M 0 0 V -3.67449 H 27.2727\"/><circle class=\"sym\" cx=\"0\" cy=\"0\" r=\"3\"/><text class=\"lab lft\" transform=\"translate(-3 -6)\">13</text></g><g class=\"a15 node n14 p0\" transform=\"translate(27.2727 3.67449)\"><g class=\"a14 leaf node n1 p0 sample\" transform=\"translate(-21.8182 7.34899)\"><path class=\"edge\" d=\"M 0 0 V -7.34899 H 21.8182\"/><circle class=\"sym\" cx=\"0\" cy=\"0\" r=\"3\"/><text class=\"lab\" transform=\"translate(0 12)\">1</text></g><g class=\"a14 leaf node n8 p0 sample\" transform=\"translate(21.8182 7.34899)\"><path class=\"edge\" d=\"M 0 0 V -7.34899 H -21.8182\"/><circle class=\"sym\" cx=\"0\" cy=\"0\" r=\"3\"/><text class=\"lab\" transform=\"translate(0 12)\">8</text></g><g class=\"a14 node n12 p0\" transform=\"translate(0.0 3.67449)\"><g class=\"a12 leaf node n5 p0 sample\" transform=\"translate(-7.27273 3.67449)\"><path class=\"edge\" d=\"M 0 0 V -3.67449 H 7.27273\"/><circle class=\"sym\" cx=\"0\" cy=\"0\" r=\"3\"/><text class=\"lab\" transform=\"translate(0 12)\">5</text></g><g class=\"a12 leaf node n7 p0 sample\" transform=\"translate(7.27273 3.67449)\"><path class=\"edge\" d=\"M 0 0 V -3.67449 H -7.27273\"/><circle class=\"sym\" cx=\"0\" cy=\"0\" r=\"3\"/><text class=\"lab\" transform=\"translate(0 12)\">7</text></g><path class=\"edge\" d=\"M 0 0 V -3.67449 H 0.0\"/><circle class=\"sym\" cx=\"0\" cy=\"0\" r=\"3\"/><text class=\"lab rgt\" transform=\"translate(3 -6)\">12</text></g><path class=\"edge\" d=\"M 0 0 V -3.67449 H -27.2727\"/><circle class=\"sym\" cx=\"0\" cy=\"0\" r=\"3\"/><text class=\"lab rgt\" transform=\"translate(3 -6)\">14</text></g><path class=\"edge\" d=\"M 0 0 V -7.34899 H 0.0\"/><circle class=\"sym\" cx=\"0\" cy=\"0\" r=\"3\"/><text class=\"lab lft\" transform=\"translate(-3 -6)\">15</text></g><path class=\"edge\" d=\"M 0 0 V -20.6309 H 39.0909\"/><circle class=\"sym\" cx=\"0\" cy=\"0\" r=\"3\"/><text class=\"lab lft\" transform=\"translate(-3 -6)\">17</text></g><g class=\"a22 node n18 p0\" transform=\"translate(39.0909 20.6309)\"><g class=\"a18 node n10 p0\" transform=\"translate(0.0 14.698)\"><g class=\"a10 leaf node n2 p0 sample\" transform=\"translate(-14.5455 3.67449)\"><path class=\"edge\" d=\"M 0 0 V -3.67449 H 14.5455\"/><circle class=\"sym\" cx=\"0\" cy=\"0\" r=\"3\"/><text class=\"lab\" transform=\"translate(0 12)\">2</text></g><g class=\"a10 leaf node n3 p0 sample\" transform=\"translate(0.0 3.67449)\"><path class=\"edge\" d=\"M 0 0 V -3.67449 H 0.0\"/><circle class=\"sym\" cx=\"0\" cy=\"0\" r=\"3\"/><text class=\"lab\" transform=\"translate(0 12)\">3</text></g><g class=\"a10 leaf node n6 p0 sample\" transform=\"translate(14.5455 3.67449)\"><path class=\"edge\" d=\"M 0 0 V -3.67449 H -14.5455\"/><circle class=\"sym\" cx=\"0\" cy=\"0\" r=\"3\"/><text class=\"lab\" transform=\"translate(0 12)\">6</text></g><path class=\"edge\" d=\"M 0 0 V -14.698 H 0.0\"/><circle class=\"sym\" cx=\"0\" cy=\"0\" r=\"3\"/><text class=\"lab lft\" transform=\"translate(-3 -6)\">10</text></g><path class=\"edge\" d=\"M 0 0 V -20.6309 H -39.0909\"/><circle class=\"sym\" cx=\"0\" cy=\"0\" r=\"3\"/><text class=\"lab rgt\" transform=\"translate(3 -6)\">18</text></g><circle class=\"sym\" cx=\"0\" cy=\"0\" r=\"3\"/><text class=\"lab\" transform=\"translate(0 -10)\">22</text></g></g></g><g class=\"treebox t1\" transform=\"translate(200.0 30)\"><g class=\"tree t1\"><g class=\"node n23 p0 root\" transform=\"translate(92.7273 30.0)\"><g class=\"a23 node n17 p0\" transform=\"translate(-31.8182 61.6275)\"><g class=\"a17 node n11 p0\" transform=\"translate(0.0 14.698)\"><g class=\"a11 leaf node n4 p0 sample\" transform=\"translate(-7.27273 3.67449)\"><path class=\"edge\" d=\"M 0 0 V -3.67449 H 7.27273\"/><circle class=\"sym\" cx=\"0\" cy=\"0\" r=\"3\"/><text class=\"lab\" transform=\"translate(0 12)\">4</text></g><g class=\"a11 leaf node n9 p0 sample\" transform=\"translate(36.3636 3.67449)\"><path class=\"edge\" d=\"M 0 0 V -3.67449 H -36.3636\"/><circle class=\"sym\" cx=\"0\" cy=\"0\" r=\"3\"/><text class=\"lab\" transform=\"translate(0 12)\">9</text></g><g class=\"a11 leaf node n0 p0 sample\" transform=\"translate(-36.3636 3.67449)\"><path class=\"edge\" d=\"M 0 0 V -3.67449 H 36.3636\"/><circle class=\"sym\" cx=\"0\" cy=\"0\" r=\"3\"/><text class=\"lab\" transform=\"translate(0 12)\">0</text></g><g class=\"a11 leaf node n3 p0 sample\" transform=\"translate(-21.8182 3.67449)\"><path class=\"edge\" d=\"M 0 0 V -3.67449 H 21.8182\"/><circle class=\"sym\" cx=\"0\" cy=\"0\" r=\"3\"/><text class=\"lab\" transform=\"translate(0 12)\">3</text></g><g class=\"a11 leaf node n6 p0 sample\" transform=\"translate(7.27273 3.67449)\"><path class=\"edge\" d=\"M 0 0 V -3.67449 H -7.27273\"/><circle class=\"sym\" cx=\"0\" cy=\"0\" r=\"3\"/><text class=\"lab\" transform=\"translate(0 12)\">6</text></g><g class=\"a11 leaf node n8 p0 sample\" transform=\"translate(21.8182 3.67449)\"><path class=\"edge\" d=\"M 0 0 V -3.67449 H -21.8182\"/><circle class=\"sym\" cx=\"0\" cy=\"0\" r=\"3\"/><text class=\"lab\" transform=\"translate(0 12)\">8</text></g><path class=\"edge\" d=\"M 0 0 V -14.698 H 0.0\"/><circle class=\"sym\" cx=\"0\" cy=\"0\" r=\"3\"/><text class=\"lab lft\" transform=\"translate(-3 -6)\">11</text></g><path class=\"edge\" d=\"M 0 0 V -61.6275 H 31.8182\"/><circle class=\"sym\" cx=\"0\" cy=\"0\" r=\"3\"/><text class=\"lab lft\" transform=\"translate(-3 -6)\">17</text></g><g class=\"a23 node n21 p0\" transform=\"translate(31.8182 51.4479)\"><g class=\"a21 node n19 p0\" transform=\"translate(-12.7273 10.1796)\"><g class=\"a19 leaf node n1 p0 sample\" transform=\"translate(0.0 18.3725)\"><path class=\"edge\" d=\"M 0 0 V -18.3725 H 0.0\"/><circle class=\"sym\" cx=\"0\" cy=\"0\" r=\"3\"/><text class=\"lab\" transform=\"translate(0 12)\">1</text></g><path class=\"edge\" d=\"M 0 0 V -10.1796 H 12.7273\"/><circle class=\"sym\" cx=\"0\" cy=\"0\" r=\"3\"/><text class=\"lab lft\" transform=\"translate(-3 -6)\">19</text></g><g class=\"a21 node n20 p0\" transform=\"translate(12.7273 7.76781)\"><g class=\"a20 node n16 p0\" transform=\"translate(10.9091 2.41179)\"><g class=\"a16 leaf node n5 p0 sample\" transform=\"translate(-7.27273 18.3725)\"><path class=\"edge\" d=\"M 0 0 V -18.3725 H 7.27273\"/><circle class=\"sym\" cx=\"0\" cy=\"0\" r=\"3\"/><text class=\"lab\" transform=\"translate(0 12)\">5</text></g><g class=\"a16 leaf node n7 p0 sample\" transform=\"translate(7.27273 18.3725)\"><path class=\"edge\" d=\"M 0 0 V -18.3725 H -7.27273\"/><circle class=\"sym\" cx=\"0\" cy=\"0\" r=\"3\"/><text class=\"lab\" transform=\"translate(0 12)\">7</text></g><path class=\"edge\" d=\"M 0 0 V -2.41179 H -10.9091\"/><circle class=\"sym\" cx=\"0\" cy=\"0\" r=\"3\"/><text class=\"lab rgt\" transform=\"translate(3 -6)\">16</text></g><g class=\"a20 node n18 p0\" transform=\"translate(-10.9091 2.41179)\"><g class=\"a18 leaf node n2 p0 sample\" transform=\"translate(0.0 18.3725)\"><path class=\"edge\" d=\"M 0 0 V -18.3725 H 0.0\"/><circle class=\"sym\" cx=\"0\" cy=\"0\" r=\"3\"/><text class=\"lab\" transform=\"translate(0 12)\">2</text></g><path class=\"edge\" d=\"M 0 0 V -2.41179 H 10.9091\"/><circle class=\"sym\" cx=\"0\" cy=\"0\" r=\"3\"/><text class=\"lab lft\" transform=\"translate(-3 -6)\">18</text></g><path class=\"edge\" d=\"M 0 0 V -7.76781 H -12.7273\"/><circle class=\"sym\" cx=\"0\" cy=\"0\" r=\"3\"/><text class=\"lab rgt\" transform=\"translate(3 -6)\">20</text></g><path class=\"edge\" d=\"M 0 0 V -51.4479 H -31.8182\"/><circle class=\"sym\" cx=\"0\" cy=\"0\" r=\"3\"/><text class=\"lab rgt\" transform=\"translate(3 -6)\">21</text></g><circle class=\"sym\" cx=\"0\" cy=\"0\" r=\"3\"/><text class=\"lab\" transform=\"translate(0 -10)\">23</text></g></g></g></g><g class=\"axis\"><line stroke=\"black\" x1=\"20\" x2=\"380\" y1=\"180\" y2=\"180\"/><line stroke=\"black\" x1=\"20\" x2=\"20\" y1=\"180\" y2=\"185\"/><g transform=\"translate(20, 200)\"><text font-size=\"14\" font-weight=\"bold\" text-anchor=\"middle\">0</text></g><line stroke=\"black\" x1=\"200.0\" x2=\"200.0\" y1=\"180\" y2=\"185\"/><g transform=\"translate(200.0, 200)\"><text font-size=\"14\" font-weight=\"bold\" text-anchor=\"middle\">1</text></g><line stroke=\"black\" x1=\"380.0\" x2=\"380.0\" y1=\"180\" y2=\"185\"/><g transform=\"translate(380.0, 200)\"><text font-size=\"14\" font-weight=\"bold\" text-anchor=\"middle\">2</text></g></g></g></svg>"
      ],
      "text/plain": [
       "<IPython.core.display.SVG object>"
      ]
     },
     "execution_count": 3,
     "metadata": {
      "filenames": {
       "image/svg+xml": "/home/runner/work/tutorials/tutorials/_build/jupyter_execute/completing-forward-sims_5_0.svg"
      }
     },
     "output_type": "execute_result"
    }
   ],
   "source": [
    "coalesced_ts = msprime.sim_ancestry(\n",
    "    population_size=N, \n",
    "    initial_state=wf_ts, \n",
    "    recombination_rate=1 / num_loci, \n",
    "    ploidy=1,\n",
    "    random_seed=7)\n",
    "SVG(coalesced_ts.draw_svg())"
   ]
  },
  {
   "cell_type": "markdown",
   "id": "extraordinary-interview",
   "metadata": {},
   "source": [
    "The trees have fully coalesced and we've successfully combined a forwards-time\n",
    "Wright-Fisher simulation with a coalescent simulation: hooray!\n",
    "\n",
    "\n",
    "## Why keep input roots (i.e., the initial generation)?\n",
    "\n",
    "We can now see why it is essential that we take care to preserve the roots of all\n",
    "trees when we simplified the tree sequence (by passing ``keep_input_roots=True``),\n",
    "so that the initial generation can be properly used as the\n",
    "``initial_state`` argument to {func}`msprime.sim_ancestry`. In the example above, if node\n",
    "``18`` was not in the tree sequence, we would not know that the segment that\n",
    "node ``10`` inherits from on ``[0.0, 1.0)`` and the segment that node ``2``\n",
    "inherits from on ``[1.0, 2.0)`` both exist in the same node.\n",
    "\n",
    "Note that although the portions of intial generation (above, nodes ``16``, ``17``,\n",
    "``18``, and ``19``) must be in the tree sequence, they do *not* have to be\n",
    "samples, and their entire genomes need not be represented (e.g., node ``19`` is\n",
    "only present on ``[1.0, 2.0)``). This allows {func}`msprime.sim_ancestry` to not simulate\n",
    "the entire history of the first generation, but only what is necessary to complete\n",
    "any uncoalesced trees. Happily, this is easily done with the ``keep_input_roots`` argument\n",
    "to {meth}`~tskit.TableCollection.simplify`. Note that this argument would need\n",
    "to be provided to the periodic {meth}`~tskit.TableCollection.simplify` steps\n",
    "which are essential in practical simulation, but that we skipped in the toy simulator above.\n",
    "\n",
    "In fact, this is precisely how tree sequence recording in [SLiM](https://messerlab.org/slim),\n",
    "works, and {meth}`pyslim.SlimTreeSequence.recapitate` provides a front-end to\n",
    "the method presented here.\n",
    "\n",
    "\n",
    "## Topology gotchas\n",
    "\n",
    "The trees that we output from this combined forwards and backwards simulation\n",
    "process have some slightly odd properties that are important to be aware of.\n",
    "In the example above, we can see that the old roots are still present in both trees,\n",
    "even through they have only one child and are clearly redundant.\n",
    "This is because the tables of ``initial_state`` have been retained, without modification,\n",
    "at the top of the tables of the output tree sequence. While this\n",
    "redundancy is not important for many tasks, there are some cases where\n",
    "they may cause problems:\n",
    "\n",
    "1. When computing statistics on the number of nodes, edges or trees in a tree\n",
    "   sequence, having these unary edges and redundant nodes will slightly\n",
    "   inflate the values.\n",
    "2. If you are computing the overall tree \"height\" by taking the time of the\n",
    "   root node, you may overestimate the height because there is a unary edge\n",
    "   above the \"real\" root (this would happen if one of the trees had already\n",
    "   coalesced in the forwards-time simulation).\n",
    "\n",
    "For these reasons it may be better to remove this redundancy from your\n",
    "computed tree sequence which is easily done using the\n",
    "{meth}`simplify <tskit.TreeSequence.simplify>` method:"
   ]
  },
  {
   "cell_type": "code",
   "execution_count": 4,
   "id": "departmental-reducing",
   "metadata": {},
   "outputs": [
    {
     "data": {
      "image/svg+xml": [
       "<svg xmlns=\"http://www.w3.org/2000/svg\" xmlns:ev=\"http://www.w3.org/2001/xml-events\" xmlns:xlink=\"http://www.w3.org/1999/xlink\" baseProfile=\"full\" height=\"200\" version=\"1.1\" width=\"400\"><defs><style type=\"text/css\"><![CDATA[.axis {font-weight: bold}.tree, .axis {font-size: 14px; text-anchor:middle}.edge {stroke: black; fill: none}.node > .sym {fill: black; stroke: none}.tree text {dominant-baseline: middle}.tree .lab.lft {text-anchor: end}.tree .lab.rgt {text-anchor: start}.mut {fill: red; font-style: italic}]]></style></defs><g class=\"tree-sequence\"><g class=\"background\"><polygon fill=\"#F1F1F1\" points=\"20,185 20,180 20,160 20,0 200.0,0 200.0,160 200.0,180 200.0,185\"/></g><g class=\"trees\"><g class=\"treebox t0\" transform=\"translate(20 30)\"><g class=\"tree t0\"><g class=\"node n22 p0 root\" transform=\"translate(101.818 70.9967)\"><g class=\"a22 node n17 p0\" transform=\"translate(-39.0909 20.6309)\"><g class=\"a17 node n15 p0\" transform=\"translate(0.0 7.34899)\"><g class=\"a15 node n13 p0\" transform=\"translate(-27.2727 3.67449)\"><g class=\"a13 leaf node n0 p0 sample\" transform=\"translate(-10.9091 7.34899)\"><path class=\"edge\" d=\"M 0 0 V -7.34899 H 10.9091\"/><circle class=\"sym\" cx=\"0\" cy=\"0\" r=\"3\"/><text class=\"lab\" transform=\"translate(0 12)\">0</text></g><g class=\"a13 node n11 p0\" transform=\"translate(10.9091 3.67449)\"><g class=\"a11 leaf node n4 p0 sample\" transform=\"translate(-7.27273 3.67449)\"><path class=\"edge\" d=\"M 0 0 V -3.67449 H 7.27273\"/><circle class=\"sym\" cx=\"0\" cy=\"0\" r=\"3\"/><text class=\"lab\" transform=\"translate(0 12)\">4</text></g><g class=\"a11 leaf node n9 p0 sample\" transform=\"translate(7.27273 3.67449)\"><path class=\"edge\" d=\"M 0 0 V -3.67449 H -7.27273\"/><circle class=\"sym\" cx=\"0\" cy=\"0\" r=\"3\"/><text class=\"lab\" transform=\"translate(0 12)\">9</text></g><path class=\"edge\" d=\"M 0 0 V -3.67449 H -10.9091\"/><circle class=\"sym\" cx=\"0\" cy=\"0\" r=\"3\"/><text class=\"lab rgt\" transform=\"translate(3 -6)\">11</text></g><path class=\"edge\" d=\"M 0 0 V -3.67449 H 27.2727\"/><circle class=\"sym\" cx=\"0\" cy=\"0\" r=\"3\"/><text class=\"lab lft\" transform=\"translate(-3 -6)\">13</text></g><g class=\"a15 node n14 p0\" transform=\"translate(27.2727 3.67449)\"><g class=\"a14 leaf node n1 p0 sample\" transform=\"translate(-21.8182 7.34899)\"><path class=\"edge\" d=\"M 0 0 V -7.34899 H 21.8182\"/><circle class=\"sym\" cx=\"0\" cy=\"0\" r=\"3\"/><text class=\"lab\" transform=\"translate(0 12)\">1</text></g><g class=\"a14 leaf node n8 p0 sample\" transform=\"translate(21.8182 7.34899)\"><path class=\"edge\" d=\"M 0 0 V -7.34899 H -21.8182\"/><circle class=\"sym\" cx=\"0\" cy=\"0\" r=\"3\"/><text class=\"lab\" transform=\"translate(0 12)\">8</text></g><g class=\"a14 node n12 p0\" transform=\"translate(0.0 3.67449)\"><g class=\"a12 leaf node n5 p0 sample\" transform=\"translate(-7.27273 3.67449)\"><path class=\"edge\" d=\"M 0 0 V -3.67449 H 7.27273\"/><circle class=\"sym\" cx=\"0\" cy=\"0\" r=\"3\"/><text class=\"lab\" transform=\"translate(0 12)\">5</text></g><g class=\"a12 leaf node n7 p0 sample\" transform=\"translate(7.27273 3.67449)\"><path class=\"edge\" d=\"M 0 0 V -3.67449 H -7.27273\"/><circle class=\"sym\" cx=\"0\" cy=\"0\" r=\"3\"/><text class=\"lab\" transform=\"translate(0 12)\">7</text></g><path class=\"edge\" d=\"M 0 0 V -3.67449 H 0.0\"/><circle class=\"sym\" cx=\"0\" cy=\"0\" r=\"3\"/><text class=\"lab rgt\" transform=\"translate(3 -6)\">12</text></g><path class=\"edge\" d=\"M 0 0 V -3.67449 H -27.2727\"/><circle class=\"sym\" cx=\"0\" cy=\"0\" r=\"3\"/><text class=\"lab rgt\" transform=\"translate(3 -6)\">14</text></g><path class=\"edge\" d=\"M 0 0 V -7.34899 H 0.0\"/><circle class=\"sym\" cx=\"0\" cy=\"0\" r=\"3\"/><text class=\"lab lft\" transform=\"translate(-3 -6)\">15</text></g><path class=\"edge\" d=\"M 0 0 V -20.6309 H 39.0909\"/><circle class=\"sym\" cx=\"0\" cy=\"0\" r=\"3\"/><text class=\"lab lft\" transform=\"translate(-3 -6)\">17</text></g><g class=\"a22 node n18 p0\" transform=\"translate(39.0909 20.6309)\"><g class=\"a18 node n10 p0\" transform=\"translate(0.0 14.698)\"><g class=\"a10 leaf node n2 p0 sample\" transform=\"translate(-14.5455 3.67449)\"><path class=\"edge\" d=\"M 0 0 V -3.67449 H 14.5455\"/><circle class=\"sym\" cx=\"0\" cy=\"0\" r=\"3\"/><text class=\"lab\" transform=\"translate(0 12)\">2</text></g><g class=\"a10 leaf node n3 p0 sample\" transform=\"translate(0.0 3.67449)\"><path class=\"edge\" d=\"M 0 0 V -3.67449 H 0.0\"/><circle class=\"sym\" cx=\"0\" cy=\"0\" r=\"3\"/><text class=\"lab\" transform=\"translate(0 12)\">3</text></g><g class=\"a10 leaf node n6 p0 sample\" transform=\"translate(14.5455 3.67449)\"><path class=\"edge\" d=\"M 0 0 V -3.67449 H -14.5455\"/><circle class=\"sym\" cx=\"0\" cy=\"0\" r=\"3\"/><text class=\"lab\" transform=\"translate(0 12)\">6</text></g><path class=\"edge\" d=\"M 0 0 V -14.698 H 0.0\"/><circle class=\"sym\" cx=\"0\" cy=\"0\" r=\"3\"/><text class=\"lab lft\" transform=\"translate(-3 -6)\">10</text></g><path class=\"edge\" d=\"M 0 0 V -20.6309 H -39.0909\"/><circle class=\"sym\" cx=\"0\" cy=\"0\" r=\"3\"/><text class=\"lab rgt\" transform=\"translate(3 -6)\">18</text></g><circle class=\"sym\" cx=\"0\" cy=\"0\" r=\"3\"/><text class=\"lab\" transform=\"translate(0 -10)\">22</text></g></g></g><g class=\"treebox t1\" transform=\"translate(200.0 30)\"><g class=\"tree t1\"><g class=\"node n23 p0 root\" transform=\"translate(92.7273 30.0)\"><g class=\"a23 node n17 p0\" transform=\"translate(-31.8182 61.6275)\"><g class=\"a17 node n11 p0\" transform=\"translate(0.0 14.698)\"><g class=\"a11 leaf node n4 p0 sample\" transform=\"translate(-7.27273 3.67449)\"><path class=\"edge\" d=\"M 0 0 V -3.67449 H 7.27273\"/><circle class=\"sym\" cx=\"0\" cy=\"0\" r=\"3\"/><text class=\"lab\" transform=\"translate(0 12)\">4</text></g><g class=\"a11 leaf node n9 p0 sample\" transform=\"translate(36.3636 3.67449)\"><path class=\"edge\" d=\"M 0 0 V -3.67449 H -36.3636\"/><circle class=\"sym\" cx=\"0\" cy=\"0\" r=\"3\"/><text class=\"lab\" transform=\"translate(0 12)\">9</text></g><g class=\"a11 leaf node n0 p0 sample\" transform=\"translate(-36.3636 3.67449)\"><path class=\"edge\" d=\"M 0 0 V -3.67449 H 36.3636\"/><circle class=\"sym\" cx=\"0\" cy=\"0\" r=\"3\"/><text class=\"lab\" transform=\"translate(0 12)\">0</text></g><g class=\"a11 leaf node n3 p0 sample\" transform=\"translate(-21.8182 3.67449)\"><path class=\"edge\" d=\"M 0 0 V -3.67449 H 21.8182\"/><circle class=\"sym\" cx=\"0\" cy=\"0\" r=\"3\"/><text class=\"lab\" transform=\"translate(0 12)\">3</text></g><g class=\"a11 leaf node n6 p0 sample\" transform=\"translate(7.27273 3.67449)\"><path class=\"edge\" d=\"M 0 0 V -3.67449 H -7.27273\"/><circle class=\"sym\" cx=\"0\" cy=\"0\" r=\"3\"/><text class=\"lab\" transform=\"translate(0 12)\">6</text></g><g class=\"a11 leaf node n8 p0 sample\" transform=\"translate(21.8182 3.67449)\"><path class=\"edge\" d=\"M 0 0 V -3.67449 H -21.8182\"/><circle class=\"sym\" cx=\"0\" cy=\"0\" r=\"3\"/><text class=\"lab\" transform=\"translate(0 12)\">8</text></g><path class=\"edge\" d=\"M 0 0 V -14.698 H 0.0\"/><circle class=\"sym\" cx=\"0\" cy=\"0\" r=\"3\"/><text class=\"lab lft\" transform=\"translate(-3 -6)\">11</text></g><path class=\"edge\" d=\"M 0 0 V -61.6275 H 31.8182\"/><circle class=\"sym\" cx=\"0\" cy=\"0\" r=\"3\"/><text class=\"lab lft\" transform=\"translate(-3 -6)\">17</text></g><g class=\"a23 node n21 p0\" transform=\"translate(31.8182 51.4479)\"><g class=\"a21 node n19 p0\" transform=\"translate(-12.7273 10.1796)\"><g class=\"a19 leaf node n1 p0 sample\" transform=\"translate(0.0 18.3725)\"><path class=\"edge\" d=\"M 0 0 V -18.3725 H 0.0\"/><circle class=\"sym\" cx=\"0\" cy=\"0\" r=\"3\"/><text class=\"lab\" transform=\"translate(0 12)\">1</text></g><path class=\"edge\" d=\"M 0 0 V -10.1796 H 12.7273\"/><circle class=\"sym\" cx=\"0\" cy=\"0\" r=\"3\"/><text class=\"lab lft\" transform=\"translate(-3 -6)\">19</text></g><g class=\"a21 node n20 p0\" transform=\"translate(12.7273 7.76781)\"><g class=\"a20 node n16 p0\" transform=\"translate(10.9091 2.41179)\"><g class=\"a16 leaf node n5 p0 sample\" transform=\"translate(-7.27273 18.3725)\"><path class=\"edge\" d=\"M 0 0 V -18.3725 H 7.27273\"/><circle class=\"sym\" cx=\"0\" cy=\"0\" r=\"3\"/><text class=\"lab\" transform=\"translate(0 12)\">5</text></g><g class=\"a16 leaf node n7 p0 sample\" transform=\"translate(7.27273 18.3725)\"><path class=\"edge\" d=\"M 0 0 V -18.3725 H -7.27273\"/><circle class=\"sym\" cx=\"0\" cy=\"0\" r=\"3\"/><text class=\"lab\" transform=\"translate(0 12)\">7</text></g><path class=\"edge\" d=\"M 0 0 V -2.41179 H -10.9091\"/><circle class=\"sym\" cx=\"0\" cy=\"0\" r=\"3\"/><text class=\"lab rgt\" transform=\"translate(3 -6)\">16</text></g><g class=\"a20 node n18 p0\" transform=\"translate(-10.9091 2.41179)\"><g class=\"a18 leaf node n2 p0 sample\" transform=\"translate(0.0 18.3725)\"><path class=\"edge\" d=\"M 0 0 V -18.3725 H 0.0\"/><circle class=\"sym\" cx=\"0\" cy=\"0\" r=\"3\"/><text class=\"lab\" transform=\"translate(0 12)\">2</text></g><path class=\"edge\" d=\"M 0 0 V -2.41179 H 10.9091\"/><circle class=\"sym\" cx=\"0\" cy=\"0\" r=\"3\"/><text class=\"lab lft\" transform=\"translate(-3 -6)\">18</text></g><path class=\"edge\" d=\"M 0 0 V -7.76781 H -12.7273\"/><circle class=\"sym\" cx=\"0\" cy=\"0\" r=\"3\"/><text class=\"lab rgt\" transform=\"translate(3 -6)\">20</text></g><path class=\"edge\" d=\"M 0 0 V -51.4479 H -31.8182\"/><circle class=\"sym\" cx=\"0\" cy=\"0\" r=\"3\"/><text class=\"lab rgt\" transform=\"translate(3 -6)\">21</text></g><circle class=\"sym\" cx=\"0\" cy=\"0\" r=\"3\"/><text class=\"lab\" transform=\"translate(0 -10)\">23</text></g></g></g></g><g class=\"axis\"><line stroke=\"black\" x1=\"20\" x2=\"380\" y1=\"180\" y2=\"180\"/><line stroke=\"black\" x1=\"20\" x2=\"20\" y1=\"180\" y2=\"185\"/><g transform=\"translate(20, 200)\"><text font-size=\"14\" font-weight=\"bold\" text-anchor=\"middle\">0</text></g><line stroke=\"black\" x1=\"200.0\" x2=\"200.0\" y1=\"180\" y2=\"185\"/><g transform=\"translate(200.0, 200)\"><text font-size=\"14\" font-weight=\"bold\" text-anchor=\"middle\">1</text></g><line stroke=\"black\" x1=\"380.0\" x2=\"380.0\" y1=\"180\" y2=\"185\"/><g transform=\"translate(380.0, 200)\"><text font-size=\"14\" font-weight=\"bold\" text-anchor=\"middle\">2</text></g></g></g></svg>"
      ],
      "text/plain": [
       "<IPython.core.display.SVG object>"
      ]
     },
     "execution_count": 4,
     "metadata": {
      "filenames": {
       "image/svg+xml": "/home/runner/work/tutorials/tutorials/_build/jupyter_execute/completing-forward-sims_7_0.svg"
      }
     },
     "output_type": "execute_result"
    }
   ],
   "source": [
    "    final_ts = coalesced_ts.simplify()\n",
    "    SVG(coalesced_ts.draw_svg())"
   ]
  },
  {
   "cell_type": "markdown",
   "id": "previous-earth",
   "metadata": {},
   "source": [
    "This final tree sequence is topologically identical to the original tree sequence,\n",
    "but has the redundant nodes and edges removed. Note also that the node IDs have been\n",
    "reassigned so that the samples are 0 to 9 --- if you need the IDs from the original\n",
    "tree sequence, please set ``map_nodes=True`` when calling ``simplify`` to get a\n",
    "mapping between the two sets of IDs."
   ]
  }
 ],
 "metadata": {
  "jupytext": {
   "text_representation": {
    "extension": ".md",
    "format_name": "myst"
   }
  },
  "kernelspec": {
   "display_name": "Python 3",
   "language": "python",
   "name": "python3"
  },
  "language_info": {
   "codemirror_mode": {
    "name": "ipython",
    "version": 3
   },
   "file_extension": ".py",
   "mimetype": "text/x-python",
   "name": "python",
   "nbconvert_exporter": "python",
   "pygments_lexer": "ipython3",
   "version": "3.8.7"
  },
  "source_map": [
   10,
   35,
   83,
   88,
   93,
   135,
   143,
   197,
   201
  ]
 },
 "nbformat": 4,
 "nbformat_minor": 5
}