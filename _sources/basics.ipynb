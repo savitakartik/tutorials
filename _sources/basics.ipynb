{
 "cells": [
  {
   "cell_type": "markdown",
   "id": "f51f57ed",
   "metadata": {},
   "source": [
    "```{currentmodule} tskit\n",
    "```"
   ]
  },
  {
   "cell_type": "code",
   "execution_count": 1,
   "id": "5e76fdc9",
   "metadata": {
    "tags": [
     "remove-cell"
    ]
   },
   "outputs": [],
   "source": [
    "import msprime\n",
    "import tskit\n",
    "import numpy as np\n",
    "\n",
    "def basics():\n",
    "    ts = msprime.sim_ancestry(3, random_seed=10, sequence_length=1000, recombination_rate=1e-4)\n",
    "    ts = msprime.sim_mutations(ts, rate=1e-4, random_seed=150)\n",
    "    tables = ts.dump_tables()\n",
    "    # populations already has a schema\n",
    "    populations_md = [p.metadata for p in ts.populations()]\n",
    "    populations_md[0][\"name\"] = \"GBR\"\n",
    "    populations_md[0][\"description\"] = \"British from England and Scotland\"\n",
    "    \n",
    "    tables.populations.packset_metadata(\n",
    "        [tables.populations.metadata_schema.validate_and_encode_row(r) for r in populations_md]\n",
    "    )\n",
    "    individuals_md = [{\"name\": \"Ada\"}, {\"name\": \"Bob\"}, {\"name\": \"Cat\"}]\n",
    "    tables.individuals.metadata_schema = tskit.MetadataSchema({'codec': 'json'})\n",
    "    tables.individuals.packset_metadata(\n",
    "        [tables.individuals.metadata_schema.validate_and_encode_row(r) for r in individuals_md]\n",
    "    )\n",
    "    tables.mutations.time = np.full_like(tables.mutations.time, tskit.UNKNOWN_TIME)\n",
    "    tables.tree_sequence().dump(\"data/basics.trees\")\n",
    "    \n",
    "\n",
    "\n",
    "def create_notebook_data():\n",
    "    basics()\n",
    "\n",
    "# create_notebook_data()  # uncomment to recreate the tree seqs used in this notebook"
   ]
  },
  {
   "cell_type": "markdown",
   "id": "8155f7fa",
   "metadata": {},
   "source": [
    "(sec_basics)=\n",
    "\n",
    "# Tree sequence basics\n",
    "\n",
    "If you have read \"{ref}`sec_what_is`\" we hope to have piqued your interest in tree\n",
    "sequences. This tutorial serves as an introdution to the terminology and some of the\n",
    "concepts behind {program}`tskit`, the tree sequence toolkit.\n",
    "\n",
    "## Terminology\n",
    "\n",
    "A tree sequence is a data structure which describes a set of\n",
    "evolutionary trees, together with some associated data that specifies, for example,\n",
    "the location of mutations in the tree sequence. Here's how to {func}`~tskit.load` one\n",
    "from a `.trees` file using the {ref}`tskit:sec_python_api`:"
   ]
  },
  {
   "cell_type": "code",
   "execution_count": 2,
   "id": "dc3a8ebd",
   "metadata": {},
   "outputs": [],
   "source": [
    "import tskit\n",
    "# We will often store the python tree sequence object in a variable named \"ts\"\n",
    "ts = tskit.load(\"data/basics.trees\")"
   ]
  },
  {
   "cell_type": "markdown",
   "id": "0bd42588",
   "metadata": {},
   "source": [
    "### Genomes\n",
    "\n",
    "A tree sequence covers a contiguous section of a single chromosome[^multiple_chr_foot].\n",
    "For clarity of explanation, we use the word \"genome\" to refer to the section spanned by\n",
    "the whole tree sequence (if you find it easier, imagine our examples describe an\n",
    "organism with a single, short chromosome). In the tree sequence we have just loaded,\n",
    "the genome is of length 1000, conventionally interpreted as the number of base\n",
    "pairs. This is accessible using the {attr}`~TreeSequence.sequence_length` attribute."
   ]
  },
  {
   "cell_type": "code",
   "execution_count": 3,
   "id": "07c12c40",
   "metadata": {},
   "outputs": [
    {
     "data": {
      "text/plain": [
       "1000.0"
      ]
     },
     "execution_count": 3,
     "metadata": {},
     "output_type": "execute_result"
    }
   ],
   "source": [
    "ts.sequence_length  # a floating point number: positions are not constrained to be integers"
   ]
  },
  {
   "cell_type": "markdown",
   "id": "5c3dfab4",
   "metadata": {},
   "source": [
    "It can be helpful to visualize the tree sequence as a set of local trees along the genome:"
   ]
  },
  {
   "cell_type": "code",
   "execution_count": 4,
   "id": "60c9bc6b",
   "metadata": {
    "tags": [
     "hide-input"
    ]
   },
   "outputs": [
    {
     "data": {
      "image/svg+xml": [
       "<svg xmlns=\"http://www.w3.org/2000/svg\" xmlns:ev=\"http://www.w3.org/2001/xml-events\" xmlns:xlink=\"http://www.w3.org/1999/xlink\" baseProfile=\"full\" height=\"200\" version=\"1.1\" width=\"600\"><defs><style type=\"text/css\"><![CDATA[.background path {fill: #808080; fill-opacity:0}.background path:nth-child(odd) {fill-opacity:.1}.axes {font-size: 14px}.x-axis .tick .lab {font-weight: bold}.axes, .tree {font-size: 14px; text-anchor:middle}.y-axis line.grid {stroke: #FAFAFA}.y-axis > .lab text {transform: translateX(0.8em) rotate(-90deg)}.x-axis .tick g {transform: translateY(0.9em)}.x-axis > .lab text {transform: translateY(-0.8em)}.axes line, .edge {stroke:black; fill:none}.node > .sym {fill: black; stroke: none}.site > .sym {stroke: black}.mut text {fill: red; font-style: italic}.mut.extra text {fill: hotpink}.mut line {fill: none; stroke: none}.mut .sym {fill: none; stroke: red}.mut.extra .sym {stroke: hotpink}.node .mut .sym {stroke-width: 1.5px}.tree text, .tree-sequence text {dominant-baseline: central}.plotbox .lab.lft {text-anchor: end}.plotbox .lab.rgt {text-anchor: start}]]></style></defs><g class=\"tree-sequence\"><g class=\"background\"><path d=\"M56.8,0 l174.4,0 l0,138.2 l-26.8576,25 l0,5 l-147.542,0 l0,-5 l0,-25 l0,-138.2z\"/><path d=\"M231.2,0 l174.4,0 l0,138.2 l-55.808,25 l0,5 l-145.45,0 l0,-5 l26.8576,-25 l0,-138.2z\"/><path d=\"M405.6,0 l174.4,0 l0,138.2 l0,25 l0,5 l-230.208,0 l0,-5 l55.808,-25 l0,-138.2z\"/></g><g class=\"axes\"><g class=\"x-axis\"><g class=\"lab\" transform=\"translate(318.4,200)\"><text text-anchor=\"middle\">Genome position</text></g><line x1=\"56.8\" x2=\"580\" y1=\"163.2\" y2=\"163.2\"/><g class=\"tick\" transform=\"translate(56.8 163.2)\"><line x1=\"0\" x2=\"0\" y1=\"0\" y2=\"5\"/><g class=\"lab\" transform=\"translate(0,5)\"><text>0</text></g></g><g class=\"tick\" transform=\"translate(204.342 163.2)\"><line x1=\"0\" x2=\"0\" y1=\"0\" y2=\"5\"/><g class=\"lab\" transform=\"translate(0,5)\"><text>282</text></g></g><g class=\"tick\" transform=\"translate(349.792 163.2)\"><line x1=\"0\" x2=\"0\" y1=\"0\" y2=\"5\"/><g class=\"lab\" transform=\"translate(0,5)\"><text>560</text></g></g><g class=\"tick\" transform=\"translate(580 163.2)\"><line x1=\"0\" x2=\"0\" y1=\"0\" y2=\"5\"/><g class=\"lab\" transform=\"translate(0,5)\"><text>1000</text></g></g><g class=\"site s0\" transform=\"translate(191.262 163.2)\"><line class=\"sym\" x1=\"0\" x2=\"0\" y1=\"0\" y2=\"-10\"/><g class=\"mut m0\"><polyline class=\"sym\" points=\"2.5,-6.5 0,-1.5 -2.5,-6.5\"/></g></g></g><g class=\"y-axis\"><g class=\"lab\" transform=\"translate(0,65.7)\"><text text-anchor=\"middle\">Node time</text></g><line x1=\"56.8\" x2=\"56.8\" y1=\"121.4\" y2=\"10\"/><g class=\"tick\" transform=\"translate(56.8 121.4)\"><line class=\"grid\" x1=\"0\" x2=\"523.2\" y1=\"0\" y2=\"0\"/><line x1=\"0\" x2=\"-5\" y1=\"0\" y2=\"0\"/><g class=\"lab\" transform=\"translate(-5,0)\"><text text-anchor=\"end\">0.00</text></g></g><g class=\"tick\" transform=\"translate(56.8 105.633)\"><line class=\"grid\" x1=\"0\" x2=\"523.2\" y1=\"0\" y2=\"0\"/><line x1=\"0\" x2=\"-5\" y1=\"0\" y2=\"0\"/><g class=\"lab\" transform=\"translate(-5,0)\"><text text-anchor=\"end\">0.05</text></g></g><g class=\"tick\" transform=\"translate(56.8 89.8667)\"><line class=\"grid\" x1=\"0\" x2=\"523.2\" y1=\"0\" y2=\"0\"/><line x1=\"0\" x2=\"-5\" y1=\"0\" y2=\"0\"/><g class=\"lab\" transform=\"translate(-5,0)\"><text text-anchor=\"end\">0.16</text></g></g><g class=\"tick\" transform=\"translate(56.8 74.1)\"><line class=\"grid\" x1=\"0\" x2=\"523.2\" y1=\"0\" y2=\"0\"/><line x1=\"0\" x2=\"-5\" y1=\"0\" y2=\"0\"/><g class=\"lab\" transform=\"translate(-5,0)\"><text text-anchor=\"end\">0.46</text></g></g><g class=\"tick\" transform=\"translate(56.8 58.3333)\"><line class=\"grid\" x1=\"0\" x2=\"523.2\" y1=\"0\" y2=\"0\"/><line x1=\"0\" x2=\"-5\" y1=\"0\" y2=\"0\"/><g class=\"lab\" transform=\"translate(-5,0)\"><text text-anchor=\"end\">1.25</text></g></g><g class=\"tick\" transform=\"translate(56.8 42.5667)\"><line class=\"grid\" x1=\"0\" x2=\"523.2\" y1=\"0\" y2=\"0\"/><line x1=\"0\" x2=\"-5\" y1=\"0\" y2=\"0\"/><g class=\"lab\" transform=\"translate(-5,0)\"><text text-anchor=\"end\">2.53</text></g></g><g class=\"tick\" transform=\"translate(56.8 26.8)\"><line class=\"grid\" x1=\"0\" x2=\"523.2\" y1=\"0\" y2=\"0\"/><line x1=\"0\" x2=\"-5\" y1=\"0\" y2=\"0\"/><g class=\"lab\" transform=\"translate(-5,0)\"><text text-anchor=\"end\">4.07</text></g></g></g></g><g class=\"plotbox trees\"><g class=\"tree t0\" transform=\"translate(56.8 0)\"><g class=\"plotbox\"><g class=\"node n11 p0 root\" transform=\"translate(92.8 26.8)\"><g class=\"a11 m0 node n8 p0 s0\" transform=\"translate(33.6 47.3)\"><g class=\"a8 i2 leaf node n4 p0 sample\" transform=\"translate(16.8 47.3)\"><path class=\"edge\" d=\"M 0 0 V -47.3 H -16.8\"/><rect class=\"sym\" height=\"6\" width=\"6\" x=\"-3\" y=\"-3\"/><text class=\"lab\" transform=\"translate(0 11)\">4</text></g><g class=\"a8 node n6 p0\" transform=\"translate(-16.8 31.5333)\"><g class=\"a6 i1 leaf node n2 p0 sample\" transform=\"translate(-11.2 15.7667)\"><path class=\"edge\" d=\"M 0 0 V -15.7667 H 11.2\"/><rect class=\"sym\" height=\"6\" width=\"6\" x=\"-3\" y=\"-3\"/><text class=\"lab\" transform=\"translate(0 11)\">2</text></g><g class=\"a6 i2 leaf node n5 p0 sample\" transform=\"translate(11.2 15.7667)\"><path class=\"edge\" d=\"M 0 0 V -15.7667 H -11.2\"/><rect class=\"sym\" height=\"6\" width=\"6\" x=\"-3\" y=\"-3\"/><text class=\"lab\" transform=\"translate(0 11)\">5</text></g><path class=\"edge\" d=\"M 0 0 V -31.5333 H 16.8\"/><circle class=\"sym\" cx=\"0\" cy=\"0\" r=\"3\"/><text class=\"lab lft\" transform=\"translate(-3 -7.0)\">6</text></g><path class=\"edge\" d=\"M 0 0 V -47.3 H -33.6\"/><g class=\"mut m0 s0 unknown_time\" transform=\"translate(0 -23.65)\"><line x1=\"0\" x2=\"0\" y1=\"0\" y2=\"23.65\"/><path class=\"sym\" d=\"M -3,-3 l 6,6 M -3,3 l 6,-6\"/><text class=\"lab rgt\" transform=\"translate(5 0)\">0</text></g><circle class=\"sym\" cx=\"0\" cy=\"0\" r=\"3\"/><text class=\"lab rgt\" transform=\"translate(3 -7.0)\">8</text></g><g class=\"a11 node n10 p0\" transform=\"translate(-33.6 15.7667)\"><g class=\"a10 i1 leaf node n3 p0 sample\" transform=\"translate(16.8 78.8333)\"><path class=\"edge\" d=\"M 0 0 V -78.8333 H -16.8\"/><rect class=\"sym\" height=\"6\" width=\"6\" x=\"-3\" y=\"-3\"/><text class=\"lab\" transform=\"translate(0 11)\">3</text></g><g class=\"a10 node n7 p0\" transform=\"translate(-16.8 47.3)\"><g class=\"a7 i0 leaf node n0 p0 sample\" transform=\"translate(-11.2 31.5333)\"><path class=\"edge\" d=\"M 0 0 V -31.5333 H 11.2\"/><rect class=\"sym\" height=\"6\" width=\"6\" x=\"-3\" y=\"-3\"/><text class=\"lab\" transform=\"translate(0 11)\">0</text></g><g class=\"a7 i0 leaf node n1 p0 sample\" transform=\"translate(11.2 31.5333)\"><path class=\"edge\" d=\"M 0 0 V -31.5333 H -11.2\"/><rect class=\"sym\" height=\"6\" width=\"6\" x=\"-3\" y=\"-3\"/><text class=\"lab\" transform=\"translate(0 11)\">1</text></g><path class=\"edge\" d=\"M 0 0 V -47.3 H 16.8\"/><circle class=\"sym\" cx=\"0\" cy=\"0\" r=\"3\"/><text class=\"lab lft\" transform=\"translate(-3 -7.0)\">7</text></g><path class=\"edge\" d=\"M 0 0 V -15.7667 H 33.6\"/><circle class=\"sym\" cx=\"0\" cy=\"0\" r=\"3\"/><text class=\"lab lft\" transform=\"translate(-3 -7.0)\">10</text></g><circle class=\"sym\" cx=\"0\" cy=\"0\" r=\"3\"/><text class=\"lab\" transform=\"translate(0 -11)\">11</text></g></g></g><g class=\"tree t1\" transform=\"translate(231.2 0)\"><g class=\"plotbox\"><g class=\"node n10 p0 root\" transform=\"translate(83 42.5667)\"><g class=\"a10 node n7 p0\" transform=\"translate(-40.6 47.3)\"><g class=\"a7 i0 leaf node n0 p0 sample\" transform=\"translate(-11.2 31.5333)\"><path class=\"edge\" d=\"M 0 0 V -31.5333 H 11.2\"/><rect class=\"sym\" height=\"6\" width=\"6\" x=\"-3\" y=\"-3\"/><text class=\"lab\" transform=\"translate(0 11)\">0</text></g><g class=\"a7 i0 leaf node n1 p0 sample\" transform=\"translate(11.2 31.5333)\"><path class=\"edge\" d=\"M 0 0 V -31.5333 H -11.2\"/><rect class=\"sym\" height=\"6\" width=\"6\" x=\"-3\" y=\"-3\"/><text class=\"lab\" transform=\"translate(0 11)\">1</text></g><path class=\"edge\" d=\"M 0 0 V -47.3 H 40.6\"/><circle class=\"sym\" cx=\"0\" cy=\"0\" r=\"3\"/><text class=\"lab lft\" transform=\"translate(-3 -7.0)\">7</text></g><g class=\"a10 node n9 p0\" transform=\"translate(40.6 15.7667)\"><g class=\"a9 i1 leaf node n3 p0 sample\" transform=\"translate(19.6 63.0667)\"><path class=\"edge\" d=\"M 0 0 V -63.0667 H -19.6\"/><rect class=\"sym\" height=\"6\" width=\"6\" x=\"-3\" y=\"-3\"/><text class=\"lab\" transform=\"translate(0 11)\">3</text></g><g class=\"a9 node n8 p0\" transform=\"translate(-19.6 15.7667)\"><g class=\"a8 i2 leaf node n4 p0 sample\" transform=\"translate(16.8 47.3)\"><path class=\"edge\" d=\"M 0 0 V -47.3 H -16.8\"/><rect class=\"sym\" height=\"6\" width=\"6\" x=\"-3\" y=\"-3\"/><text class=\"lab\" transform=\"translate(0 11)\">4</text></g><g class=\"a8 node n6 p0\" transform=\"translate(-16.8 31.5333)\"><g class=\"a6 i1 leaf node n2 p0 sample\" transform=\"translate(-11.2 15.7667)\"><path class=\"edge\" d=\"M 0 0 V -15.7667 H 11.2\"/><rect class=\"sym\" height=\"6\" width=\"6\" x=\"-3\" y=\"-3\"/><text class=\"lab\" transform=\"translate(0 11)\">2</text></g><g class=\"a6 i2 leaf node n5 p0 sample\" transform=\"translate(11.2 15.7667)\"><path class=\"edge\" d=\"M 0 0 V -15.7667 H -11.2\"/><rect class=\"sym\" height=\"6\" width=\"6\" x=\"-3\" y=\"-3\"/><text class=\"lab\" transform=\"translate(0 11)\">5</text></g><path class=\"edge\" d=\"M 0 0 V -31.5333 H 16.8\"/><circle class=\"sym\" cx=\"0\" cy=\"0\" r=\"3\"/><text class=\"lab lft\" transform=\"translate(-3 -7.0)\">6</text></g><path class=\"edge\" d=\"M 0 0 V -15.7667 H 19.6\"/><circle class=\"sym\" cx=\"0\" cy=\"0\" r=\"3\"/><text class=\"lab lft\" transform=\"translate(-3 -7.0)\">8</text></g><path class=\"edge\" d=\"M 0 0 V -15.7667 H -40.6\"/><circle class=\"sym\" cx=\"0\" cy=\"0\" r=\"3\"/><text class=\"lab rgt\" transform=\"translate(3 -7.0)\">9</text></g><circle class=\"sym\" cx=\"0\" cy=\"0\" r=\"3\"/><text class=\"lab\" transform=\"translate(0 -11)\">10</text></g></g></g><g class=\"tree t2\" transform=\"translate(405.6 0)\"><g class=\"plotbox\"><g class=\"node n11 p0 root\" transform=\"translate(83 26.8)\"><g class=\"a11 node n7 p0\" transform=\"translate(-40.6 63.0667)\"><g class=\"a7 i0 leaf node n0 p0 sample\" transform=\"translate(-11.2 31.5333)\"><path class=\"edge\" d=\"M 0 0 V -31.5333 H 11.2\"/><rect class=\"sym\" height=\"6\" width=\"6\" x=\"-3\" y=\"-3\"/><text class=\"lab\" transform=\"translate(0 11)\">0</text></g><g class=\"a7 i0 leaf node n1 p0 sample\" transform=\"translate(11.2 31.5333)\"><path class=\"edge\" d=\"M 0 0 V -31.5333 H -11.2\"/><rect class=\"sym\" height=\"6\" width=\"6\" x=\"-3\" y=\"-3\"/><text class=\"lab\" transform=\"translate(0 11)\">1</text></g><path class=\"edge\" d=\"M 0 0 V -63.0667 H 40.6\"/><circle class=\"sym\" cx=\"0\" cy=\"0\" r=\"3\"/><text class=\"lab lft\" transform=\"translate(-3 -7.0)\">7</text></g><g class=\"a11 node n9 p0\" transform=\"translate(40.6 31.5333)\"><g class=\"a9 i1 leaf node n3 p0 sample\" transform=\"translate(19.6 63.0667)\"><path class=\"edge\" d=\"M 0 0 V -63.0667 H -19.6\"/><rect class=\"sym\" height=\"6\" width=\"6\" x=\"-3\" y=\"-3\"/><text class=\"lab\" transform=\"translate(0 11)\">3</text></g><g class=\"a9 node n8 p0\" transform=\"translate(-19.6 15.7667)\"><g class=\"a8 i2 leaf node n4 p0 sample\" transform=\"translate(16.8 47.3)\"><path class=\"edge\" d=\"M 0 0 V -47.3 H -16.8\"/><rect class=\"sym\" height=\"6\" width=\"6\" x=\"-3\" y=\"-3\"/><text class=\"lab\" transform=\"translate(0 11)\">4</text></g><g class=\"a8 node n6 p0\" transform=\"translate(-16.8 31.5333)\"><g class=\"a6 i1 leaf node n2 p0 sample\" transform=\"translate(-11.2 15.7667)\"><path class=\"edge\" d=\"M 0 0 V -15.7667 H 11.2\"/><rect class=\"sym\" height=\"6\" width=\"6\" x=\"-3\" y=\"-3\"/><text class=\"lab\" transform=\"translate(0 11)\">2</text></g><g class=\"a6 i2 leaf node n5 p0 sample\" transform=\"translate(11.2 15.7667)\"><path class=\"edge\" d=\"M 0 0 V -15.7667 H -11.2\"/><rect class=\"sym\" height=\"6\" width=\"6\" x=\"-3\" y=\"-3\"/><text class=\"lab\" transform=\"translate(0 11)\">5</text></g><path class=\"edge\" d=\"M 0 0 V -31.5333 H 16.8\"/><circle class=\"sym\" cx=\"0\" cy=\"0\" r=\"3\"/><text class=\"lab lft\" transform=\"translate(-3 -7.0)\">6</text></g><path class=\"edge\" d=\"M 0 0 V -15.7667 H 19.6\"/><circle class=\"sym\" cx=\"0\" cy=\"0\" r=\"3\"/><text class=\"lab lft\" transform=\"translate(-3 -7.0)\">8</text></g><path class=\"edge\" d=\"M 0 0 V -31.5333 H -40.6\"/><circle class=\"sym\" cx=\"0\" cy=\"0\" r=\"3\"/><text class=\"lab rgt\" transform=\"translate(3 -7.0)\">9</text></g><circle class=\"sym\" cx=\"0\" cy=\"0\" r=\"3\"/><text class=\"lab\" transform=\"translate(0 -11)\">11</text></g></g></g></g></g></svg>"
      ],
      "text/plain": [
       "<IPython.core.display.SVG object>"
      ]
     },
     "execution_count": 4,
     "metadata": {
      "filenames": {
       "image/svg+xml": "/home/runner/work/tutorials/tutorials/_build/jupyter_execute/basics_7_0.svg"
      }
     },
     "output_type": "execute_result"
    }
   ],
   "source": [
    "from IPython.display import SVG\n",
    "SVG(ts.draw_svg(y_axis=True, y_gridlines=True, time_scale=\"rank\"))"
   ]
  },
  {
   "cell_type": "markdown",
   "id": "34d18e56",
   "metadata": {},
   "source": [
    "Each tree records the lines of descent along which a piece of DNA has been\n",
    "inherited (ignore for the moment the red symbols, which represent a mutation).\n",
    "For example, the first tree tells us that DNA from ancestral genome 7 duplicated\n",
    "to produce two lineages, which ended up in sample genome 0 and sample genome 1 in the\n",
    "current population (since this pattern is seen in all trees, this must have happened\n",
    "for all the DNA along the entire 1000 base pair genome).\n",
    "\n",
    "[^multiple_chr_foot]: {ref}`Workarounds<msprime:sec_ancestry_multiple_chromosomes>` exist\n",
    "which allow a genome composed of multiple chromosomes to be represented as a tree\n",
    "sequence, but these are not covered here.\n",
    "\n",
    "\n",
    "### Nodes\n",
    "\n",
    "Trees in a tree sequence are represented in a slightly unusual way.\n",
    "In the majority of libraries dealing with trees, each node is represented\n",
    "as an object in memory and the relationship between nodes as pointers between these\n",
    "objects. In tree sequences, however, all nodes, both internal and terminal,\n",
    "are represented by an integer ID, unique over the entire tree sequence, and which exists\n",
    "at a specific point in time. The tips (leaves) of the tree, are usually marked as\n",
    "*sample nodes*, represented by square symbols in the visualization. In most cases\n",
    "sample nodes will be on the tips of a tree: they represent genomes with a fully known\n",
    "genetic sequence. Internal nodes (circles) represent ancestors in which a single DNA\n",
    "sequence was duplicated (in forwards-time terminology) or in which multiple sequences\n",
    "coalesced (in backwards-time terminology). There are 6 sample nodes, labelled $0..5$,\n",
    "and also 6 non-sample nodes, labelled $6..11$, in the tree sequence above:"
   ]
  },
  {
   "cell_type": "code",
   "execution_count": 5,
   "id": "16ccd66d",
   "metadata": {},
   "outputs": [
    {
     "name": "stdout",
     "output_type": "stream",
     "text": [
      "There are 12 nodes, of which 6 are sample nodes\n"
     ]
    }
   ],
   "source": [
    "print(\"There are\", ts.num_nodes, \"nodes, of which\", ts.num_samples, \"are sample nodes\")"
   ]
  },
  {
   "cell_type": "markdown",
   "id": "a5231c91",
   "metadata": {},
   "source": [
    "### Edges\n",
    "\n",
    "In an evolutionary tree, the connections between nodes are conventionally referred to as\n",
    "\"branches\". In a tree sequence, we instead refer to directional connections between nodes\n",
    "as _edges_, emphasizing that they usually persist across multiple trees. Each edge is\n",
    "associated with a parent node ID and a child node ID. The time of the parent node must be\n",
    "strictly greater than the time of the child node, and the difference in these times is\n",
    "sometimes referred to as the \"length\" of the edge. Since trees in a tree sequence are\n",
    "usually taken to represent marginal trees along a genome, as well as the time dimension\n",
    "each edge also has a genomic _span_, defined by the edge's *left* and a *right* position\n",
    "along the genome. There are 15 edges in the tree sequence above. Here's an example of\n",
    "one of them:"
   ]
  },
  {
   "cell_type": "code",
   "execution_count": 6,
   "id": "13975d9e",
   "metadata": {},
   "outputs": [
    {
     "name": "stdout",
     "output_type": "stream",
     "text": [
      "There are 15 edges, one of which is:\n",
      "  Edge(left=282.0, right=560.0, parent=10, child=9, metadata=b'', id=10)\n"
     ]
    }
   ],
   "source": [
    "print(\"There are\", ts.num_edges, \"edges, one of which is:\\n \", ts.edge(10))"
   ]
  },
  {
   "cell_type": "markdown",
   "id": "3aa8e841",
   "metadata": {},
   "source": [
    ":::{note}\n",
    "The *number of edges* largely determines the entire size of a tree sequence file. Edges\n",
    "essentially encode ancestral information, and the number in a tree sequence can\n",
    "be used as a rough measure of many things such as the compressibility of a simulation,\n",
    "the speed with which analyses are likely to run, or even the effectiveness of ancestral\n",
    "inference. To give some sense of scale, a basic inferred tree sequence of human\n",
    "chromosome 20 in the UK Biobank dataset of a million genomes consists of 62 million edges\n",
    "which define 16 thousand trees; the uncompressed tree sequence takes 2.1 gigabytes of\n",
    "disk space, and it takes of the order of a few seconds to iterate over all the trees.\n",
    ":::\n",
    "\n",
    "\n",
    "### Trees and tree sequences\n",
    "\n",
    "The combination of nodes and edges results in a tree sequence. Note that the\n",
    "sample nodes ($0..5$) are present in all trees since we have their full genomes.\n",
    "Additionally, internal nodes are commonly present in several, although not all,\n",
    "trees in the tree sequence.\n",
    "\n",
    "In tree sequence terminology, we don't explictly keep track of where nodes\n",
    "start and end. Only edges (not nodes) possess a genomic span. So for example, this tree\n",
    "sequence is defined using edges like $(0\\rightarrow7)$ which spans the entire genome,\n",
    "edges like $(10\\rightarrow3)$ which only span the leftmost section of the genome, and\n",
    "edges like $(11\\rightarrow9)$ which span the rightmost part of the genome. Every time an\n",
    "edge changes it creates a new tree; the location of the change is known as a _breakpoint_:"
   ]
  },
  {
   "cell_type": "code",
   "execution_count": 7,
   "id": "22c2794a",
   "metadata": {},
   "outputs": [
    {
     "name": "stdout",
     "output_type": "stream",
     "text": [
      "There are 3 trees, with breakpoints [   0.  282.  560. 1000.]\n"
     ]
    }
   ],
   "source": [
    "print(\"There are\", ts.num_trees, \"trees, with breakpoints\", ts.breakpoints(as_array=True))"
   ]
  },
  {
   "cell_type": "markdown",
   "id": "38b97511",
   "metadata": {},
   "source": [
    ":::{note}\n",
    "The tree sequence we have used here involves a tree with strictly bifurcating splits, but\n",
    "this does not need to be the case for tree sequences in general. In particular, where\n",
    "tree sequences have been created by the multiple-merger coalecent process, or in tree\n",
    "sequences that have been inferred from real data, it is possible to have a parent node\n",
    "with 3 or more children in a particular tree. Such multifucations are known as\n",
    "*polytomies*.\n",
    ":::\n",
    "\n",
    "### Individuals and populations\n",
    "\n",
    "Sometimes we know that one or more nodes belong to a particular _individual_. For example,\n",
    "most organisms are diploid, so if we sequence the DNA from an individual we are likely to\n",
    "obtain two copies of each autosomal chromosome. The tree with six sample nodes above\n",
    "could therefore represent the result of sampling three diploid individuals from a larger\n",
    "population. The tree sequence can keep track of the individuals in which nodes reside,\n",
    "and store specific information about them (such as the individuals' spatial location)\n",
    "as well as arbitrary {ref}`metadata <sec_metadata>` (such as a name). In this particular\n",
    "tree sequence the sample nodes are indeed associated with three named diploid\n",
    "individuals: ``Ada``, ``Bob`` and ``Cat``."
   ]
  },
  {
   "cell_type": "code",
   "execution_count": 8,
   "id": "aa6a8ff9",
   "metadata": {},
   "outputs": [
    {
     "name": "stdout",
     "output_type": "stream",
     "text": [
      "There are 3 individuals defined in the tree sequence:\n",
      "* Individual 0: metadata={'name': 'Ada'}\n",
      "* Individual 1: metadata={'name': 'Bob'}\n",
      "* Individual 2: metadata={'name': 'Cat'}\n"
     ]
    }
   ],
   "source": [
    "print(f\"There are {ts.num_individuals} individuals defined in the tree sequence:\")\n",
    "for individual in ts.individuals():\n",
    "    print(\"*\", f\"Individual {individual.id}: metadata={individual.metadata}\")"
   ]
  },
  {
   "cell_type": "markdown",
   "id": "bdf1f7ee",
   "metadata": {},
   "source": [
    "Adding these individual names to the sample node labels show that indeed, each of the\n",
    "three individuals has 2 sample nodes (note that these 2 nodes do not always cluster\n",
    "together in the trees, as the original simulation was of a randomly mating population)"
   ]
  },
  {
   "cell_type": "code",
   "execution_count": 9,
   "id": "629497f0",
   "metadata": {
    "tags": [
     "hide-input"
    ]
   },
   "outputs": [
    {
     "data": {
      "image/svg+xml": [
       "<svg xmlns=\"http://www.w3.org/2000/svg\" xmlns:ev=\"http://www.w3.org/2001/xml-events\" xmlns:xlink=\"http://www.w3.org/1999/xlink\" baseProfile=\"full\" height=\"200\" version=\"1.1\" width=\"600\"><defs><style type=\"text/css\"><![CDATA[.background path {fill: #808080; fill-opacity:0}.background path:nth-child(odd) {fill-opacity:.1}.axes {font-size: 14px}.x-axis .tick .lab {font-weight: bold}.axes, .tree {font-size: 14px; text-anchor:middle}.y-axis line.grid {stroke: #FAFAFA}.y-axis > .lab text {transform: translateX(0.8em) rotate(-90deg)}.x-axis .tick g {transform: translateY(0.9em)}.x-axis > .lab text {transform: translateY(-0.8em)}.axes line, .edge {stroke:black; fill:none}.node > .sym {fill: black; stroke: none}.site > .sym {stroke: black}.mut text {fill: red; font-style: italic}.mut.extra text {fill: hotpink}.mut line {fill: none; stroke: none}.mut .sym {fill: none; stroke: red}.mut.extra .sym {stroke: hotpink}.node .mut .sym {stroke-width: 1.5px}.tree text, .tree-sequence text {dominant-baseline: central}.plotbox .lab.lft {text-anchor: end}.plotbox .lab.rgt {text-anchor: start}.node > .lab {font-size: 70%}.leaf > .lab {text-anchor: start; transform: rotate(90deg) translate(6px)}]]></style></defs><g class=\"tree-sequence\"><g class=\"background\"><path d=\"M56.8,0 l174.4,0 l0,138.2 l-26.8576,25 l0,5 l-147.542,0 l0,-5 l0,-25 l0,-138.2z\"/><path d=\"M231.2,0 l174.4,0 l0,138.2 l-55.808,25 l0,5 l-145.45,0 l0,-5 l26.8576,-25 l0,-138.2z\"/><path d=\"M405.6,0 l174.4,0 l0,138.2 l0,25 l0,5 l-230.208,0 l0,-5 l55.808,-25 l0,-138.2z\"/></g><g class=\"axes\"><g class=\"x-axis\"><g class=\"lab\" transform=\"translate(318.4,200)\"><text text-anchor=\"middle\">Genome position</text></g><line x1=\"56.8\" x2=\"580\" y1=\"163.2\" y2=\"163.2\"/><g class=\"tick\" transform=\"translate(56.8 163.2)\"><line x1=\"0\" x2=\"0\" y1=\"0\" y2=\"5\"/><g class=\"lab\" transform=\"translate(0,5)\"><text>0</text></g></g><g class=\"tick\" transform=\"translate(204.342 163.2)\"><line x1=\"0\" x2=\"0\" y1=\"0\" y2=\"5\"/><g class=\"lab\" transform=\"translate(0,5)\"><text>282</text></g></g><g class=\"tick\" transform=\"translate(349.792 163.2)\"><line x1=\"0\" x2=\"0\" y1=\"0\" y2=\"5\"/><g class=\"lab\" transform=\"translate(0,5)\"><text>560</text></g></g><g class=\"tick\" transform=\"translate(580 163.2)\"><line x1=\"0\" x2=\"0\" y1=\"0\" y2=\"5\"/><g class=\"lab\" transform=\"translate(0,5)\"><text>1000</text></g></g><g class=\"site s0\" transform=\"translate(191.262 163.2)\"><line class=\"sym\" x1=\"0\" x2=\"0\" y1=\"0\" y2=\"-10\"/><g class=\"mut m0\"><polyline class=\"sym\" points=\"2.5,-6.5 0,-1.5 -2.5,-6.5\"/></g></g></g><g class=\"y-axis\"><g class=\"lab\" transform=\"translate(0,65.7)\"><text text-anchor=\"middle\">Node time</text></g><line x1=\"56.8\" x2=\"56.8\" y1=\"121.4\" y2=\"10\"/><g class=\"tick\" transform=\"translate(56.8 121.4)\"><line class=\"grid\" x1=\"0\" x2=\"523.2\" y1=\"0\" y2=\"0\"/><line x1=\"0\" x2=\"-5\" y1=\"0\" y2=\"0\"/><g class=\"lab\" transform=\"translate(-5,0)\"><text text-anchor=\"end\">0.00</text></g></g><g class=\"tick\" transform=\"translate(56.8 105.633)\"><line class=\"grid\" x1=\"0\" x2=\"523.2\" y1=\"0\" y2=\"0\"/><line x1=\"0\" x2=\"-5\" y1=\"0\" y2=\"0\"/><g class=\"lab\" transform=\"translate(-5,0)\"><text text-anchor=\"end\">0.05</text></g></g><g class=\"tick\" transform=\"translate(56.8 89.8667)\"><line class=\"grid\" x1=\"0\" x2=\"523.2\" y1=\"0\" y2=\"0\"/><line x1=\"0\" x2=\"-5\" y1=\"0\" y2=\"0\"/><g class=\"lab\" transform=\"translate(-5,0)\"><text text-anchor=\"end\">0.16</text></g></g><g class=\"tick\" transform=\"translate(56.8 74.1)\"><line class=\"grid\" x1=\"0\" x2=\"523.2\" y1=\"0\" y2=\"0\"/><line x1=\"0\" x2=\"-5\" y1=\"0\" y2=\"0\"/><g class=\"lab\" transform=\"translate(-5,0)\"><text text-anchor=\"end\">0.46</text></g></g><g class=\"tick\" transform=\"translate(56.8 58.3333)\"><line class=\"grid\" x1=\"0\" x2=\"523.2\" y1=\"0\" y2=\"0\"/><line x1=\"0\" x2=\"-5\" y1=\"0\" y2=\"0\"/><g class=\"lab\" transform=\"translate(-5,0)\"><text text-anchor=\"end\">1.25</text></g></g><g class=\"tick\" transform=\"translate(56.8 42.5667)\"><line class=\"grid\" x1=\"0\" x2=\"523.2\" y1=\"0\" y2=\"0\"/><line x1=\"0\" x2=\"-5\" y1=\"0\" y2=\"0\"/><g class=\"lab\" transform=\"translate(-5,0)\"><text text-anchor=\"end\">2.53</text></g></g><g class=\"tick\" transform=\"translate(56.8 26.8)\"><line class=\"grid\" x1=\"0\" x2=\"523.2\" y1=\"0\" y2=\"0\"/><line x1=\"0\" x2=\"-5\" y1=\"0\" y2=\"0\"/><g class=\"lab\" transform=\"translate(-5,0)\"><text text-anchor=\"end\">4.07</text></g></g></g></g><g class=\"plotbox trees\"><g class=\"tree t0\" transform=\"translate(56.8 0)\"><g class=\"plotbox\"><g class=\"node n11 p0 root\" transform=\"translate(92.8 26.8)\"><g class=\"a11 m0 node n8 p0 s0\" transform=\"translate(33.6 47.3)\"><g class=\"a8 i2 leaf node n4 p0 sample\" transform=\"translate(16.8 47.3)\"><path class=\"edge\" d=\"M 0 0 V -47.3 H -16.8\"/><rect class=\"sym\" height=\"6\" width=\"6\" x=\"-3\" y=\"-3\"/><text class=\"lab\" transform=\"translate(0 11)\">4 (Cat)</text></g><g class=\"a8 node n6 p0\" transform=\"translate(-16.8 31.5333)\"><g class=\"a6 i1 leaf node n2 p0 sample\" transform=\"translate(-11.2 15.7667)\"><path class=\"edge\" d=\"M 0 0 V -15.7667 H 11.2\"/><rect class=\"sym\" height=\"6\" width=\"6\" x=\"-3\" y=\"-3\"/><text class=\"lab\" transform=\"translate(0 11)\">2 (Bob)</text></g><g class=\"a6 i2 leaf node n5 p0 sample\" transform=\"translate(11.2 15.7667)\"><path class=\"edge\" d=\"M 0 0 V -15.7667 H -11.2\"/><rect class=\"sym\" height=\"6\" width=\"6\" x=\"-3\" y=\"-3\"/><text class=\"lab\" transform=\"translate(0 11)\">5 (Cat)</text></g><path class=\"edge\" d=\"M 0 0 V -31.5333 H 16.8\"/><circle class=\"sym\" cx=\"0\" cy=\"0\" r=\"3\"/><text class=\"lab lft\" transform=\"translate(-3 -7.0)\">6</text></g><path class=\"edge\" d=\"M 0 0 V -47.3 H -33.6\"/><g class=\"mut m0 s0 unknown_time\" transform=\"translate(0 -23.65)\"><line x1=\"0\" x2=\"0\" y1=\"0\" y2=\"23.65\"/><path class=\"sym\" d=\"M -3,-3 l 6,6 M -3,3 l 6,-6\"/><text class=\"lab rgt\" transform=\"translate(5 0)\">0</text></g><circle class=\"sym\" cx=\"0\" cy=\"0\" r=\"3\"/><text class=\"lab rgt\" transform=\"translate(3 -7.0)\">8</text></g><g class=\"a11 node n10 p0\" transform=\"translate(-33.6 15.7667)\"><g class=\"a10 i1 leaf node n3 p0 sample\" transform=\"translate(16.8 78.8333)\"><path class=\"edge\" d=\"M 0 0 V -78.8333 H -16.8\"/><rect class=\"sym\" height=\"6\" width=\"6\" x=\"-3\" y=\"-3\"/><text class=\"lab\" transform=\"translate(0 11)\">3 (Bob)</text></g><g class=\"a10 node n7 p0\" transform=\"translate(-16.8 47.3)\"><g class=\"a7 i0 leaf node n0 p0 sample\" transform=\"translate(-11.2 31.5333)\"><path class=\"edge\" d=\"M 0 0 V -31.5333 H 11.2\"/><rect class=\"sym\" height=\"6\" width=\"6\" x=\"-3\" y=\"-3\"/><text class=\"lab\" transform=\"translate(0 11)\">0 (Ada)</text></g><g class=\"a7 i0 leaf node n1 p0 sample\" transform=\"translate(11.2 31.5333)\"><path class=\"edge\" d=\"M 0 0 V -31.5333 H -11.2\"/><rect class=\"sym\" height=\"6\" width=\"6\" x=\"-3\" y=\"-3\"/><text class=\"lab\" transform=\"translate(0 11)\">1 (Ada)</text></g><path class=\"edge\" d=\"M 0 0 V -47.3 H 16.8\"/><circle class=\"sym\" cx=\"0\" cy=\"0\" r=\"3\"/><text class=\"lab lft\" transform=\"translate(-3 -7.0)\">7</text></g><path class=\"edge\" d=\"M 0 0 V -15.7667 H 33.6\"/><circle class=\"sym\" cx=\"0\" cy=\"0\" r=\"3\"/><text class=\"lab lft\" transform=\"translate(-3 -7.0)\">10</text></g><circle class=\"sym\" cx=\"0\" cy=\"0\" r=\"3\"/><text class=\"lab\" transform=\"translate(0 -11)\">11</text></g></g></g><g class=\"tree t1\" transform=\"translate(231.2 0)\"><g class=\"plotbox\"><g class=\"node n10 p0 root\" transform=\"translate(83 42.5667)\"><g class=\"a10 node n7 p0\" transform=\"translate(-40.6 47.3)\"><g class=\"a7 i0 leaf node n0 p0 sample\" transform=\"translate(-11.2 31.5333)\"><path class=\"edge\" d=\"M 0 0 V -31.5333 H 11.2\"/><rect class=\"sym\" height=\"6\" width=\"6\" x=\"-3\" y=\"-3\"/><text class=\"lab\" transform=\"translate(0 11)\">0 (Ada)</text></g><g class=\"a7 i0 leaf node n1 p0 sample\" transform=\"translate(11.2 31.5333)\"><path class=\"edge\" d=\"M 0 0 V -31.5333 H -11.2\"/><rect class=\"sym\" height=\"6\" width=\"6\" x=\"-3\" y=\"-3\"/><text class=\"lab\" transform=\"translate(0 11)\">1 (Ada)</text></g><path class=\"edge\" d=\"M 0 0 V -47.3 H 40.6\"/><circle class=\"sym\" cx=\"0\" cy=\"0\" r=\"3\"/><text class=\"lab lft\" transform=\"translate(-3 -7.0)\">7</text></g><g class=\"a10 node n9 p0\" transform=\"translate(40.6 15.7667)\"><g class=\"a9 i1 leaf node n3 p0 sample\" transform=\"translate(19.6 63.0667)\"><path class=\"edge\" d=\"M 0 0 V -63.0667 H -19.6\"/><rect class=\"sym\" height=\"6\" width=\"6\" x=\"-3\" y=\"-3\"/><text class=\"lab\" transform=\"translate(0 11)\">3 (Bob)</text></g><g class=\"a9 node n8 p0\" transform=\"translate(-19.6 15.7667)\"><g class=\"a8 i2 leaf node n4 p0 sample\" transform=\"translate(16.8 47.3)\"><path class=\"edge\" d=\"M 0 0 V -47.3 H -16.8\"/><rect class=\"sym\" height=\"6\" width=\"6\" x=\"-3\" y=\"-3\"/><text class=\"lab\" transform=\"translate(0 11)\">4 (Cat)</text></g><g class=\"a8 node n6 p0\" transform=\"translate(-16.8 31.5333)\"><g class=\"a6 i1 leaf node n2 p0 sample\" transform=\"translate(-11.2 15.7667)\"><path class=\"edge\" d=\"M 0 0 V -15.7667 H 11.2\"/><rect class=\"sym\" height=\"6\" width=\"6\" x=\"-3\" y=\"-3\"/><text class=\"lab\" transform=\"translate(0 11)\">2 (Bob)</text></g><g class=\"a6 i2 leaf node n5 p0 sample\" transform=\"translate(11.2 15.7667)\"><path class=\"edge\" d=\"M 0 0 V -15.7667 H -11.2\"/><rect class=\"sym\" height=\"6\" width=\"6\" x=\"-3\" y=\"-3\"/><text class=\"lab\" transform=\"translate(0 11)\">5 (Cat)</text></g><path class=\"edge\" d=\"M 0 0 V -31.5333 H 16.8\"/><circle class=\"sym\" cx=\"0\" cy=\"0\" r=\"3\"/><text class=\"lab lft\" transform=\"translate(-3 -7.0)\">6</text></g><path class=\"edge\" d=\"M 0 0 V -15.7667 H 19.6\"/><circle class=\"sym\" cx=\"0\" cy=\"0\" r=\"3\"/><text class=\"lab lft\" transform=\"translate(-3 -7.0)\">8</text></g><path class=\"edge\" d=\"M 0 0 V -15.7667 H -40.6\"/><circle class=\"sym\" cx=\"0\" cy=\"0\" r=\"3\"/><text class=\"lab rgt\" transform=\"translate(3 -7.0)\">9</text></g><circle class=\"sym\" cx=\"0\" cy=\"0\" r=\"3\"/><text class=\"lab\" transform=\"translate(0 -11)\">10</text></g></g></g><g class=\"tree t2\" transform=\"translate(405.6 0)\"><g class=\"plotbox\"><g class=\"node n11 p0 root\" transform=\"translate(83 26.8)\"><g class=\"a11 node n7 p0\" transform=\"translate(-40.6 63.0667)\"><g class=\"a7 i0 leaf node n0 p0 sample\" transform=\"translate(-11.2 31.5333)\"><path class=\"edge\" d=\"M 0 0 V -31.5333 H 11.2\"/><rect class=\"sym\" height=\"6\" width=\"6\" x=\"-3\" y=\"-3\"/><text class=\"lab\" transform=\"translate(0 11)\">0 (Ada)</text></g><g class=\"a7 i0 leaf node n1 p0 sample\" transform=\"translate(11.2 31.5333)\"><path class=\"edge\" d=\"M 0 0 V -31.5333 H -11.2\"/><rect class=\"sym\" height=\"6\" width=\"6\" x=\"-3\" y=\"-3\"/><text class=\"lab\" transform=\"translate(0 11)\">1 (Ada)</text></g><path class=\"edge\" d=\"M 0 0 V -63.0667 H 40.6\"/><circle class=\"sym\" cx=\"0\" cy=\"0\" r=\"3\"/><text class=\"lab lft\" transform=\"translate(-3 -7.0)\">7</text></g><g class=\"a11 node n9 p0\" transform=\"translate(40.6 31.5333)\"><g class=\"a9 i1 leaf node n3 p0 sample\" transform=\"translate(19.6 63.0667)\"><path class=\"edge\" d=\"M 0 0 V -63.0667 H -19.6\"/><rect class=\"sym\" height=\"6\" width=\"6\" x=\"-3\" y=\"-3\"/><text class=\"lab\" transform=\"translate(0 11)\">3 (Bob)</text></g><g class=\"a9 node n8 p0\" transform=\"translate(-19.6 15.7667)\"><g class=\"a8 i2 leaf node n4 p0 sample\" transform=\"translate(16.8 47.3)\"><path class=\"edge\" d=\"M 0 0 V -47.3 H -16.8\"/><rect class=\"sym\" height=\"6\" width=\"6\" x=\"-3\" y=\"-3\"/><text class=\"lab\" transform=\"translate(0 11)\">4 (Cat)</text></g><g class=\"a8 node n6 p0\" transform=\"translate(-16.8 31.5333)\"><g class=\"a6 i1 leaf node n2 p0 sample\" transform=\"translate(-11.2 15.7667)\"><path class=\"edge\" d=\"M 0 0 V -15.7667 H 11.2\"/><rect class=\"sym\" height=\"6\" width=\"6\" x=\"-3\" y=\"-3\"/><text class=\"lab\" transform=\"translate(0 11)\">2 (Bob)</text></g><g class=\"a6 i2 leaf node n5 p0 sample\" transform=\"translate(11.2 15.7667)\"><path class=\"edge\" d=\"M 0 0 V -15.7667 H -11.2\"/><rect class=\"sym\" height=\"6\" width=\"6\" x=\"-3\" y=\"-3\"/><text class=\"lab\" transform=\"translate(0 11)\">5 (Cat)</text></g><path class=\"edge\" d=\"M 0 0 V -31.5333 H 16.8\"/><circle class=\"sym\" cx=\"0\" cy=\"0\" r=\"3\"/><text class=\"lab lft\" transform=\"translate(-3 -7.0)\">6</text></g><path class=\"edge\" d=\"M 0 0 V -15.7667 H 19.6\"/><circle class=\"sym\" cx=\"0\" cy=\"0\" r=\"3\"/><text class=\"lab lft\" transform=\"translate(-3 -7.0)\">8</text></g><path class=\"edge\" d=\"M 0 0 V -31.5333 H -40.6\"/><circle class=\"sym\" cx=\"0\" cy=\"0\" r=\"3\"/><text class=\"lab rgt\" transform=\"translate(3 -7.0)\">9</text></g><circle class=\"sym\" cx=\"0\" cy=\"0\" r=\"3\"/><text class=\"lab\" transform=\"translate(0 -11)\">11</text></g></g></g></g></g></svg>"
      ],
      "text/plain": [
       "<IPython.core.display.SVG object>"
      ]
     },
     "execution_count": 9,
     "metadata": {
      "filenames": {
       "image/svg+xml": "/home/runner/work/tutorials/tutorials/_build/jupyter_execute/basics_17_0.svg"
      }
     },
     "output_type": "execute_result"
    }
   ],
   "source": [
    "node_labels = {node.id: str(node.id) for node in ts.nodes()}\n",
    "for n in ts.samples():\n",
    "    node_labels[n] = f\"{n} ({ts.individual(ts.node(n).individual).metadata['name']})\"\n",
    "styles = (\n",
    "    \".node > .lab {font-size: 70%}\"\n",
    "    \".leaf > .lab {text-anchor: start; transform: rotate(90deg) translate(6px)}\"\n",
    ")\n",
    "SVG(ts.draw_svg(\n",
    "    node_labels=node_labels, style=styles, y_axis=True, y_gridlines=True, time_scale=\"rank\"))"
   ]
  },
  {
   "cell_type": "markdown",
   "id": "cd32f1b2",
   "metadata": {},
   "source": [
    "In the same way that nodes can be associated with a specific individual, nodes can also\n",
    "be associated with a larger _population_. In this example, there is only one population\n",
    "(to which all the nodes belong):"
   ]
  },
  {
   "cell_type": "code",
   "execution_count": 10,
   "id": "c6f5bd11",
   "metadata": {},
   "outputs": [
    {
     "name": "stdout",
     "output_type": "stream",
     "text": [
      "1 population(s) defined:\n",
      "* Population(id=0, metadata={'description': 'British from England and Scotland', 'name': 'GBR'})\n"
     ]
    }
   ],
   "source": [
    "print(f\"{ts.num_populations} population(s) defined:\")\n",
    "for population in ts.populations():\n",
    "    print(\"*\", population)"
   ]
  },
  {
   "cell_type": "markdown",
   "id": "9947f2fa",
   "metadata": {},
   "source": [
    "### Mutations and sites\n",
    "\n",
    "In {program}`tskit`, _mutations_ occur at specific, defined _sites_. A mutation is\n",
    "positioned above a particular node (specified by the node ID), occurs at a particular\n",
    "site (specified by a site ID), and involves a change of allelic state to a defined\n",
    "{attr}`~Mutation.derived_state`. A mutation therefore can be specified something like\n",
    "this:"
   ]
  },
  {
   "cell_type": "code",
   "execution_count": 11,
   "id": "8c8f4839",
   "metadata": {},
   "outputs": [
    {
     "name": "stdout",
     "output_type": "stream",
     "text": [
      "1 mutation(s) in the tree sequence:\n",
      "* Mutation(id=0, site=0, node=8, derived_state='G', parent=-1, metadata=b'', time=nan)\n"
     ]
    }
   ],
   "source": [
    "print(f\"{ts.num_mutations} mutation(s) in the tree sequence:\")\n",
    "for mutation in ts.mutations():\n",
    "    print(\"*\", mutation)"
   ]
  },
  {
   "cell_type": "markdown",
   "id": "5b854bed",
   "metadata": {},
   "source": [
    "The mutation can have a {attr}`~Mutation.time` or if, as in this case, the times of\n",
    "mutations in the tree sequence are unknown, all mutations can have the special NaN value\n",
    "``tskit.UNKNOWN_TIME``. Notice that the genomic position of the mutation is not included.\n",
    "Instead, that is a property of the _site_ to which the mutation refers, in this case,\n",
    "site ID 0 (which happens to be at position 257):"
   ]
  },
  {
   "cell_type": "code",
   "execution_count": 12,
   "id": "36d61e9a",
   "metadata": {},
   "outputs": [
    {
     "name": "stdout",
     "output_type": "stream",
     "text": [
      "Site(id=0, position=257.0, ancestral_state='T', mutations=[Mutation(id=0, site=0, node=8, derived_state='G', parent=-1, metadata=b'', time=nan)], metadata=b'')\n"
     ]
    }
   ],
   "source": [
    "print(ts.site(0))  # For convenience, the Python API returns the mutations at this site too"
   ]
  },
  {
   "cell_type": "markdown",
   "id": "efdaaea4",
   "metadata": {},
   "source": [
    "In the plot above, since the the only mutation is above node 8 and has a\n",
    "{attr}`~Mutation.derived_state` of \"G\", we know that the samples descending from node\n",
    "8 in the first tree (sample genomes 2, 4, and 5) have a \"G\" at {attr}`~Site.position` 257,\n",
    "while the others have the {attr}`~Site.ancestral_state` of \"T\". This means that Ada is\n",
    "homozygous for \"T\", Bob is heterozygous \"T|G\", and Cat is homozygous for \"G\".\n",
    "In other words the ancestral state and the details of any mutations at that site,\n",
    "when coupled with the tree topology at the site {attr}`~Site.position` is sufficient to\n",
    "define the allelic state possessed by each sample.\n",
    "\n",
    "Note that even though the genome is 1000 base pairs long, the tree sequence only contains\n",
    "a single site, because we usually only bother defining *variable* sites in a tree\n",
    "sequence (e.g. positions seen in studies to have samples possessing different alleles at\n",
    "that genomic location). It is perfectly possible to have a site with no mutations\n",
    "(or silent mutations) --- i.e. a \"monomorphic\" site --- but such sites are not normally\n",
    "used in further analysis.\n",
    "\n",
    "### Provenance\n",
    "\n",
    ":::{todo}\n",
    "What is provenance\n",
    ":::\n",
    "\n",
    "\n",
    "## Concepts\n",
    "\n",
    "There are some basic population genetic concepts which can be helpful with thinking about\n",
    "tree sequences. For reference, here is the tree sequence topology that we have been using:"
   ]
  },
  {
   "cell_type": "code",
   "execution_count": 13,
   "id": "e1a82b4b",
   "metadata": {
    "tags": [
     "hide-input"
    ]
   },
   "outputs": [
    {
     "data": {
      "image/svg+xml": [
       "<svg xmlns=\"http://www.w3.org/2000/svg\" xmlns:ev=\"http://www.w3.org/2001/xml-events\" xmlns:xlink=\"http://www.w3.org/1999/xlink\" baseProfile=\"full\" height=\"200\" version=\"1.1\" width=\"600\"><defs><style type=\"text/css\"><![CDATA[.background path {fill: #808080; fill-opacity:0}.background path:nth-child(odd) {fill-opacity:.1}.axes {font-size: 14px}.x-axis .tick .lab {font-weight: bold}.axes, .tree {font-size: 14px; text-anchor:middle}.y-axis line.grid {stroke: #FAFAFA}.y-axis > .lab text {transform: translateX(0.8em) rotate(-90deg)}.x-axis .tick g {transform: translateY(0.9em)}.x-axis > .lab text {transform: translateY(-0.8em)}.axes line, .edge {stroke:black; fill:none}.node > .sym {fill: black; stroke: none}.site > .sym {stroke: black}.mut text {fill: red; font-style: italic}.mut.extra text {fill: hotpink}.mut line {fill: none; stroke: none}.mut .sym {fill: none; stroke: red}.mut.extra .sym {stroke: hotpink}.node .mut .sym {stroke-width: 1.5px}.tree text, .tree-sequence text {dominant-baseline: central}.plotbox .lab.lft {text-anchor: end}.plotbox .lab.rgt {text-anchor: start}.mut {display: none}]]></style></defs><g class=\"tree-sequence\"><g class=\"background\"><path d=\"M56.8,0 l174.4,0 l0,138.2 l-26.8576,25 l0,5 l-147.542,0 l0,-5 l0,-25 l0,-138.2z\"/><path d=\"M231.2,0 l174.4,0 l0,138.2 l-55.808,25 l0,5 l-145.45,0 l0,-5 l26.8576,-25 l0,-138.2z\"/><path d=\"M405.6,0 l174.4,0 l0,138.2 l0,25 l0,5 l-230.208,0 l0,-5 l55.808,-25 l0,-138.2z\"/></g><g class=\"axes\"><g class=\"x-axis\"><g class=\"lab\" transform=\"translate(318.4,200)\"><text text-anchor=\"middle\">Genome position</text></g><line x1=\"56.8\" x2=\"580\" y1=\"163.2\" y2=\"163.2\"/><g class=\"tick\" transform=\"translate(56.8 163.2)\"><line x1=\"0\" x2=\"0\" y1=\"0\" y2=\"5\"/><g class=\"lab\" transform=\"translate(0,5)\"><text>0</text></g></g><g class=\"tick\" transform=\"translate(204.342 163.2)\"><line x1=\"0\" x2=\"0\" y1=\"0\" y2=\"5\"/><g class=\"lab\" transform=\"translate(0,5)\"><text>282</text></g></g><g class=\"tick\" transform=\"translate(349.792 163.2)\"><line x1=\"0\" x2=\"0\" y1=\"0\" y2=\"5\"/><g class=\"lab\" transform=\"translate(0,5)\"><text>560</text></g></g><g class=\"tick\" transform=\"translate(580 163.2)\"><line x1=\"0\" x2=\"0\" y1=\"0\" y2=\"5\"/><g class=\"lab\" transform=\"translate(0,5)\"><text>1000</text></g></g><g class=\"site s0\" transform=\"translate(191.262 163.2)\"><line class=\"sym\" x1=\"0\" x2=\"0\" y1=\"0\" y2=\"-10\"/><g class=\"mut m0\"><polyline class=\"sym\" points=\"2.5,-6.5 0,-1.5 -2.5,-6.5\"/></g></g></g><g class=\"y-axis\"><g class=\"lab\" transform=\"translate(0,65.7)\"><text text-anchor=\"middle\">Node time</text></g><line x1=\"56.8\" x2=\"56.8\" y1=\"121.4\" y2=\"10\"/><g class=\"tick\" transform=\"translate(56.8 121.4)\"><line class=\"grid\" x1=\"0\" x2=\"523.2\" y1=\"0\" y2=\"0\"/><line x1=\"0\" x2=\"-5\" y1=\"0\" y2=\"0\"/><g class=\"lab\" transform=\"translate(-5,0)\"><text text-anchor=\"end\">0.00</text></g></g><g class=\"tick\" transform=\"translate(56.8 105.633)\"><line class=\"grid\" x1=\"0\" x2=\"523.2\" y1=\"0\" y2=\"0\"/><line x1=\"0\" x2=\"-5\" y1=\"0\" y2=\"0\"/><g class=\"lab\" transform=\"translate(-5,0)\"><text text-anchor=\"end\">0.05</text></g></g><g class=\"tick\" transform=\"translate(56.8 89.8667)\"><line class=\"grid\" x1=\"0\" x2=\"523.2\" y1=\"0\" y2=\"0\"/><line x1=\"0\" x2=\"-5\" y1=\"0\" y2=\"0\"/><g class=\"lab\" transform=\"translate(-5,0)\"><text text-anchor=\"end\">0.16</text></g></g><g class=\"tick\" transform=\"translate(56.8 74.1)\"><line class=\"grid\" x1=\"0\" x2=\"523.2\" y1=\"0\" y2=\"0\"/><line x1=\"0\" x2=\"-5\" y1=\"0\" y2=\"0\"/><g class=\"lab\" transform=\"translate(-5,0)\"><text text-anchor=\"end\">0.46</text></g></g><g class=\"tick\" transform=\"translate(56.8 58.3333)\"><line class=\"grid\" x1=\"0\" x2=\"523.2\" y1=\"0\" y2=\"0\"/><line x1=\"0\" x2=\"-5\" y1=\"0\" y2=\"0\"/><g class=\"lab\" transform=\"translate(-5,0)\"><text text-anchor=\"end\">1.25</text></g></g><g class=\"tick\" transform=\"translate(56.8 42.5667)\"><line class=\"grid\" x1=\"0\" x2=\"523.2\" y1=\"0\" y2=\"0\"/><line x1=\"0\" x2=\"-5\" y1=\"0\" y2=\"0\"/><g class=\"lab\" transform=\"translate(-5,0)\"><text text-anchor=\"end\">2.53</text></g></g><g class=\"tick\" transform=\"translate(56.8 26.8)\"><line class=\"grid\" x1=\"0\" x2=\"523.2\" y1=\"0\" y2=\"0\"/><line x1=\"0\" x2=\"-5\" y1=\"0\" y2=\"0\"/><g class=\"lab\" transform=\"translate(-5,0)\"><text text-anchor=\"end\">4.07</text></g></g></g></g><g class=\"plotbox trees\"><g class=\"tree t0\" transform=\"translate(56.8 0)\"><g class=\"plotbox\"><g class=\"node n11 p0 root\" transform=\"translate(92.8 26.8)\"><g class=\"a11 m0 node n8 p0 s0\" transform=\"translate(33.6 47.3)\"><g class=\"a8 i2 leaf node n4 p0 sample\" transform=\"translate(16.8 47.3)\"><path class=\"edge\" d=\"M 0 0 V -47.3 H -16.8\"/><rect class=\"sym\" height=\"6\" width=\"6\" x=\"-3\" y=\"-3\"/><text class=\"lab\" transform=\"translate(0 11)\">4</text></g><g class=\"a8 node n6 p0\" transform=\"translate(-16.8 31.5333)\"><g class=\"a6 i1 leaf node n2 p0 sample\" transform=\"translate(-11.2 15.7667)\"><path class=\"edge\" d=\"M 0 0 V -15.7667 H 11.2\"/><rect class=\"sym\" height=\"6\" width=\"6\" x=\"-3\" y=\"-3\"/><text class=\"lab\" transform=\"translate(0 11)\">2</text></g><g class=\"a6 i2 leaf node n5 p0 sample\" transform=\"translate(11.2 15.7667)\"><path class=\"edge\" d=\"M 0 0 V -15.7667 H -11.2\"/><rect class=\"sym\" height=\"6\" width=\"6\" x=\"-3\" y=\"-3\"/><text class=\"lab\" transform=\"translate(0 11)\">5</text></g><path class=\"edge\" d=\"M 0 0 V -31.5333 H 16.8\"/><circle class=\"sym\" cx=\"0\" cy=\"0\" r=\"3\"/><text class=\"lab lft\" transform=\"translate(-3 -7.0)\">6</text></g><path class=\"edge\" d=\"M 0 0 V -47.3 H -33.6\"/><g class=\"mut m0 s0 unknown_time\" transform=\"translate(0 -23.65)\"><line x1=\"0\" x2=\"0\" y1=\"0\" y2=\"23.65\"/><path class=\"sym\" d=\"M -3,-3 l 6,6 M -3,3 l 6,-6\"/><text class=\"lab rgt\" transform=\"translate(5 0)\">0</text></g><circle class=\"sym\" cx=\"0\" cy=\"0\" r=\"3\"/><text class=\"lab rgt\" transform=\"translate(3 -7.0)\">8</text></g><g class=\"a11 node n10 p0\" transform=\"translate(-33.6 15.7667)\"><g class=\"a10 i1 leaf node n3 p0 sample\" transform=\"translate(16.8 78.8333)\"><path class=\"edge\" d=\"M 0 0 V -78.8333 H -16.8\"/><rect class=\"sym\" height=\"6\" width=\"6\" x=\"-3\" y=\"-3\"/><text class=\"lab\" transform=\"translate(0 11)\">3</text></g><g class=\"a10 node n7 p0\" transform=\"translate(-16.8 47.3)\"><g class=\"a7 i0 leaf node n0 p0 sample\" transform=\"translate(-11.2 31.5333)\"><path class=\"edge\" d=\"M 0 0 V -31.5333 H 11.2\"/><rect class=\"sym\" height=\"6\" width=\"6\" x=\"-3\" y=\"-3\"/><text class=\"lab\" transform=\"translate(0 11)\">0</text></g><g class=\"a7 i0 leaf node n1 p0 sample\" transform=\"translate(11.2 31.5333)\"><path class=\"edge\" d=\"M 0 0 V -31.5333 H -11.2\"/><rect class=\"sym\" height=\"6\" width=\"6\" x=\"-3\" y=\"-3\"/><text class=\"lab\" transform=\"translate(0 11)\">1</text></g><path class=\"edge\" d=\"M 0 0 V -47.3 H 16.8\"/><circle class=\"sym\" cx=\"0\" cy=\"0\" r=\"3\"/><text class=\"lab lft\" transform=\"translate(-3 -7.0)\">7</text></g><path class=\"edge\" d=\"M 0 0 V -15.7667 H 33.6\"/><circle class=\"sym\" cx=\"0\" cy=\"0\" r=\"3\"/><text class=\"lab lft\" transform=\"translate(-3 -7.0)\">10</text></g><circle class=\"sym\" cx=\"0\" cy=\"0\" r=\"3\"/><text class=\"lab\" transform=\"translate(0 -11)\">11</text></g></g></g><g class=\"tree t1\" transform=\"translate(231.2 0)\"><g class=\"plotbox\"><g class=\"node n10 p0 root\" transform=\"translate(83 42.5667)\"><g class=\"a10 node n7 p0\" transform=\"translate(-40.6 47.3)\"><g class=\"a7 i0 leaf node n0 p0 sample\" transform=\"translate(-11.2 31.5333)\"><path class=\"edge\" d=\"M 0 0 V -31.5333 H 11.2\"/><rect class=\"sym\" height=\"6\" width=\"6\" x=\"-3\" y=\"-3\"/><text class=\"lab\" transform=\"translate(0 11)\">0</text></g><g class=\"a7 i0 leaf node n1 p0 sample\" transform=\"translate(11.2 31.5333)\"><path class=\"edge\" d=\"M 0 0 V -31.5333 H -11.2\"/><rect class=\"sym\" height=\"6\" width=\"6\" x=\"-3\" y=\"-3\"/><text class=\"lab\" transform=\"translate(0 11)\">1</text></g><path class=\"edge\" d=\"M 0 0 V -47.3 H 40.6\"/><circle class=\"sym\" cx=\"0\" cy=\"0\" r=\"3\"/><text class=\"lab lft\" transform=\"translate(-3 -7.0)\">7</text></g><g class=\"a10 node n9 p0\" transform=\"translate(40.6 15.7667)\"><g class=\"a9 i1 leaf node n3 p0 sample\" transform=\"translate(19.6 63.0667)\"><path class=\"edge\" d=\"M 0 0 V -63.0667 H -19.6\"/><rect class=\"sym\" height=\"6\" width=\"6\" x=\"-3\" y=\"-3\"/><text class=\"lab\" transform=\"translate(0 11)\">3</text></g><g class=\"a9 node n8 p0\" transform=\"translate(-19.6 15.7667)\"><g class=\"a8 i2 leaf node n4 p0 sample\" transform=\"translate(16.8 47.3)\"><path class=\"edge\" d=\"M 0 0 V -47.3 H -16.8\"/><rect class=\"sym\" height=\"6\" width=\"6\" x=\"-3\" y=\"-3\"/><text class=\"lab\" transform=\"translate(0 11)\">4</text></g><g class=\"a8 node n6 p0\" transform=\"translate(-16.8 31.5333)\"><g class=\"a6 i1 leaf node n2 p0 sample\" transform=\"translate(-11.2 15.7667)\"><path class=\"edge\" d=\"M 0 0 V -15.7667 H 11.2\"/><rect class=\"sym\" height=\"6\" width=\"6\" x=\"-3\" y=\"-3\"/><text class=\"lab\" transform=\"translate(0 11)\">2</text></g><g class=\"a6 i2 leaf node n5 p0 sample\" transform=\"translate(11.2 15.7667)\"><path class=\"edge\" d=\"M 0 0 V -15.7667 H -11.2\"/><rect class=\"sym\" height=\"6\" width=\"6\" x=\"-3\" y=\"-3\"/><text class=\"lab\" transform=\"translate(0 11)\">5</text></g><path class=\"edge\" d=\"M 0 0 V -31.5333 H 16.8\"/><circle class=\"sym\" cx=\"0\" cy=\"0\" r=\"3\"/><text class=\"lab lft\" transform=\"translate(-3 -7.0)\">6</text></g><path class=\"edge\" d=\"M 0 0 V -15.7667 H 19.6\"/><circle class=\"sym\" cx=\"0\" cy=\"0\" r=\"3\"/><text class=\"lab lft\" transform=\"translate(-3 -7.0)\">8</text></g><path class=\"edge\" d=\"M 0 0 V -15.7667 H -40.6\"/><circle class=\"sym\" cx=\"0\" cy=\"0\" r=\"3\"/><text class=\"lab rgt\" transform=\"translate(3 -7.0)\">9</text></g><circle class=\"sym\" cx=\"0\" cy=\"0\" r=\"3\"/><text class=\"lab\" transform=\"translate(0 -11)\">10</text></g></g></g><g class=\"tree t2\" transform=\"translate(405.6 0)\"><g class=\"plotbox\"><g class=\"node n11 p0 root\" transform=\"translate(83 26.8)\"><g class=\"a11 node n7 p0\" transform=\"translate(-40.6 63.0667)\"><g class=\"a7 i0 leaf node n0 p0 sample\" transform=\"translate(-11.2 31.5333)\"><path class=\"edge\" d=\"M 0 0 V -31.5333 H 11.2\"/><rect class=\"sym\" height=\"6\" width=\"6\" x=\"-3\" y=\"-3\"/><text class=\"lab\" transform=\"translate(0 11)\">0</text></g><g class=\"a7 i0 leaf node n1 p0 sample\" transform=\"translate(11.2 31.5333)\"><path class=\"edge\" d=\"M 0 0 V -31.5333 H -11.2\"/><rect class=\"sym\" height=\"6\" width=\"6\" x=\"-3\" y=\"-3\"/><text class=\"lab\" transform=\"translate(0 11)\">1</text></g><path class=\"edge\" d=\"M 0 0 V -63.0667 H 40.6\"/><circle class=\"sym\" cx=\"0\" cy=\"0\" r=\"3\"/><text class=\"lab lft\" transform=\"translate(-3 -7.0)\">7</text></g><g class=\"a11 node n9 p0\" transform=\"translate(40.6 31.5333)\"><g class=\"a9 i1 leaf node n3 p0 sample\" transform=\"translate(19.6 63.0667)\"><path class=\"edge\" d=\"M 0 0 V -63.0667 H -19.6\"/><rect class=\"sym\" height=\"6\" width=\"6\" x=\"-3\" y=\"-3\"/><text class=\"lab\" transform=\"translate(0 11)\">3</text></g><g class=\"a9 node n8 p0\" transform=\"translate(-19.6 15.7667)\"><g class=\"a8 i2 leaf node n4 p0 sample\" transform=\"translate(16.8 47.3)\"><path class=\"edge\" d=\"M 0 0 V -47.3 H -16.8\"/><rect class=\"sym\" height=\"6\" width=\"6\" x=\"-3\" y=\"-3\"/><text class=\"lab\" transform=\"translate(0 11)\">4</text></g><g class=\"a8 node n6 p0\" transform=\"translate(-16.8 31.5333)\"><g class=\"a6 i1 leaf node n2 p0 sample\" transform=\"translate(-11.2 15.7667)\"><path class=\"edge\" d=\"M 0 0 V -15.7667 H 11.2\"/><rect class=\"sym\" height=\"6\" width=\"6\" x=\"-3\" y=\"-3\"/><text class=\"lab\" transform=\"translate(0 11)\">2</text></g><g class=\"a6 i2 leaf node n5 p0 sample\" transform=\"translate(11.2 15.7667)\"><path class=\"edge\" d=\"M 0 0 V -15.7667 H -11.2\"/><rect class=\"sym\" height=\"6\" width=\"6\" x=\"-3\" y=\"-3\"/><text class=\"lab\" transform=\"translate(0 11)\">5</text></g><path class=\"edge\" d=\"M 0 0 V -31.5333 H 16.8\"/><circle class=\"sym\" cx=\"0\" cy=\"0\" r=\"3\"/><text class=\"lab lft\" transform=\"translate(-3 -7.0)\">6</text></g><path class=\"edge\" d=\"M 0 0 V -15.7667 H 19.6\"/><circle class=\"sym\" cx=\"0\" cy=\"0\" r=\"3\"/><text class=\"lab lft\" transform=\"translate(-3 -7.0)\">8</text></g><path class=\"edge\" d=\"M 0 0 V -31.5333 H -40.6\"/><circle class=\"sym\" cx=\"0\" cy=\"0\" r=\"3\"/><text class=\"lab rgt\" transform=\"translate(3 -7.0)\">9</text></g><circle class=\"sym\" cx=\"0\" cy=\"0\" r=\"3\"/><text class=\"lab\" transform=\"translate(0 -11)\">11</text></g></g></g></g></g></svg>"
      ],
      "text/plain": [
       "<IPython.core.display.SVG object>"
      ]
     },
     "execution_count": 13,
     "metadata": {
      "filenames": {
       "image/svg+xml": "/home/runner/work/tutorials/tutorials/_build/jupyter_execute/basics_25_0.svg"
      }
     },
     "output_type": "execute_result"
    }
   ],
   "source": [
    "from IPython.display import SVG\n",
    "SVG(ts.draw_svg(y_axis=True, y_gridlines=True, time_scale=\"rank\", style=\".mut {display: none}\"))"
   ]
  },
  {
   "cell_type": "markdown",
   "id": "a45e19a8",
   "metadata": {},
   "source": [
    "### Tree changes, ancestral recombinations, and SPRs\n",
    "\n",
    "Note that adjacent trees in this tree sequence differ by a single \"tree edit\" or SPR\n",
    "(subtree-prune-and-regraft) operation: the subtree defined by node 8 in the first\n",
    "tree has been pruned and regrafted onto the branch from 10 to 3, to create the\n",
    "second tree.\n",
    "\n",
    "The second and third trees have the same topology, but differ because their\n",
    "ultimate coalesence happened in a different ancestor (this is easy to see in a simulation,\n",
    "but hard to detect in real data). The SPR that created the third tree must involve pruning\n",
    "either the subtree below node 7 or the subtree below node 9 and grafted it higher up on\n",
    "the same lineage. In this case it turns out to be impossible to tell just from the tree\n",
    "sequence which of those two SPRs actually happened in the simulation.\n",
    "\n",
    "In general, each detectable recombination occurring in ancestral history results in a\n",
    "single SPR in the tree sequence. If recombination breakpoints occurs at unique\n",
    "positions (an \"infinite sites\" model of breakpoints), then the number of trees in a tree\n",
    "sequence equals the number of ancestral recombination events plus one. If recombinations\n",
    "can occur at the same physical position (e.g. if the genome is treated as a set of discrete\n",
    "integer positions, as in the simulation that created this tree sequence) then moving from \n",
    "ne tree to the next in a tree sequence might require multiple SPRs, because there are\n",
    "multiple, overlaid ancestral recombination events.\n",
    "\n",
    "### Tree sequences and ARGs\n",
    "\n",
    "Much of the literature on ancestral inference concentrates on the Ancestral Recombination\n",
    "Graph, or ARG, in which details of the position and potentially the timing of\n",
    "recombination events are explictly stored. Although a tree sequence can represent an ARG,\n",
    "by incorporating nodes that represent recombination events, this is not normally done for\n",
    "two reasons:\n",
    "\n",
    "1. Many recombination events are undetectable from sequence data, and even if they are\n",
    "   detectable, they can be logically impossible to place in the genealogy (as in the\n",
    "   second SPR example above).\n",
    "2. The number of recombination events in the genealogy can grow to dominate the total\n",
    "   number of nodes in the total tree sequence, without actually contributing to the\n",
    "   realised sequences in the samples. In other words, recombination nodes are redundant\n",
    "   to the storing of genome data.\n",
    "\n",
    "In other words, compared to an ARG, a standard tree sequence simply stores the trees\n",
    "created by recombination events, rather than attempting to record the recombination\n",
    "events themselves. Many (but as we have seen, not all) details of the actual\n",
    "recombination events can be inferred from the changes in edges along a tree sequence.\n",
    "In other words\n",
    "\n",
    "> \"an ARG encodes the events that occurred in the history of a sample,\n",
    "> whereas a tree sequence encodes the outcome of those events\"\n",
    "> ([Kelleher _et al._, 2019](https://doi.org/10.1534/genetics.120.303253))\n",
    "\n",
    ":::{todo}\n",
    "Link to the ARG tutorial: https://github.com/tskit-dev/tutorials/issues/43\n",
    ":::\n",
    "\n",
    "\n",
    "### Tables\n",
    "\n",
    ":::{todo}\n",
    "The underlying data in a tree sequence is stored of as a set of tables. The API\n",
    "for dealing with a tree sequence as a collection of tables is sometimes useful,\n",
    "especially if you want to edit an existing tree sequence: more details in the\n",
    "{ref}`sec_data_structures` tutorial.\n",
    ":::"
   ]
  }
 ],
 "metadata": {
  "jupytext": {
   "text_representation": {
    "extension": ".md",
    "format_name": "myst",
    "format_version": 0.12,
    "jupytext_version": "1.9.1"
   }
  },
  "kernelspec": {
   "display_name": "Python 3",
   "language": "python",
   "name": "python3"
  },
  "language_info": {
   "codemirror_mode": {
    "name": "ipython",
    "version": 3
   },
   "file_extension": ".py",
   "mimetype": "text/x-python",
   "name": "python",
   "nbconvert_exporter": "python",
   "pygments_lexer": "ipython3",
   "version": "3.8.10"
  },
  "source_map": [
   12,
   17,
   49,
   66,
   70,
   81,
   83,
   87,
   91,
   120,
   122,
   137,
   139,
   167,
   169,
   191,
   195,
   201,
   212,
   218,
   222,
   233,
   237,
   245,
   247,
   277,
   281
  ]
 },
 "nbformat": 4,
 "nbformat_minor": 5
}