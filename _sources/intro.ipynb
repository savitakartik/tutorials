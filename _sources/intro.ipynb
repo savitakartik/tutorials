{
 "cells": [
  {
   "cell_type": "markdown",
   "id": "1dbdf116",
   "metadata": {},
   "source": [
    "(sec_intro)=\n",
    "\n",
    "# Tree sequence tutorials\n",
    "\n",
    "**Welcome!**\n",
    "\n",
    "This site contains a number of tutorials to develop your understanding of\n",
    "[tree sequences](https://tskit.dev/learn.html#what) and software programs,\n",
    "such as [msprime](https://tskit.dev/msprime), that use them.\n",
    "\n",
    "If you are new to the world of tree sequences, we suggest you start with the\n",
    "first tutorial: {ref}`sec_what_is`\n",
    "\n",
    "We aim to be a friendly, welcoming open source community.\n",
    "Questions and discussion about using {program}`tskit`, the tree sequence toolkit\n",
    "should be directed to the\n",
    "[GitHub discussion forum](https://github.com/tskit-dev/tskit/discussions), and there are\n",
    "similar forums for other software in the tree sequence [development community](https://github.com/tskit-dev),\n",
    "such as for [msprime](https://github.com/tskit-dev/msprime/discussions) and\n",
    "[tsinfer](https://github.com/tskit-dev/tsinfer/discussions).\n",
    "\n",
    ":::{note}\n",
    "Tutorials are under constant development. Those that are still a work in progress and\n",
    "not yet ready for use are shown in _italics_ in the list of tutorials.\n",
    "\n",
    "We very much welcome help developing existing tutorials or writing new ones. Please open\n",
    "or contribute to a [GitHub issue](https://github.com/tskit-dev/tutorials/issues) if you\n",
    "would like to help out.\n",
    ":::"
   ]
  }
 ],
 "metadata": {
  "jupytext": {
   "text_representation": {
    "extension": ".md",
    "format_name": "myst",
    "format_version": 0.12,
    "jupytext_version": "1.9.1"
   }
  },
  "kernelspec": {
   "display_name": "Python 3",
   "language": "python",
   "name": "python3"
  },
  "language_info": {
   "codemirror_mode": {
    "name": "ipython",
    "version": 3
   },
   "file_extension": ".py",
   "mimetype": "text/x-python",
   "name": "python",
   "nbconvert_exporter": "python",
   "pygments_lexer": "ipython3",
   "version": "3.8.10"
  },
  "source_map": [
   12
  ]
 },
 "nbformat": 4,
 "nbformat_minor": 5
}